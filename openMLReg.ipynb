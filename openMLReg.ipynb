{
 "cells": [
  {
   "cell_type": "code",
   "execution_count": null,
   "metadata": {
    "metadata": {}
   },
   "outputs": [],
   "source": [
    "from typing import Tuple, List, Union, Any, Optional, Dict, Literal, Callable\n",
    "import time\n",
    "import collections\n",
    "import os\n",
    "import sys\n",
    "sys.path.append(os.path.dirname(os.getcwd()))\n",
    "sys.path.append(os.path.dirname(os.path.dirname(os.getcwd())))\n",
    "\n",
    "from tqdm import tqdm\n",
    "import numpy as np\n",
    "import torch\n",
    "import torch.nn as nn\n",
    "from torch import Tensor, tensor\n",
    "import pandas as pd\n",
    "import openml\n",
    "\n",
    "from optuna_kfoldCV import evaluate_dataset_with_model, run_all_openML_with_model\n",
    "from regression_param_specs import evaluate_Ridge, evaluate_XGBoostRegressor\n",
    "\n",
    "np.set_printoptions(precision=3, threshold=5) # Print options"
   ]
  },
  {
   "cell_type": "markdown",
   "metadata": {},
   "source": [
    "# OpenML code"
   ]
  },
  {
   "cell_type": "code",
   "execution_count": null,
   "metadata": {},
   "outputs": [],
   "source": [
    "# Fetch the collection with ID 353\n",
    "collection = openml.study.get_suite(353)\n",
    "dataset_ids = collection.data\n",
    "metadata_list = []\n",
    "\n",
    "# Fetch and process each dataset\n",
    "for i, dataset_id in enumerate(dataset_ids):\n",
    "    dataset = openml.datasets.get_dataset(dataset_id)\n",
    "    X, y, categorical_indicator, attribute_names = dataset.get_data(\n",
    "        target=dataset.default_target_attribute\n",
    "    )\n",
    "\n",
    "    #count missing values in X\n",
    "    missing_values_count = X.isnull().sum().sum()\n",
    "    print(f\"Missing values in X: {missing_values_count}\")\n",
    "\n",
    "    X = np.array(X)\n",
    "    y = np.array(y)[..., None]\n",
    "    print(X.shape)\n",
    "    print(y.shape)\n",
    "    \n",
    "    # Determine if the dataset has categorical features\n",
    "    has_categorical = any(categorical_indicator)\n",
    "    \n",
    "    # Extract the required metadata\n",
    "    metadata = {\n",
    "        'dataset_id': dataset.id,\n",
    "        'name': dataset.name,\n",
    "        'n_obs': int(dataset.qualities['NumberOfInstances']),\n",
    "        'n_features': int(dataset.qualities['NumberOfFeatures']),\n",
    "        '%_unique_y': len(np.unique(y))/len(y),\n",
    "        'n_unique_y': len(np.unique(y)),\n",
    "        'has_categorical': has_categorical,\n",
    "        'n_missing_values': missing_values_count,\n",
    "    }\n",
    "    \n",
    "    metadata_list.append(metadata)\n",
    "    print(f\" {i+1}/{len(dataset_ids)} Processed dataset {dataset.id}: {dataset.name}\")\n",
    "\n",
    "# Create a DataFrame from the metadata list\n",
    "df_metadata = pd.DataFrame(metadata_list).sort_values('%_unique_y', ascending=False).set_index(\"dataset_id\").sort_index()\n",
    "df_metadata.sort_values('%_unique_y', ascending=True)\n",
    "\n",
    "# Display the metadata DataFrame\n",
    "df_metadata.loc[44962, \"has_categorical\"] = True\n",
    "df_metadata"
   ]
  },
  {
   "cell_type": "code",
   "execution_count": null,
   "metadata": {},
   "outputs": [],
   "source": [
    "dataset_ids_no_categorical = list(df_metadata.query(\"has_categorical == False\").index.values)\n",
    "dataset_ids_no_categorical = sorted([int(x) for x in dataset_ids_no_categorical])\n",
    "len(dataset_ids_no_categorical)\n",
    "dataset_ids_no_categorical"
   ]
  },
  {
   "cell_type": "markdown",
   "metadata": {},
   "source": [
    "# Run experiments (just for testing)"
   ]
  },
  {
   "cell_type": "code",
   "execution_count": null,
   "metadata": {},
   "outputs": [],
   "source": [
    "# run_all_openML_with_model(\n",
    "#     dataset_ids_no_categorical[0:2], \n",
    "#     evaluate_Ridge,\n",
    "#     name_model=\"Ridge\",\n",
    "#     k_folds=5,\n",
    "#     cv_seed=42,\n",
    "#     regression_or_classification=\"regression\",\n",
    "#     n_optuna_trials=2,\n",
    "#     device=\"cuda\",\n",
    "#     save_dir = \"/home/nikita/Code/zephyrox/pytorch_based/SWIM/save/\"\n",
    "# )"
   ]
  },
  {
   "cell_type": "markdown",
   "metadata": {},
   "source": [
    "-- models:::: End2End Ridge RidgeCV XGBoostRegressor GradientRFBoost GradientRFBoostID GreedyRFBoostDense GreedyRFBoostDiag GreedyRFBoostScalar\n"
   ]
  },
  {
   "cell_type": "code",
   "execution_count": null,
   "metadata": {},
   "outputs": [],
   "source": [
    "!python regression_param_specs.py --models End2End --save_dir /home/nikita/Code/random-feature-boosting/save/OpenMLRegression/ --n_optuna_trials 1 --device cuda --k_folds 2 --cv_seed 42 --save_experiments_individually"
   ]
  },
  {
   "cell_type": "code",
   "execution_count": null,
   "metadata": {},
   "outputs": [],
   "source": [
    "!python regression_param_specs.py --models Ridge RidgeCV --save_dir /home/nikita/Code/random-feature-boosting/save/OpenMLRegression/ --n_optuna_trials 1 --device cuda --k_folds 2 --cv_seed 42 --save_experiments_individually"
   ]
  },
  {
   "cell_type": "code",
   "execution_count": null,
   "metadata": {},
   "outputs": [],
   "source": [
    "!python regression_param_specs.py --models XGBoostRegressor --save_dir /home/nikita/Code/random-feature-boosting/save/OpenMLRegression/ --n_optuna_trials 1 --device cpu --k_folds 2 --cv_seed 42 --save_experiments_individually"
   ]
  },
  {
   "cell_type": "code",
   "execution_count": null,
   "metadata": {},
   "outputs": [],
   "source": [
    "!python regression_param_specs.py --models GradientRFBoost --save_dir /home/nikita/Code/random-feature-boosting/save/OpenMLRegression/ --n_optuna_trials 1 --device cuda --k_folds 2 --cv_seed 42 --save_experiments_individually"
   ]
  },
  {
   "cell_type": "code",
   "execution_count": null,
   "metadata": {},
   "outputs": [],
   "source": [
    "!python regression_param_specs.py --models GradientRFBoostID --save_dir /home/nikita/Code/random-feature-boosting/save/OpenMLRegression/ --n_optuna_trials 1 --device cuda --k_folds 2 --cv_seed 42 --save_experiments_individually"
   ]
  },
  {
   "cell_type": "code",
   "execution_count": null,
   "metadata": {},
   "outputs": [],
   "source": [
    "!python regression_param_specs.py --models GreedyRFBoostDense --save_dir /home/nikita/Code/random-feature-boosting/save/OpenMLRegression/ --n_optuna_trials 1 --device cuda --k_folds 2 --cv_seed 42 --save_experiments_individually"
   ]
  },
  {
   "cell_type": "code",
   "execution_count": 2,
   "metadata": {},
   "outputs": [
    {
     "name": "stdout",
     "output_type": "stream",
     "text": [
      "True\n",
      "\u001b[32m[I 2024-12-01 16:24:31,382]\u001b[0m A new study created in memory with name: no-name-6769f26b-adf5-4fc2-af2c-9c080e5e9c06\u001b[0m\n",
      "/home/nikita/Code/zephyrox/.conda/lib/python3.10/site-packages/optuna/distributions.py:693: UserWarning: The distribution is specified by [0.5, 1.001] and step=0.1, but the range is not divisible by `step`. It will be replaced by [0.5, 1.0].\n",
      "  warnings.warn(\n",
      "\u001b[32m[I 2024-12-01 16:24:31,608]\u001b[0m Trial 0 finished with value: 0.6560205221176147 and parameters: {'feature_type': 'SWIM', 'upscale': 'dense', 'sandwich_solver': 'diag', 'n_layers': 2, 'hidden_dim': 477, 'boost_lr': 0.5, 'l2_reg_sandwich': 0.09356956736095774}. Best is trial 0 with value: 0.6560205221176147.\u001b[0m\n",
      "\u001b[32m[I 2024-12-01 16:24:31,758]\u001b[0m A new study created in memory with name: no-name-8363b131-4ecc-481d-9634-d9169e712151\u001b[0m\n",
      "\u001b[32m[I 2024-12-01 16:24:31,807]\u001b[0m Trial 0 finished with value: 0.4598409831523895 and parameters: {'feature_type': 'SWIM', 'upscale': 'dense', 'sandwich_solver': 'diag', 'n_layers': 4, 'hidden_dim': 126, 'boost_lr': 0.6, 'l2_reg_sandwich': 0.001485980869766923}. Best is trial 0 with value: 0.4598409831523895.\u001b[0m\n",
      " 1/20 Processed dataset 44957\n",
      "\u001b[32m[I 2024-12-01 16:24:31,854]\u001b[0m A new study created in memory with name: no-name-b8115614-9ce2-431c-abec-c0cfc3b2c631\u001b[0m\n",
      "/home/nikita/Code/zephyrox/.conda/lib/python3.10/site-packages/optuna/distributions.py:693: UserWarning: The distribution is specified by [0.5, 1.001] and step=0.1, but the range is not divisible by `step`. It will be replaced by [0.5, 1.0].\n",
      "  warnings.warn(\n",
      "\u001b[32m[I 2024-12-01 16:24:31,897]\u001b[0m Trial 0 finished with value: 0.5016864389181137 and parameters: {'feature_type': 'SWIM', 'upscale': 'dense', 'sandwich_solver': 'diag', 'n_layers': 7, 'hidden_dim': 25, 'boost_lr': 0.9, 'l2_reg_sandwich': 2.187403982917524e-05}. Best is trial 0 with value: 0.5016864389181137.\u001b[0m\n",
      "\u001b[32m[I 2024-12-01 16:24:31,921]\u001b[0m A new study created in memory with name: no-name-a0c04df2-0070-449c-93e2-db04e04aff19\u001b[0m\n",
      "\u001b[32m[I 2024-12-01 16:24:31,978]\u001b[0m Trial 0 finished with value: 0.5413599908351898 and parameters: {'feature_type': 'SWIM', 'upscale': 'dense', 'sandwich_solver': 'diag', 'n_layers': 8, 'hidden_dim': 72, 'boost_lr': 0.8, 'l2_reg_sandwich': 0.0009984056084778106}. Best is trial 0 with value: 0.5413599908351898.\u001b[0m\n",
      " 2/20 Processed dataset 44959\n",
      "\u001b[32m[I 2024-12-01 16:24:32,023]\u001b[0m A new study created in memory with name: no-name-bc6309e7-79c7-468e-9f96-5d970a256f1d\u001b[0m\n",
      "/home/nikita/Code/zephyrox/.conda/lib/python3.10/site-packages/optuna/distributions.py:693: UserWarning: The distribution is specified by [0.5, 1.001] and step=0.1, but the range is not divisible by `step`. It will be replaced by [0.5, 1.0].\n",
      "  warnings.warn(\n",
      "\u001b[32m[I 2024-12-01 16:24:32,113]\u001b[0m Trial 0 finished with value: 0.293490007519722 and parameters: {'feature_type': 'SWIM', 'upscale': 'dense', 'sandwich_solver': 'diag', 'n_layers': 8, 'hidden_dim': 167, 'boost_lr': 0.9, 'l2_reg_sandwich': 0.15859551539430658}. Best is trial 0 with value: 0.293490007519722.\u001b[0m\n",
      "\u001b[32m[I 2024-12-01 16:24:32,176]\u001b[0m A new study created in memory with name: no-name-4bab9c76-4db1-4c78-9473-a38c5d65df17\u001b[0m\n",
      "\u001b[32m[I 2024-12-01 16:24:32,208]\u001b[0m Trial 0 finished with value: 0.2021118924021721 and parameters: {'feature_type': 'SWIM', 'upscale': 'dense', 'sandwich_solver': 'diag', 'n_layers': 5, 'hidden_dim': 77, 'boost_lr': 1.0, 'l2_reg_sandwich': 0.00010313216757369867}. Best is trial 0 with value: 0.2021118924021721.\u001b[0m\n",
      " 3/20 Processed dataset 44960\n",
      "\u001b[32m[I 2024-12-01 16:24:32,255]\u001b[0m A new study created in memory with name: no-name-a80fa869-80bb-4997-87ad-763bf880de4c\u001b[0m\n",
      "/home/nikita/Code/zephyrox/.conda/lib/python3.10/site-packages/optuna/distributions.py:693: UserWarning: The distribution is specified by [0.5, 1.001] and step=0.1, but the range is not divisible by `step`. It will be replaced by [0.5, 1.0].\n",
      "  warnings.warn(\n",
      "\u001b[32m[I 2024-12-01 16:24:33,870]\u001b[0m Trial 0 finished with value: 0.76567143201828 and parameters: {'feature_type': 'SWIM', 'upscale': 'dense', 'sandwich_solver': 'diag', 'n_layers': 5, 'hidden_dim': 202, 'boost_lr': 1.0, 'l2_reg_sandwich': 2.281278601463823e-05}. Best is trial 0 with value: 0.76567143201828.\u001b[0m\n",
      "\u001b[32m[I 2024-12-01 16:24:35,841]\u001b[0m A new study created in memory with name: no-name-c18b78f1-6cd0-442f-af0f-aa68d7dc6c36\u001b[0m\n",
      "\u001b[32m[I 2024-12-01 16:24:37,327]\u001b[0m Trial 0 finished with value: 0.7923544943332672 and parameters: {'feature_type': 'SWIM', 'upscale': 'dense', 'sandwich_solver': 'diag', 'n_layers': 10, 'hidden_dim': 107, 'boost_lr': 0.8, 'l2_reg_sandwich': 0.015062287540763468}. Best is trial 0 with value: 0.7923544943332672.\u001b[0m\n",
      " 4/20 Processed dataset 44963\n",
      "\u001b[32m[I 2024-12-01 16:24:39,558]\u001b[0m A new study created in memory with name: no-name-9b777689-5ae8-4b81-ae61-e194107b7a49\u001b[0m\n",
      "/home/nikita/Code/zephyrox/.conda/lib/python3.10/site-packages/optuna/distributions.py:693: UserWarning: The distribution is specified by [0.5, 1.001] and step=0.1, but the range is not divisible by `step`. It will be replaced by [0.5, 1.0].\n",
      "  warnings.warn(\n",
      "\u001b[32m[I 2024-12-01 16:24:41,077]\u001b[0m Trial 0 finished with value: 0.42758025228977203 and parameters: {'feature_type': 'SWIM', 'upscale': 'dense', 'sandwich_solver': 'diag', 'n_layers': 10, 'hidden_dim': 182, 'boost_lr': 0.9, 'l2_reg_sandwich': 0.00010784028022912702}. Best is trial 0 with value: 0.42758025228977203.\u001b[0m\n",
      "\u001b[32m[I 2024-12-01 16:24:43,106]\u001b[0m A new study created in memory with name: no-name-eca1f26f-4c9a-47e8-801d-762915ff9b13\u001b[0m\n",
      "\u001b[32m[I 2024-12-01 16:24:44,467]\u001b[0m Trial 0 finished with value: 0.4247673600912094 and parameters: {'feature_type': 'SWIM', 'upscale': 'dense', 'sandwich_solver': 'diag', 'n_layers': 5, 'hidden_dim': 319, 'boost_lr': 1.0, 'l2_reg_sandwich': 2.331125305774071e-05}. Best is trial 0 with value: 0.4247673600912094.\u001b[0m\n",
      " 5/20 Processed dataset 44964\n",
      "\u001b[32m[I 2024-12-01 16:24:46,352]\u001b[0m A new study created in memory with name: no-name-9bc813f8-6b1b-4dec-a929-ff7c0592f924\u001b[0m\n",
      "/home/nikita/Code/zephyrox/.conda/lib/python3.10/site-packages/optuna/distributions.py:693: UserWarning: The distribution is specified by [0.5, 1.001] and step=0.1, but the range is not divisible by `step`. It will be replaced by [0.5, 1.0].\n",
      "  warnings.warn(\n",
      "\u001b[32m[I 2024-12-01 16:24:46,406]\u001b[0m Trial 0 finished with value: 0.9569575488567352 and parameters: {'feature_type': 'SWIM', 'upscale': 'dense', 'sandwich_solver': 'diag', 'n_layers': 8, 'hidden_dim': 19, 'boost_lr': 0.5, 'l2_reg_sandwich': 0.0207380626788031}. Best is trial 0 with value: 0.9569575488567352.\u001b[0m\n",
      "\u001b[32m[I 2024-12-01 16:24:46,445]\u001b[0m A new study created in memory with name: no-name-daec42b6-0c1d-4b9b-a6b1-038c57b0182f\u001b[0m\n",
      "\u001b[32m[I 2024-12-01 16:24:46,583]\u001b[0m Trial 0 finished with value: 0.8967487812042236 and parameters: {'feature_type': 'SWIM', 'upscale': 'dense', 'sandwich_solver': 'diag', 'n_layers': 5, 'hidden_dim': 250, 'boost_lr': 0.7, 'l2_reg_sandwich': 3.185713187720899e-05}. Best is trial 0 with value: 0.8967487812042236.\u001b[0m\n",
      " 6/20 Processed dataset 44965\n",
      "\u001b[32m[I 2024-12-01 16:24:46,706]\u001b[0m A new study created in memory with name: no-name-1c47dbeb-a3b6-421a-aabd-46ea6e96cb7f\u001b[0m\n",
      "/home/nikita/Code/zephyrox/.conda/lib/python3.10/site-packages/optuna/distributions.py:693: UserWarning: The distribution is specified by [0.5, 1.001] and step=0.1, but the range is not divisible by `step`. It will be replaced by [0.5, 1.0].\n",
      "  warnings.warn(\n",
      "\u001b[32m[I 2024-12-01 16:24:46,766]\u001b[0m Trial 0 finished with value: 0.05501585453748703 and parameters: {'feature_type': 'SWIM', 'upscale': 'dense', 'sandwich_solver': 'diag', 'n_layers': 1, 'hidden_dim': 113, 'boost_lr': 0.7, 'l2_reg_sandwich': 1.9442583393717827e-05}. Best is trial 0 with value: 0.05501585453748703.\u001b[0m\n",
      "\u001b[32m[I 2024-12-01 16:24:46,848]\u001b[0m A new study created in memory with name: no-name-947d3bc9-2b29-4b28-963c-6b75ef1d6319\u001b[0m\n",
      "\u001b[32m[I 2024-12-01 16:24:47,175]\u001b[0m Trial 0 finished with value: 0.03667171113193035 and parameters: {'feature_type': 'SWIM', 'upscale': 'dense', 'sandwich_solver': 'diag', 'n_layers': 9, 'hidden_dim': 98, 'boost_lr': 0.8, 'l2_reg_sandwich': 0.0015707954337039988}. Best is trial 0 with value: 0.03667171113193035.\u001b[0m\n",
      " 7/20 Processed dataset 44969\n",
      "\u001b[32m[I 2024-12-01 16:24:47,625]\u001b[0m A new study created in memory with name: no-name-7ff83d2f-bd1d-4197-9bac-e713b3463cf1\u001b[0m\n",
      "/home/nikita/Code/zephyrox/.conda/lib/python3.10/site-packages/optuna/distributions.py:693: UserWarning: The distribution is specified by [0.5, 1.001] and step=0.1, but the range is not divisible by `step`. It will be replaced by [0.5, 1.0].\n",
      "  warnings.warn(\n",
      "\u001b[32m[I 2024-12-01 16:24:47,655]\u001b[0m Trial 0 finished with value: 0.595926433801651 and parameters: {'feature_type': 'SWIM', 'upscale': 'dense', 'sandwich_solver': 'diag', 'n_layers': 6, 'hidden_dim': 41, 'boost_lr': 0.5, 'l2_reg_sandwich': 0.0008948406327798442}. Best is trial 0 with value: 0.595926433801651.\u001b[0m\n",
      "\u001b[32m[I 2024-12-01 16:24:47,674]\u001b[0m A new study created in memory with name: no-name-313a57b7-b3b1-4844-9e7a-60550678fb29\u001b[0m\n",
      "\u001b[32m[I 2024-12-01 16:24:47,884]\u001b[0m Trial 0 finished with value: 0.7126247584819794 and parameters: {'feature_type': 'SWIM', 'upscale': 'dense', 'sandwich_solver': 'diag', 'n_layers': 7, 'hidden_dim': 355, 'boost_lr': 0.6, 'l2_reg_sandwich': 3.530898461847903e-05}. Best is trial 0 with value: 0.7126247584819794.\u001b[0m\n",
      " 8/20 Processed dataset 44970\n",
      "\u001b[32m[I 2024-12-01 16:24:48,044]\u001b[0m A new study created in memory with name: no-name-2b0f24aa-89a9-4ed7-a7cd-02df9a97969d\u001b[0m\n",
      "/home/nikita/Code/zephyrox/.conda/lib/python3.10/site-packages/optuna/distributions.py:693: UserWarning: The distribution is specified by [0.5, 1.001] and step=0.1, but the range is not divisible by `step`. It will be replaced by [0.5, 1.0].\n",
      "  warnings.warn(\n",
      "\u001b[32m[I 2024-12-01 16:24:48,112]\u001b[0m Trial 0 finished with value: 0.8524589240550995 and parameters: {'feature_type': 'SWIM', 'upscale': 'dense', 'sandwich_solver': 'diag', 'n_layers': 7, 'hidden_dim': 30, 'boost_lr': 0.9, 'l2_reg_sandwich': 0.7165356428060767}. Best is trial 0 with value: 0.8524589240550995.\u001b[0m\n",
      "\u001b[32m[I 2024-12-01 16:24:48,173]\u001b[0m A new study created in memory with name: no-name-b6f3d9cd-a5d1-43c9-8907-efe607806aed\u001b[0m\n",
      "\u001b[32m[I 2024-12-01 16:24:48,292]\u001b[0m Trial 0 finished with value: 0.8187256157398224 and parameters: {'feature_type': 'SWIM', 'upscale': 'dense', 'sandwich_solver': 'diag', 'n_layers': 10, 'hidden_dim': 56, 'boost_lr': 0.5, 'l2_reg_sandwich': 6.99704617441473e-05}. Best is trial 0 with value: 0.8187256157398224.\u001b[0m\n",
      " 9/20 Processed dataset 44971\n",
      "\u001b[32m[I 2024-12-01 16:24:48,418]\u001b[0m A new study created in memory with name: no-name-ab1259f9-b9a2-46d6-ae41-6ecb275434c1\u001b[0m\n",
      "/home/nikita/Code/zephyrox/.conda/lib/python3.10/site-packages/optuna/distributions.py:693: UserWarning: The distribution is specified by [0.5, 1.001] and step=0.1, but the range is not divisible by `step`. It will be replaced by [0.5, 1.0].\n",
      "  warnings.warn(\n",
      "\u001b[32m[I 2024-12-01 16:24:48,469]\u001b[0m Trial 0 finished with value: 0.8009887933731079 and parameters: {'feature_type': 'SWIM', 'upscale': 'dense', 'sandwich_solver': 'diag', 'n_layers': 7, 'hidden_dim': 43, 'boost_lr': 0.6, 'l2_reg_sandwich': 0.0002244471418397308}. Best is trial 0 with value: 0.8009887933731079.\u001b[0m\n",
      "\u001b[32m[I 2024-12-01 16:24:48,504]\u001b[0m A new study created in memory with name: no-name-867f59e4-8451-40ac-8a80-e46036880d34\u001b[0m\n",
      "\u001b[32m[I 2024-12-01 16:24:48,685]\u001b[0m Trial 0 finished with value: 0.841560572385788 and parameters: {'feature_type': 'SWIM', 'upscale': 'dense', 'sandwich_solver': 'diag', 'n_layers': 4, 'hidden_dim': 318, 'boost_lr': 0.8, 'l2_reg_sandwich': 0.00034448043718847296}. Best is trial 0 with value: 0.841560572385788.\u001b[0m\n",
      " 10/20 Processed dataset 44972\n",
      "\u001b[32m[I 2024-12-01 16:24:48,843]\u001b[0m A new study created in memory with name: no-name-5a131b14-2af4-4b41-9648-8819c87f681b\u001b[0m\n",
      "/home/nikita/Code/zephyrox/.conda/lib/python3.10/site-packages/optuna/distributions.py:693: UserWarning: The distribution is specified by [0.5, 1.001] and step=0.1, but the range is not divisible by `step`. It will be replaced by [0.5, 1.0].\n",
      "  warnings.warn(\n",
      "\u001b[32m[I 2024-12-01 16:24:48,862]\u001b[0m Trial 0 finished with value: 0.5928715169429779 and parameters: {'feature_type': 'SWIM', 'upscale': 'dense', 'sandwich_solver': 'diag', 'n_layers': 1, 'hidden_dim': 23, 'boost_lr': 0.9, 'l2_reg_sandwich': 0.3217700215439853}. Best is trial 0 with value: 0.5928715169429779.\u001b[0m\n",
      "\u001b[32m[I 2024-12-01 16:24:48,878]\u001b[0m A new study created in memory with name: no-name-8ca2a7be-f2ca-4b94-8b61-e1702e5334ee\u001b[0m\n",
      "\u001b[32m[I 2024-12-01 16:24:49,274]\u001b[0m Trial 0 finished with value: 0.4034630358219147 and parameters: {'feature_type': 'SWIM', 'upscale': 'dense', 'sandwich_solver': 'diag', 'n_layers': 9, 'hidden_dim': 117, 'boost_lr': 1.0, 'l2_reg_sandwich': 0.0018040110141539186}. Best is trial 0 with value: 0.4034630358219147.\u001b[0m\n",
      " 11/20 Processed dataset 44973\n",
      "\u001b[32m[I 2024-12-01 16:24:49,953]\u001b[0m A new study created in memory with name: no-name-d1d63719-ca36-4dc4-b802-1f5ed7a3f318\u001b[0m\n",
      "/home/nikita/Code/zephyrox/.conda/lib/python3.10/site-packages/optuna/distributions.py:693: UserWarning: The distribution is specified by [0.5, 1.001] and step=0.1, but the range is not divisible by `step`. It will be replaced by [0.5, 1.0].\n",
      "  warnings.warn(\n",
      "\u001b[32m[I 2024-12-01 16:24:50,945]\u001b[0m Trial 0 finished with value: 0.3862658888101578 and parameters: {'feature_type': 'SWIM', 'upscale': 'dense', 'sandwich_solver': 'diag', 'n_layers': 8, 'hidden_dim': 19, 'boost_lr': 1.0, 'l2_reg_sandwich': 0.0006314726401458256}. Best is trial 0 with value: 0.3862658888101578.\u001b[0m\n",
      "\u001b[32m[I 2024-12-01 16:24:52,056]\u001b[0m A new study created in memory with name: no-name-b4491a96-5405-4e05-8f25-f8d64126a0ef\u001b[0m\n",
      "\u001b[32m[I 2024-12-01 16:24:55,032]\u001b[0m Trial 0 finished with value: 0.029522130265831947 and parameters: {'feature_type': 'SWIM', 'upscale': 'dense', 'sandwich_solver': 'diag', 'n_layers': 6, 'hidden_dim': 195, 'boost_lr': 1.0, 'l2_reg_sandwich': 4.136900334719415e-05}. Best is trial 0 with value: 0.029522130265831947.\u001b[0m\n",
      " 12/20 Processed dataset 44975\n",
      "\u001b[32m[I 2024-12-01 16:24:59,213]\u001b[0m A new study created in memory with name: no-name-9ef17697-edce-4dd1-9112-693a996dd94a\u001b[0m\n",
      "/home/nikita/Code/zephyrox/.conda/lib/python3.10/site-packages/optuna/distributions.py:693: UserWarning: The distribution is specified by [0.5, 1.001] and step=0.1, but the range is not divisible by `step`. It will be replaced by [0.5, 1.0].\n",
      "  warnings.warn(\n",
      "\u001b[32m[I 2024-12-01 16:24:59,504]\u001b[0m Trial 0 finished with value: 0.23934458196163177 and parameters: {'feature_type': 'SWIM', 'upscale': 'dense', 'sandwich_solver': 'diag', 'n_layers': 2, 'hidden_dim': 73, 'boost_lr': 0.5, 'l2_reg_sandwich': 0.0001935632132605874}. Best is trial 0 with value: 0.23934458196163177.\u001b[0m\n",
      "\u001b[32m[I 2024-12-01 16:24:59,921]\u001b[0m A new study created in memory with name: no-name-ea63dbef-4fec-4371-8661-fefb0346102a\u001b[0m\n",
      "\u001b[32m[I 2024-12-01 16:25:00,361]\u001b[0m Trial 0 finished with value: 0.2353668361902237 and parameters: {'feature_type': 'SWIM', 'upscale': 'dense', 'sandwich_solver': 'diag', 'n_layers': 4, 'hidden_dim': 47, 'boost_lr': 0.9, 'l2_reg_sandwich': 0.00024206666611580413}. Best is trial 0 with value: 0.2353668361902237.\u001b[0m\n",
      " 13/20 Processed dataset 44976\n",
      "\u001b[32m[I 2024-12-01 16:25:00,868]\u001b[0m A new study created in memory with name: no-name-4374165d-afcc-4ba6-8fff-9f9b6f50178e\u001b[0m\n",
      "/home/nikita/Code/zephyrox/.conda/lib/python3.10/site-packages/optuna/distributions.py:693: UserWarning: The distribution is specified by [0.5, 1.001] and step=0.1, but the range is not divisible by `step`. It will be replaced by [0.5, 1.0].\n",
      "  warnings.warn(\n",
      "\u001b[32m[I 2024-12-01 16:25:01,201]\u001b[0m Trial 0 finished with value: 0.5266103744506836 and parameters: {'feature_type': 'SWIM', 'upscale': 'dense', 'sandwich_solver': 'diag', 'n_layers': 8, 'hidden_dim': 74, 'boost_lr': 0.5, 'l2_reg_sandwich': 0.0005869878406364746}. Best is trial 0 with value: 0.5266103744506836.\u001b[0m\n",
      "\u001b[32m[I 2024-12-01 16:25:01,695]\u001b[0m A new study created in memory with name: no-name-db79ba22-d663-422f-a902-b9437d3471fc\u001b[0m\n",
      "\u001b[32m[I 2024-12-01 16:25:01,832]\u001b[0m Trial 0 finished with value: 0.5564508438110352 and parameters: {'feature_type': 'SWIM', 'upscale': 'dense', 'sandwich_solver': 'diag', 'n_layers': 8, 'hidden_dim': 24, 'boost_lr': 0.6, 'l2_reg_sandwich': 0.00035945212766436564}. Best is trial 0 with value: 0.5564508438110352.\u001b[0m\n",
      " 14/20 Processed dataset 44977\n",
      "\u001b[32m[I 2024-12-01 16:25:01,989]\u001b[0m A new study created in memory with name: no-name-9cae82cb-b94f-45df-9ab1-4892b420b201\u001b[0m\n",
      "/home/nikita/Code/zephyrox/.conda/lib/python3.10/site-packages/optuna/distributions.py:693: UserWarning: The distribution is specified by [0.5, 1.001] and step=0.1, but the range is not divisible by `step`. It will be replaced by [0.5, 1.0].\n",
      "  warnings.warn(\n",
      "\u001b[32m[I 2024-12-01 16:25:02,680]\u001b[0m Trial 0 finished with value: 0.1977693885564804 and parameters: {'feature_type': 'SWIM', 'upscale': 'dense', 'sandwich_solver': 'diag', 'n_layers': 5, 'hidden_dim': 404, 'boost_lr': 1.0, 'l2_reg_sandwich': 0.02367213862241771}. Best is trial 0 with value: 0.1977693885564804.\u001b[0m\n",
      "\u001b[32m[I 2024-12-01 16:25:03,559]\u001b[0m A new study created in memory with name: no-name-5589ca12-caf2-45e4-b4d5-de5aad46a76b\u001b[0m\n",
      "\u001b[32m[I 2024-12-01 16:25:05,027]\u001b[0m Trial 0 finished with value: 0.18334434926509857 and parameters: {'feature_type': 'SWIM', 'upscale': 'dense', 'sandwich_solver': 'diag', 'n_layers': 10, 'hidden_dim': 415, 'boost_lr': 0.8, 'l2_reg_sandwich': 0.014582597836305533}. Best is trial 0 with value: 0.18334434926509857.\u001b[0m\n",
      " 15/20 Processed dataset 44978\n",
      "\u001b[32m[I 2024-12-01 16:25:06,853]\u001b[0m A new study created in memory with name: no-name-1bcbdb27-5b05-4df8-a9ec-2e3b50ac01f8\u001b[0m\n",
      "/home/nikita/Code/zephyrox/.conda/lib/python3.10/site-packages/optuna/distributions.py:693: UserWarning: The distribution is specified by [0.5, 1.001] and step=0.1, but the range is not divisible by `step`. It will be replaced by [0.5, 1.0].\n",
      "  warnings.warn(\n",
      "\u001b[32m[I 2024-12-01 16:25:06,931]\u001b[0m Trial 0 finished with value: 0.772348940372467 and parameters: {'feature_type': 'SWIM', 'upscale': 'dense', 'sandwich_solver': 'diag', 'n_layers': 2, 'hidden_dim': 133, 'boost_lr': 1.0, 'l2_reg_sandwich': 0.2765487686914773}. Best is trial 0 with value: 0.772348940372467.\u001b[0m\n",
      "\u001b[32m[I 2024-12-01 16:25:07,030]\u001b[0m A new study created in memory with name: no-name-8989b2bb-9dc7-424f-8f35-01c9345862a3\u001b[0m\n",
      "\u001b[32m[I 2024-12-01 16:25:07,094]\u001b[0m Trial 0 finished with value: 0.7643931806087494 and parameters: {'feature_type': 'SWIM', 'upscale': 'dense', 'sandwich_solver': 'diag', 'n_layers': 1, 'hidden_dim': 185, 'boost_lr': 0.8, 'l2_reg_sandwich': 0.06603775464373615}. Best is trial 0 with value: 0.7643931806087494.\u001b[0m\n",
      " 16/20 Processed dataset 44980\n",
      "\u001b[32m[I 2024-12-01 16:25:07,193]\u001b[0m A new study created in memory with name: no-name-edba9652-e1e3-43d0-bf84-f7c362e35175\u001b[0m\n",
      "/home/nikita/Code/zephyrox/.conda/lib/python3.10/site-packages/optuna/distributions.py:693: UserWarning: The distribution is specified by [0.5, 1.001] and step=0.1, but the range is not divisible by `step`. It will be replaced by [0.5, 1.0].\n",
      "  warnings.warn(\n",
      "\u001b[32m[I 2024-12-01 16:25:07,422]\u001b[0m Trial 0 finished with value: 0.9279570877552032 and parameters: {'feature_type': 'SWIM', 'upscale': 'dense', 'sandwich_solver': 'diag', 'n_layers': 3, 'hidden_dim': 238, 'boost_lr': 0.8, 'l2_reg_sandwich': 0.7941493140902363}. Best is trial 0 with value: 0.9279570877552032.\u001b[0m\n",
      "\u001b[32m[I 2024-12-01 16:25:07,713]\u001b[0m A new study created in memory with name: no-name-10c7acf3-2e60-4ada-b942-ceda155da52f\u001b[0m\n",
      "\u001b[32m[I 2024-12-01 16:25:07,897]\u001b[0m Trial 0 finished with value: 0.9150225520133972 and parameters: {'feature_type': 'SWIM', 'upscale': 'dense', 'sandwich_solver': 'diag', 'n_layers': 5, 'hidden_dim': 137, 'boost_lr': 0.8, 'l2_reg_sandwich': 0.43846610748453585}. Best is trial 0 with value: 0.9150225520133972.\u001b[0m\n",
      " 17/20 Processed dataset 44981\n",
      "\u001b[32m[I 2024-12-01 16:25:08,156]\u001b[0m A new study created in memory with name: no-name-cf851b3b-bfe7-4cc3-a8d9-2bdfbdcdb75d\u001b[0m\n",
      "/home/nikita/Code/zephyrox/.conda/lib/python3.10/site-packages/optuna/distributions.py:693: UserWarning: The distribution is specified by [0.5, 1.001] and step=0.1, but the range is not divisible by `step`. It will be replaced by [0.5, 1.0].\n",
      "  warnings.warn(\n",
      "\u001b[32m[I 2024-12-01 16:25:08,229]\u001b[0m Trial 0 finished with value: 0.3035539835691452 and parameters: {'feature_type': 'SWIM', 'upscale': 'dense', 'sandwich_solver': 'diag', 'n_layers': 4, 'hidden_dim': 33, 'boost_lr': 0.6, 'l2_reg_sandwich': 8.370749334112009e-05}. Best is trial 0 with value: 0.3035539835691452.\u001b[0m\n",
      "\u001b[32m[I 2024-12-01 16:25:08,308]\u001b[0m A new study created in memory with name: no-name-2d46a8b0-420d-49b3-a76a-4abb5fecee54\u001b[0m\n",
      "\u001b[32m[I 2024-12-01 16:25:08,340]\u001b[0m Trial 0 finished with value: 0.41340138018131256 and parameters: {'feature_type': 'SWIM', 'upscale': 'dense', 'sandwich_solver': 'diag', 'n_layers': 2, 'hidden_dim': 17, 'boost_lr': 0.7, 'l2_reg_sandwich': 0.011427214993878897}. Best is trial 0 with value: 0.41340138018131256.\u001b[0m\n",
      " 18/20 Processed dataset 44983\n",
      "\u001b[32m[I 2024-12-01 16:25:08,380]\u001b[0m A new study created in memory with name: no-name-e9a3d609-93f2-46c1-b4c8-b48f5ea64fb9\u001b[0m\n",
      "/home/nikita/Code/zephyrox/.conda/lib/python3.10/site-packages/optuna/distributions.py:693: UserWarning: The distribution is specified by [0.5, 1.001] and step=0.1, but the range is not divisible by `step`. It will be replaced by [0.5, 1.0].\n",
      "  warnings.warn(\n",
      "\u001b[32m[I 2024-12-01 16:25:08,456]\u001b[0m Trial 0 finished with value: 0.2704355865716934 and parameters: {'feature_type': 'SWIM', 'upscale': 'dense', 'sandwich_solver': 'diag', 'n_layers': 6, 'hidden_dim': 181, 'boost_lr': 0.5, 'l2_reg_sandwich': 0.5059373216153845}. Best is trial 0 with value: 0.2704355865716934.\u001b[0m\n",
      "\u001b[32m[I 2024-12-01 16:25:08,510]\u001b[0m A new study created in memory with name: no-name-1d6c6e59-ef6e-4098-8870-6897666eb562\u001b[0m\n",
      "\u001b[32m[I 2024-12-01 16:25:08,571]\u001b[0m Trial 0 finished with value: 0.3026977628469467 and parameters: {'feature_type': 'SWIM', 'upscale': 'dense', 'sandwich_solver': 'diag', 'n_layers': 4, 'hidden_dim': 206, 'boost_lr': 0.7, 'l2_reg_sandwich': 0.005109903000451967}. Best is trial 0 with value: 0.3026977628469467.\u001b[0m\n",
      " 19/20 Processed dataset 44994\n",
      "\u001b[32m[I 2024-12-01 16:25:08,619]\u001b[0m A new study created in memory with name: no-name-f52c15f7-dff7-402e-9236-8e8d0214e5de\u001b[0m\n",
      "/home/nikita/Code/zephyrox/.conda/lib/python3.10/site-packages/optuna/distributions.py:693: UserWarning: The distribution is specified by [0.5, 1.001] and step=0.1, but the range is not divisible by `step`. It will be replaced by [0.5, 1.0].\n",
      "  warnings.warn(\n",
      "\u001b[32m[I 2024-12-01 16:25:09,164]\u001b[0m Trial 0 finished with value: 0.5540612936019897 and parameters: {'feature_type': 'SWIM', 'upscale': 'dense', 'sandwich_solver': 'diag', 'n_layers': 10, 'hidden_dim': 380, 'boost_lr': 0.9, 'l2_reg_sandwich': 7.154972077559664e-05}. Best is trial 0 with value: 0.5540612936019897.\u001b[0m\n",
      "\u001b[32m[I 2024-12-01 16:25:09,788]\u001b[0m A new study created in memory with name: no-name-fa50f10c-5df3-4eee-88b7-42f6d7ed97ba\u001b[0m\n",
      "\u001b[32m[I 2024-12-01 16:25:09,889]\u001b[0m Trial 0 finished with value: 0.5637468993663788 and parameters: {'feature_type': 'SWIM', 'upscale': 'dense', 'sandwich_solver': 'diag', 'n_layers': 1, 'hidden_dim': 445, 'boost_lr': 0.7, 'l2_reg_sandwich': 0.016608376173155588}. Best is trial 0 with value: 0.5637468993663788.\u001b[0m\n",
      " 20/20 Processed dataset 45402\n"
     ]
    }
   ],
   "source": [
    "!python regression_param_specs.py --models GreedyRFBoostDiag --save_dir /home/nikita/Code/random-feature-boosting/save/OpenMLRegression/ --n_optuna_trials 1 --device cuda --k_folds 2 --cv_seed 42 --save_experiments_individually"
   ]
  },
  {
   "cell_type": "code",
   "execution_count": null,
   "metadata": {},
   "outputs": [],
   "source": [
    "!python regression_param_specs.py --models GreedyRFBoostScalar --save_dir /home/nikita/Code/random-feature-boosting/save/OpenMLRegression/ --n_optuna_trials 1 --device cuda --k_folds 2 --cv_seed 42 --save_experiments_individually"
   ]
  },
  {
   "cell_type": "markdown",
   "metadata": {},
   "source": [
    "# join json results"
   ]
  },
  {
   "cell_type": "code",
   "execution_count": null,
   "metadata": {},
   "outputs": [],
   "source": [
    "from pydantic.v1.utils import deep_update\n",
    "import json\n",
    "\n",
    "def read_json(path):\n",
    "    with open(path, \"r\") as f:\n",
    "        return json.load(f)\n",
    "    \n",
    "\n",
    "\n",
    "def custom_deep_update(original, update):\n",
    "    for key, value in update.items():\n",
    "        if isinstance(value, dict) and key in original:\n",
    "            custom_deep_update(original[key], value)\n",
    "        else:\n",
    "            original[key] = value\n",
    "\n",
    "\n",
    "\n",
    "def get_joined_results_json(\n",
    "        models = [\"End2End\", \"Ridge\", \"RidgeCV\", \"XGBoostRegressor\", \n",
    "                  \"GradientRFBoost\", \"GradientRFBoostID\", \n",
    "                  \"GreedyRFBoostDense\", \"GreedyRFBoostDiag\", \"GreedyRFBoostScalar\"],\n",
    "        save_dir = \"/home/nikita/Code/random-feature-boosting/save/OpenMLRegression/\",\n",
    "        ):\n",
    "    results_json = {}\n",
    "    for model in models:\n",
    "        path = os.path.join(save_dir, f\"regression_{model}.json\")\n",
    "        res = read_json(path)\n",
    "        if results_json == {}:\n",
    "            results_json = res\n",
    "        else:\n",
    "            custom_deep_update(results_json, res)\n",
    "    return results_json\n",
    "\n",
    "\n",
    "\n",
    "def join_jsons_into_array(\n",
    "        results_json,\n",
    "        ):\n",
    "    results = []\n",
    "    for dataset, dataset_results in results_json.items():\n",
    "        res = []\n",
    "        for model_name, model_results in dataset_results.items():\n",
    "            model_res = np.stack([model_results[\"score_train\"], model_results[\"score_test\"], model_results[\"t_fit\"], model_results[\"t_inference\"]])\n",
    "            res.append(model_res)\n",
    "        results.append(res)\n",
    "    return np.stack(results) # (n_datasets, n_models, 4, n_folds)\n",
    "\n",
    "\n",
    "\n",
    "def results_to_df(\n",
    "        models = [\"End2End\", \"Ridge\", \"RidgeCV\", \"XGBoostRegressor\", \n",
    "                  \"GradientRFBoost\", \"GradientRFBoostID\", \n",
    "                  \"GreedyRFBoostDense\", \"GreedyRFBoostDiag\", \"GreedyRFBoostScalar\"],\n",
    "        save_dir = \"/home/nikita/Code/random-feature-boosting/save/OpenMLRegression/\",\n",
    "        ):\n",
    "    # Load and join the JSON data\n",
    "    results_json = get_joined_results_json(models, save_dir)\n",
    "    results = join_jsons_into_array(results_json) # (n_datasets, n_models, 4, n_folds)\n",
    "    #TODO for now just average. later, add stds too\n",
    "    results = np.mean(results, axis=-1)\n",
    "    \n",
    "    # Extract dataset names and prepare metrics\n",
    "    datasets = list(results_json.keys())\n",
    "    models = list(results_json[datasets[0]].keys())\n",
    "    metrics = [\"score_train\", \"score_test\", \"t_fit\", \"t_inference\"]\n",
    "    \n",
    "    # Create a dictionary to hold metric-specific DataFrames\n",
    "    metric_dfs = {metric: pd.DataFrame(index=datasets, columns=models) for metric in metrics}\n",
    "    \n",
    "    # Populate the DataFrames for each metric\n",
    "    for dataset_idx, dataset in enumerate(datasets):\n",
    "        for model_idx, model in enumerate(models):\n",
    "            for metric_idx, metric in enumerate(metrics):\n",
    "                # Average across folds for each metric\n",
    "                metric_dfs[metric].loc[dataset, model] = results[dataset_idx, model_idx, metric_idx]\n",
    "    \n",
    "    return metric_dfs  # Return a dictionary of metric-specific DataFrames\n",
    "\n",
    "\n",
    "df = results_to_df()"
   ]
  },
  {
   "cell_type": "code",
   "execution_count": null,
   "metadata": {},
   "outputs": [],
   "source": [
    "df[\"score_test\"].mean().sort_values(ascending=True)"
   ]
  },
  {
   "cell_type": "code",
   "execution_count": null,
   "metadata": {},
   "outputs": [],
   "source": [
    "df[\"score_train\"].mean().sort_values(ascending=True)"
   ]
  },
  {
   "cell_type": "code",
   "execution_count": null,
   "metadata": {},
   "outputs": [],
   "source": [
    "df[\"score_test\"].rank(axis=1).mean().sort_values()"
   ]
  }
 ],
 "metadata": {
  "kernelspec": {
   "display_name": "Python 3",
   "language": "python",
   "name": "python3"
  },
  "language_info": {
   "codemirror_mode": {
    "name": "ipython",
    "version": 3
   },
   "file_extension": ".py",
   "mimetype": "text/x-python",
   "name": "python",
   "nbconvert_exporter": "python",
   "pygments_lexer": "ipython3",
   "version": "3.10.14"
  }
 },
 "nbformat": 4,
 "nbformat_minor": 2
}
