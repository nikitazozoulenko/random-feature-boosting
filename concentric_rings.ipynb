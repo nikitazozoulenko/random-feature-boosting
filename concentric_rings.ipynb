{
 "cells": [
  {
   "cell_type": "code",
   "execution_count": 43,
   "metadata": {},
   "outputs": [],
   "source": [
    "from typing import Tuple, List, Union, Any, Optional, Dict, Literal, Callable, Type\n",
    "import abc\n",
    "\n",
    "from tqdm import tqdm\n",
    "import numpy as np\n",
    "import torch\n",
    "import torch.nn as nn\n",
    "import torch.optim\n",
    "import torch.utils.data\n",
    "from torch import Tensor\n",
    "import matplotlib.pyplot as plt\n",
    "\n",
    "from models.ridge_ALOOCV import fit_ridge_ALOOCV\n",
    "from models.sandwiched_least_squares import sandwiched_LS_dense, sandwiched_LS_diag, sandwiched_LS_scalar\n",
    "\n",
    "def acc_from_logits(logits, y, n_classes):\n",
    "    if n_classes==2:\n",
    "        pred = (logits>0).float()\n",
    "    else:\n",
    "        pred = torch.argmax(logits, dim=1)\n",
    "        y = torch.argmax(y, dim=1)\n",
    "    acc = (pred==y).float().mean()\n",
    "    return acc\n",
    "\n",
    "\n",
    "\n",
    "def generate_concentric_rings(n_rings_per_class=2, n_classes=3, n_samples=2000, device=\"cpu\", plot=False) -> Tuple[np.ndarray, np.ndarray]:\n",
    "    X = []\n",
    "    y = []\n",
    "    n_rings = n_rings_per_class * n_classes\n",
    "    samples_per_ring = n_samples // n_rings\n",
    "    for i in range(n_rings):\n",
    "        radius = i + 1\n",
    "        theta = np.linspace(0, 2 * np.pi, samples_per_ring)\n",
    "        noise_scale = 0.5\n",
    "        x1 = radius * np.cos(theta) + np.random.rand(samples_per_ring) * noise_scale\n",
    "        x2 = radius * np.sin(theta) + np.random.rand(samples_per_ring) * noise_scale\n",
    "        X.append(np.vstack((x1, x2)).T)\n",
    "        y.append(np.full(samples_per_ring, i % n_classes))\n",
    "    X = np.vstack(X)\n",
    "    y = np.hstack(y)\n",
    "    perm = np.random.permutation(len(X))\n",
    "    X = X[perm] / np.max(X)\n",
    "    y = y[perm]\n",
    "\n",
    "    #plot\n",
    "    if plot:\n",
    "        plt.figure(figsize=(8, 8))\n",
    "        for i in range(n_classes):\n",
    "            plt.scatter(X[y == i][:, 0], X[y == i][:, 1], label=f'Class {i}')\n",
    "        plt.legend()\n",
    "        plt.title('Concentric Rings Dataset')\n",
    "        plt.xlabel('x1')\n",
    "        plt.ylabel('x2')\n",
    "        plt.show()\n",
    "\n",
    "    y = torch.tensor(y).float()\n",
    "    X = torch.tensor(X).float()\n",
    "    if n_classes > 2:\n",
    "        y = torch.nn.functional.one_hot(y.to(torch.int64), n_classes).float()\n",
    "    else:\n",
    "        y = y.unsqueeze(1)\n",
    "\n",
    "    r = int(0.5 * len(X))\n",
    "    X_train, y_train, X_test, y_test = X[:r], y[:r], X[r:], y[r:]\n",
    "    return (X_train.to(device),\n",
    "            y_train.to(device), \n",
    "            X_test.to(device), \n",
    "            y_test.to(device) )\n",
    "\n",
    "\n",
    "\n",
    "\n",
    "# Generate dataset\n",
    "# n_classes = 2\n",
    "# D = 10\n",
    "# X_train, y_train, X_test, y_test = make_spirals_dataset_Rd(\n",
    "#     n_samples=1000, n_classes=n_classes, noise=0.1, D=D, train_test_ratio=0.8\n",
    "#     )\n",
    "np.random.seed(0)\n",
    "torch.manual_seed(0)\n",
    "torch.cuda.manual_seed(0)\n",
    "n_classes = 3\n",
    "D = 2\n",
    "device = \"cuda\"\n",
    "X_train, y_train, X_test, y_test = generate_concentric_rings(\n",
    "    n_rings_per_class=3, n_classes=n_classes, n_samples=10000, device=device\n",
    "    )\n",
    "if n_classes > 2:\n",
    "    loss_fn = nn.functional.cross_entropy\n",
    "else:\n",
    "    loss_fn = nn.functional.binary_cross_entropy_with_logits"
   ]
  },
  {
   "cell_type": "code",
   "execution_count": null,
   "metadata": {},
   "outputs": [],
   "source": [
    "from models.base import LogisticRegression\n",
    "    \n",
    "model = LogisticRegression(\n",
    "    n_classes, l2_lambda=0.1, max_iter=100\n",
    "     )\n",
    "\n",
    "results = []\n",
    "for i in range(5):\n",
    "    model.fit(X_train, y_train)\n",
    "    out_train = model(X_train)\n",
    "    out_test = model(X_test)\n",
    "    ce_train = loss_fn(out_train, y_train)\n",
    "    ce_test = loss_fn(out_test, y_test)\n",
    "    acc_train = acc_from_logits(out_train, y_train, n_classes)\n",
    "    acc_test = acc_from_logits(out_test, y_test, n_classes)\n",
    "    results.append(torch.tensor([ce_train, ce_test, acc_train, acc_test]))\n",
    "results = torch.stack(results)\n",
    "print(\"train ce\", results[:, 0].mean(), \"std\", results[:, 0].std())\n",
    "print(\"test ce\", results[:, 1].mean(), \"std\", results[:, 1].std())\n",
    "print(\"train acc\", results[:, 2].mean(), \"std\", results[:, 2].std())\n",
    "print(\"test acc\", results[:, 3].mean(), \"std\", results[:, 3].std())"
   ]
  },
  {
   "cell_type": "code",
   "execution_count": null,
   "metadata": {},
   "outputs": [],
   "source": [
    "#from models.random_feature_representation_boosting import GradientRFRBoostClassifier\n",
    "from models.random_feature_representation_boosting import GradientRFRBoostClassifier\n",
    "\n",
    "seed=2\n",
    "np.random.seed(seed)\n",
    "torch.manual_seed(seed)\n",
    "torch.cuda.manual_seed(seed)\n",
    "\n",
    "model = GradientRFRBoostClassifier(\n",
    "        in_dim=D,\n",
    "        n_classes=n_classes,\n",
    "        hidden_dim=2,\n",
    "        n_layers=4,\n",
    "        randfeat_xt_dim=512,\n",
    "        randfeat_x0_dim=512,\n",
    "        l2_cls=0.01,\n",
    "        l2_ghat=0.0001,\n",
    "        boost_lr=1.0,\n",
    "        feature_type=\"iid\",\n",
    "        upscale_type=\"identity\",\n",
    "        lbfgs_lr=1.0,\n",
    "        lbfgs_max_iter=300,\n",
    "        use_batchnorm=True,\n",
    "    )\n",
    "\n",
    "results = []\n",
    "for i in range(1):\n",
    "    model.fit(X_train, y_train)\n",
    "    out_train = model(X_train)\n",
    "    out_test = model(X_test)\n",
    "    ce_train = loss_fn(out_train, y_train)\n",
    "    ce_test = loss_fn(out_test, y_test)\n",
    "    acc_train = acc_from_logits(out_train, y_train, n_classes)\n",
    "    acc_test = acc_from_logits(out_test, y_test, n_classes)\n",
    "    results.append(torch.tensor([ce_train, ce_test, acc_train, acc_test]))\n",
    "results = torch.stack(results)\n",
    "print(\"train ce\", results[:, 0].mean(), \"std\", results[:, 0].std())\n",
    "print(\"test ce\", results[:, 1].mean(), \"std\", results[:, 1].std())\n",
    "print(\"train acc\", results[:, 2].mean(), \"std\", results[:, 2].std())\n",
    "print(\"test acc\", results[:, 3].mean(), \"std\", results[:, 3].std())"
   ]
  },
  {
   "cell_type": "code",
   "execution_count": null,
   "metadata": {},
   "outputs": [],
   "source": [
    "def plot_features(X_train, y_train, X_test, y_test):\n",
    "        plt.figure(figsize=(12, 6))\n",
    "\n",
    "        if y_train.size(1) == 1:\n",
    "            y_train = torch.nn.functional.one_hot(y_train[:, 0].to(torch.int64), 2).float()\n",
    "            y_test = torch.nn.functional.one_hot(y_test[:, 0].to(torch.int64), 2).float()\n",
    "\n",
    "        X_train = X_train.cpu().numpy()\n",
    "        y_train = y_train.cpu().numpy()\n",
    "        X_test = X_test.cpu().numpy()\n",
    "        y_test = y_test.cpu().numpy()\n",
    "\n",
    "        alpha = 0.5  # Set the transparency level\n",
    "\n",
    "        plt.subplot(1, 2, 1)\n",
    "        for i in range(n_classes):\n",
    "            plt.scatter(X_train[y_train[:, i] == 1][:, 0], X_train[y_train[:, i] == 1][:, 1], label=f'Class {i}', alpha=alpha)\n",
    "        plt.title('Training Data')\n",
    "        plt.xlabel('x1')\n",
    "        plt.ylabel('x2')\n",
    "        plt.legend()\n",
    "\n",
    "        plt.subplot(1, 2, 2)\n",
    "        for i in range(n_classes):\n",
    "            plt.scatter(X_test[y_test[:, i] == 1][:, 0], X_test[y_test[:, i] == 1][:, 1], label=f'Class {i}', alpha=alpha)\n",
    "        plt.title('Test Data')\n",
    "        plt.xlabel('x1')\n",
    "        plt.ylabel('x2')\n",
    "        plt.legend()\n",
    "\n",
    "        plt.show()\n",
    "\n",
    "\n",
    "def see_results_for_every_layer(X_train, y_train, X_test, y_test, model, loss_fn):\n",
    "    with torch.no_grad():\n",
    "        X0_train = X_train\n",
    "        X0_test = X_test\n",
    "\n",
    "        X_train = model.upscale(X0_train)\n",
    "        X_test = model.upscale(X0_test)\n",
    "\n",
    "        pred_train = model.top_level_modules[0](X_train)\n",
    "        pred_test = model.top_level_modules[0](X_test)\n",
    "\n",
    "        ce_train = loss_fn(pred_train, y_train)\n",
    "        ce_test = loss_fn(pred_test, y_test)\n",
    "        acc_train = acc_from_logits(pred_train, y_train, n_classes)\n",
    "        acc_test = acc_from_logits(pred_test, y_test, n_classes)\n",
    "        print(f\"Train ce at layer 0: {ce_train}\")\n",
    "        print(f\"Test ce at layer 0: {ce_test}\")\n",
    "        print(f\"Train acc at layer 0: {acc_train}\")\n",
    "        print(f\"Test acc at layer 0: {acc_test}\")\n",
    "        print()\n",
    "        plot_features(X_train, y_train, X_test, y_test)\n",
    "        \n",
    "        for t, (feat_layer, ghat_layer, classifier, batchnorm) in enumerate(zip(model.random_feature_layers, \n",
    "                                                                     model.ghat_boosting_layers, \n",
    "                                                                     model.top_level_modules[1:],\n",
    "                                                                     model.batchnorms)):\n",
    "            features_train = feat_layer(X_train, X0_train)\n",
    "            features_test = feat_layer(X_test, X0_test)\n",
    "            X_train = X_train + model.boost_lr * ghat_layer(features_train)\n",
    "            X_train = batchnorm(X_train)\n",
    "            X_test = X_test + model.boost_lr * ghat_layer(features_test)\n",
    "            X_test = batchnorm(X_test)\n",
    "            \n",
    "            pred_train = classifier(X_train)\n",
    "            pred_test = classifier(X_test)\n",
    "\n",
    "            ce_train = loss_fn(pred_train, y_train)\n",
    "            ce_test = loss_fn(pred_test, y_test)\n",
    "            acc_train = acc_from_logits(pred_train, y_train, n_classes)\n",
    "            acc_test = acc_from_logits(pred_test, y_test, n_classes)\n",
    "\n",
    "            print(f\"Train ce at layer {t+1}: {ce_train}\")\n",
    "            print(f\"Test ce at layer {t+1}: {ce_test}\")\n",
    "            print(f\"Train acc at layer {t+1}: {acc_train}\")\n",
    "            print(f\"Test acc at layer {t+1}: {acc_test}\")\n",
    "            print()\n",
    "            plot_features(X_train, y_train, X_test, y_test)\n",
    "\n",
    "see_results_for_every_layer(X_train, y_train, X_test, y_test, model, loss_fn)\n"
   ]
  },
  {
   "cell_type": "markdown",
   "metadata": {},
   "source": [
    "# End2End"
   ]
  },
  {
   "cell_type": "code",
   "execution_count": null,
   "metadata": {},
   "outputs": [],
   "source": [
    "from models.end2end import End2EndMLPResNet\n",
    "\n",
    "n_blocks = 4\n",
    "model = End2EndMLPResNet(\n",
    "        in_dim=2,\n",
    "        hidden_dim=2,\n",
    "        bottleneck_dim=512,\n",
    "        out_dim= (n_classes if n_classes>2 else 1),\n",
    "        n_blocks=n_blocks,\n",
    "        loss = (\"cce\" if n_classes>2 else \"bce\"),\n",
    "        lr = 0.0001,\n",
    "        n_epochs = 30,\n",
    "        end_lr_factor= 0.01,\n",
    "        weight_decay = 0.00001,\n",
    "        batch_size = 64,\n",
    "        upsample = False,\n",
    "        activation = nn.Tanh(),\n",
    "        )\n",
    "\n",
    "results = []\n",
    "for i in range(1):\n",
    "    model.fit(X_train, y_train)\n",
    "    model.eval()\n",
    "    out_train = model(X_train)\n",
    "    out_test = model(X_test)\n",
    "    ce_train = loss_fn(out_train, y_train)\n",
    "    ce_test = loss_fn(out_test, y_test)\n",
    "    acc_train = acc_from_logits(out_train, y_train, n_classes)\n",
    "    acc_test = acc_from_logits(out_test, y_test, n_classes)\n",
    "    results.append(torch.tensor([ce_train, ce_test, acc_train, acc_test]))\n",
    "results = torch.stack(results)\n",
    "print(\"train ce\", results[:, 0].mean(), \"std\", results[:, 0].std())\n",
    "print(\"test ce\", results[:, 1].mean(), \"std\", results[:, 1].std())\n",
    "print(\"train acc\", results[:, 2].mean(), \"std\", results[:, 2].std())\n",
    "print(\"test acc\", results[:, 3].mean(), \"std\", results[:, 3].std())"
   ]
  },
  {
   "cell_type": "code",
   "execution_count": null,
   "metadata": {},
   "outputs": [],
   "source": [
    "def plot_resnet(X_train, y_train, X_test, y_test, model):\n",
    "    with torch.no_grad():\n",
    "        # for each layer, calculate the activations, and plot\n",
    "        X_train = model.upsample(X_train)\n",
    "        X_test = model.upsample(X_test)\n",
    "        plot_features(X_train, y_train, X_test, y_test)\n",
    "\n",
    "        for t in range(n_blocks):\n",
    "            X_train = X_train + model.residual_blocks[t](X_train)\n",
    "            X_test = X_test + model.residual_blocks[t](X_test)\n",
    "            plot_features(X_train, y_train, X_test, y_test)\n",
    "plot_resnet(X_train, y_train, X_test, y_test, model)"
   ]
  },
  {
   "cell_type": "markdown",
   "metadata": {},
   "source": [
    "# How do i want to set up the experiments?"
   ]
  },
  {
   "cell_type": "code",
   "execution_count": 57,
   "metadata": {},
   "outputs": [
    {
     "name": "stdout",
     "output_type": "stream",
     "text": [
      "tensor(0.61900001764297485352, device='cuda:0')\n",
      "tensor(0.71700000762939453125, device='cuda:0')\n",
      "tensor(0.66700005531311035156, device='cuda:0')\n",
      "tensor(0.32200002670288085938, device='cuda:0')\n",
      "tensor(0.44444444775581359863, device='cuda:0')\n",
      "tensor(0.80900001525878906250, device='cuda:0')\n",
      "tensor(0.83600002527236938477, device='cuda:0')\n",
      "tensor(0.86600005626678466797, device='cuda:0')\n",
      "tensor(0.71800005435943603516, device='cuda:0')\n",
      "tensor(0.85585582256317138672, device='cuda:0')\n",
      "tensor(0.84700006246566772461, device='cuda:0')\n",
      "tensor(0.61400002241134643555, device='cuda:0')\n",
      "tensor(0.94200003147125244141, device='cuda:0')\n",
      "tensor(0.82900005578994750977, device='cuda:0')\n",
      "tensor(0.80380380153656005859, device='cuda:0')\n",
      "tensor(0.72500002384185791016, device='cuda:0')\n",
      "tensor(0.72900003194808959961, device='cuda:0')\n",
      "tensor(0.87000006437301635742, device='cuda:0')\n",
      "tensor(0.76300001144409179688, device='cuda:0')\n",
      "tensor(0.77977979183197021484, device='cuda:0')\n",
      "tensor(0.65000003576278686523, device='cuda:0')\n",
      "tensor(0.60000002384185791016, device='cuda:0')\n",
      "tensor(0.47900003194808959961, device='cuda:0')\n",
      "tensor(0.48000001907348632812, device='cuda:0')\n",
      "tensor(0.46146145462989807129, device='cuda:0')\n",
      "tensor(0.83800005912780761719, device='cuda:0')\n",
      "tensor(0.82500004768371582031, device='cuda:0')\n",
      "tensor(0.80400002002716064453, device='cuda:0')\n",
      "tensor(0.74200004339218139648, device='cuda:0')\n",
      "tensor(0.85085082054138183594, device='cuda:0')\n",
      "tensor(0.84000003337860107422, device='cuda:0')\n",
      "tensor(0.61100000143051147461, device='cuda:0')\n",
      "tensor(0.89200001955032348633, device='cuda:0')\n",
      "tensor(0.84500002861022949219, device='cuda:0')\n",
      "tensor(0.87987989187240600586, device='cuda:0')\n",
      "tensor(0.72300004959106445312, device='cuda:0')\n",
      "tensor(0.72800004482269287109, device='cuda:0')\n",
      "tensor(0.83200001716613769531, device='cuda:0')\n",
      "tensor(0.80100005865097045898, device='cuda:0')\n",
      "tensor(0.87387388944625854492, device='cuda:0')\n",
      "tensor(0.67400002479553222656, device='cuda:0')\n",
      "tensor(0.53100001811981201172, device='cuda:0')\n",
      "tensor(0.51100003719329833984, device='cuda:0')\n",
      "tensor(0.58900004625320434570, device='cuda:0')\n",
      "tensor(0.43743744492530822754, device='cuda:0')\n",
      "tensor(0.85700005292892456055, device='cuda:0')\n",
      "tensor(0.85700005292892456055, device='cuda:0')\n",
      "tensor(0.89300006628036499023, device='cuda:0')\n",
      "tensor(0.72200006246566772461, device='cuda:0')\n",
      "tensor(0.86186182498931884766, device='cuda:0')\n",
      "tensor(0.89100003242492675781, device='cuda:0')\n",
      "tensor(0.68700003623962402344, device='cuda:0')\n",
      "tensor(0.81700003147125244141, device='cuda:0')\n",
      "tensor(0.83500003814697265625, device='cuda:0')\n",
      "tensor(0.90690690279006958008, device='cuda:0')\n",
      "tensor(0.78600001335144042969, device='cuda:0')\n",
      "tensor(0.71900004148483276367, device='cuda:0')\n",
      "tensor(0.85600006580352783203, device='cuda:0')\n",
      "tensor(0.81200003623962402344, device='cuda:0')\n",
      "tensor(0.85185182094573974609, device='cuda:0')\n",
      "tensor(0.58000004291534423828, device='cuda:0')\n",
      "tensor(0.63100004196166992188, device='cuda:0')\n",
      "tensor(0.61900001764297485352, device='cuda:0')\n",
      "tensor(0.34200000762939453125, device='cuda:0')\n",
      "tensor(0.47547546029090881348, device='cuda:0')\n",
      "tensor(0.81100004911422729492, device='cuda:0')\n",
      "tensor(0.87200003862380981445, device='cuda:0')\n",
      "tensor(0.80900001525878906250, device='cuda:0')\n",
      "tensor(0.73300004005432128906, device='cuda:0')\n",
      "tensor(0.86586582660675048828, device='cuda:0')\n",
      "tensor(0.79200005531311035156, device='cuda:0')\n",
      "tensor(0.72600001096725463867, device='cuda:0')\n",
      "tensor(0.78900003433227539062, device='cuda:0')\n",
      "tensor(0.74800002574920654297, device='cuda:0')\n",
      "tensor(0.84484481811523437500, device='cuda:0')\n",
      "tensor(0.75300002098083496094, device='cuda:0')\n",
      "tensor(0.72600001096725463867, device='cuda:0')\n",
      "tensor(0.70300000905990600586, device='cuda:0')\n",
      "tensor(0.74400001764297485352, device='cuda:0')\n",
      "tensor(0.80480480194091796875, device='cuda:0')\n"
     ]
    },
    {
     "name": "stderr",
     "output_type": "stream",
     "text": [
      "/home/nikita/Code/zephyrox/.conda/lib/python3.10/site-packages/numpy/ma/core.py:2820: RuntimeWarning: invalid value encountered in cast\n",
      "  _data = np.array(data, dtype=dtype, copy=copy,\n"
     ]
    },
    {
     "name": "stdout",
     "output_type": "stream",
     "text": [
      "tensor(0.83059996366500854492, device='cuda:0')\n",
      "0 GradientRFRBoost test acc 0.8305999636650085 params {'feature_type': 'iid', 'hidden_dim': 2, 'in_dim': 2, 'l2_cls': 0.01, 'l2_ghat': 1e-05, 'lbfgs_lr': 1.0, 'lbfgs_max_iter': 300, 'modelClass': <class 'models.random_feature_representation_boosting.GradientRFRBoostClassifier'>, 'n_classes': 3, 'n_layers': 4, 'randfeat_x0_dim': 512, 'randfeat_xt_dim': 512, 'seed': 42, 'upscale_type': 'identity', 'use_batchnorm': True}\n",
      "plotting and saving feature evolution point cloud\n",
      "tensor(0.64900004863739013672, device='cuda:0')\n",
      "tensor(0.54300004243850708008, device='cuda:0')\n",
      "tensor(0.45400002598762512207, device='cuda:0')\n",
      "tensor(0.52100002765655517578, device='cuda:0')\n",
      "tensor(0.39839839935302734375, device='cuda:0')\n",
      "tensor(0.93200004100799560547, device='cuda:0')\n",
      "tensor(0.75400000810623168945, device='cuda:0')\n",
      "tensor(0.77100002765655517578, device='cuda:0')\n",
      "tensor(0.81000006198883056641, device='cuda:0')\n",
      "tensor(0.78578579425811767578, device='cuda:0')\n",
      "tensor(0.88500005006790161133, device='cuda:0')\n",
      "tensor(0.58700001239776611328, device='cuda:0')\n",
      "tensor(0.73400002717971801758, device='cuda:0')\n",
      "tensor(0.90500003099441528320, device='cuda:0')\n",
      "tensor(0.77077078819274902344, device='cuda:0')\n",
      "tensor(0.76700001955032348633, device='cuda:0')\n",
      "tensor(0.63800001144409179688, device='cuda:0')\n",
      "tensor(0.67300003767013549805, device='cuda:0')\n",
      "tensor(0.75700002908706665039, device='cuda:0')\n",
      "tensor(0.73073071241378784180, device='cuda:0')\n",
      "tensor(0.45100003480911254883, device='cuda:0')\n",
      "tensor(0.61300003528594970703, device='cuda:0')\n",
      "tensor(0.55500000715255737305, device='cuda:0')\n",
      "tensor(0.45000001788139343262, device='cuda:0')\n",
      "tensor(0.31431430578231811523, device='cuda:0')\n",
      "tensor(0.92500007152557373047, device='cuda:0')\n",
      "tensor(0.77000004053115844727, device='cuda:0')\n",
      "tensor(0.77300006151199340820, device='cuda:0')\n",
      "tensor(0.82200002670288085938, device='cuda:0')\n",
      "tensor(0.79479479789733886719, device='cuda:0')\n",
      "tensor(0.90100002288818359375, device='cuda:0')\n",
      "tensor(0.59600001573562622070, device='cuda:0')\n",
      "tensor(0.74000000953674316406, device='cuda:0')\n",
      "tensor(0.91700005531311035156, device='cuda:0')\n",
      "tensor(0.79079079627990722656, device='cuda:0')\n",
      "tensor(0.80500006675720214844, device='cuda:0')\n",
      "tensor(0.64400005340576171875, device='cuda:0')\n",
      "tensor(0.68600004911422729492, device='cuda:0')\n",
      "tensor(0.89300006628036499023, device='cuda:0')\n",
      "tensor(0.74274271726608276367, device='cuda:0')\n",
      "tensor(0.63100004196166992188, device='cuda:0')\n",
      "tensor(0.47100001573562622070, device='cuda:0')\n",
      "tensor(0.55900001525878906250, device='cuda:0')\n",
      "tensor(0.68600004911422729492, device='cuda:0')\n",
      "tensor(0.63963961601257324219, device='cuda:0')\n",
      "tensor(0.92400002479553222656, device='cuda:0')\n",
      "tensor(0.82600003480911254883, device='cuda:0')\n",
      "tensor(0.78300005197525024414, device='cuda:0')\n",
      "tensor(0.80900001525878906250, device='cuda:0')\n",
      "tensor(0.79979979991912841797, device='cuda:0')\n",
      "tensor(0.88500005006790161133, device='cuda:0')\n",
      "tensor(0.65700000524520874023, device='cuda:0')\n",
      "tensor(0.76500004529953002930, device='cuda:0')\n",
      "tensor(0.89300006628036499023, device='cuda:0')\n",
      "tensor(0.75375372171401977539, device='cuda:0')\n",
      "tensor(0.88900005817413330078, device='cuda:0')\n",
      "tensor(0.67200005054473876953, device='cuda:0')\n",
      "tensor(0.74200004339218139648, device='cuda:0')\n",
      "tensor(0.82800006866455078125, device='cuda:0')\n",
      "tensor(0.78678679466247558594, device='cuda:0')\n",
      "tensor(0.69200003147125244141, device='cuda:0')\n",
      "tensor(0.32500001788139343262, device='cuda:0')\n",
      "tensor(0.45200002193450927734, device='cuda:0')\n",
      "tensor(0.65600001811981201172, device='cuda:0')\n",
      "tensor(0.66666668653488159180, device='cuda:0')\n",
      "tensor(0.84300005435943603516, device='cuda:0')\n",
      "tensor(0.88300001621246337891, device='cuda:0')\n",
      "tensor(0.83200001716613769531, device='cuda:0')\n",
      "tensor(0.77900004386901855469, device='cuda:0')\n",
      "tensor(0.82682681083679199219, device='cuda:0')\n",
      "tensor(0.82600003480911254883, device='cuda:0')\n",
      "tensor(0.84300005435943603516, device='cuda:0')\n",
      "tensor(0.76200002431869506836, device='cuda:0')\n",
      "tensor(0.82900005578994750977, device='cuda:0')\n",
      "tensor(0.72172170877456665039, device='cuda:0')\n",
      "tensor(0.81000006198883056641, device='cuda:0')\n",
      "tensor(0.78800004720687866211, device='cuda:0')\n",
      "tensor(0.75600004196166992188, device='cuda:0')\n",
      "tensor(0.69500005245208740234, device='cuda:0')\n",
      "tensor(0.77977979183197021484, device='cuda:0')\n",
      "tensor(0.82719999551773071289, device='cuda:0')\n",
      "1 GradientRFRBoost test acc 0.8271999955177307 params {'feature_type': 'iid', 'hidden_dim': 2, 'in_dim': 2, 'l2_cls': 0.1, 'l2_ghat': 1e-05, 'lbfgs_lr': 1.0, 'lbfgs_max_iter': 300, 'modelClass': <class 'models.random_feature_representation_boosting.GradientRFRBoostClassifier'>, 'n_classes': 3, 'n_layers': 4, 'randfeat_x0_dim': 512, 'randfeat_xt_dim': 512, 'seed': 43, 'upscale_type': 'identity', 'use_batchnorm': True}\n",
      "tensor(0.52000004053115844727, device='cuda:0')\n",
      "tensor(0.53800004720687866211, device='cuda:0')\n",
      "tensor(0.46100002527236938477, device='cuda:0')\n",
      "tensor(0.31500002741813659668, device='cuda:0')\n",
      "tensor(0.52252250909805297852, device='cuda:0')\n",
      "tensor(0.82600003480911254883, device='cuda:0')\n",
      "tensor(0.69500005245208740234, device='cuda:0')\n",
      "tensor(0.82000005245208740234, device='cuda:0')\n",
      "tensor(0.83100003004074096680, device='cuda:0')\n",
      "tensor(0.81081080436706542969, device='cuda:0')\n",
      "tensor(0.92100006341934204102, device='cuda:0')\n",
      "tensor(0.55600005388259887695, device='cuda:0')\n",
      "tensor(0.89600002765655517578, device='cuda:0')\n",
      "tensor(0.82300001382827758789, device='cuda:0')\n",
      "tensor(0.86886882781982421875, device='cuda:0')\n",
      "tensor(0.97100007534027099609, device='cuda:0')\n",
      "tensor(0.63900005817413330078, device='cuda:0')\n",
      "tensor(0.80900001525878906250, device='cuda:0')\n",
      "tensor(0.72600001096725463867, device='cuda:0')\n",
      "tensor(0.75075072050094604492, device='cuda:0')\n",
      "tensor(0.39000001549720764160, device='cuda:0')\n",
      "tensor(0.48500001430511474609, device='cuda:0')\n",
      "tensor(0.36400002241134643555, device='cuda:0')\n",
      "tensor(0.49700000882148742676, device='cuda:0')\n",
      "tensor(0.57857859134674072266, device='cuda:0')\n",
      "tensor(0.82900005578994750977, device='cuda:0')\n",
      "tensor(0.69800001382827758789, device='cuda:0')\n",
      "tensor(0.82400006055831909180, device='cuda:0')\n",
      "tensor(0.82900005578994750977, device='cuda:0')\n",
      "tensor(0.82782781124114990234, device='cuda:0')\n",
      "tensor(0.96900004148483276367, device='cuda:0')\n",
      "tensor(0.56300002336502075195, device='cuda:0')\n",
      "tensor(0.87500005960464477539, device='cuda:0')\n",
      "tensor(0.84400004148483276367, device='cuda:0')\n",
      "tensor(0.87087082862854003906, device='cuda:0')\n",
      "tensor(0.98300004005432128906, device='cuda:0')\n",
      "tensor(0.62600004673004150391, device='cuda:0')\n",
      "tensor(0.82800006866455078125, device='cuda:0')\n",
      "tensor(0.74500006437301635742, device='cuda:0')\n",
      "tensor(0.88888889551162719727, device='cuda:0')\n",
      "tensor(0.40600001811981201172, device='cuda:0')\n",
      "tensor(0.34000000357627868652, device='cuda:0')\n",
      "tensor(0.70500004291534423828, device='cuda:0')\n",
      "tensor(0.43000000715255737305, device='cuda:0')\n",
      "tensor(0.57357358932495117188, device='cuda:0')\n",
      "tensor(0.81400001049041748047, device='cuda:0')\n",
      "tensor(0.74900001287460327148, device='cuda:0')\n",
      "tensor(0.75200003385543823242, device='cuda:0')\n",
      "tensor(0.82100003957748413086, device='cuda:0')\n",
      "tensor(0.85585582256317138672, device='cuda:0')\n",
      "tensor(0.96600002050399780273, device='cuda:0')\n",
      "tensor(0.63600003719329833984, device='cuda:0')\n",
      "tensor(0.86600005626678466797, device='cuda:0')\n",
      "tensor(0.87300002574920654297, device='cuda:0')\n",
      "tensor(0.90890890359878540039, device='cuda:0')\n",
      "tensor(0.97700005769729614258, device='cuda:0')\n",
      "tensor(0.59700000286102294922, device='cuda:0')\n",
      "tensor(0.82800006866455078125, device='cuda:0')\n",
      "tensor(0.89100003242492675781, device='cuda:0')\n",
      "tensor(0.76876878738403320312, device='cuda:0')\n",
      "tensor(0.41800001263618469238, device='cuda:0')\n",
      "tensor(0.59400004148483276367, device='cuda:0')\n",
      "tensor(0.63700002431869506836, device='cuda:0')\n",
      "tensor(0.33700001239776611328, device='cuda:0')\n",
      "tensor(0.45245245099067687988, device='cuda:0')\n",
      "tensor(0.83900004625320434570, device='cuda:0')\n",
      "tensor(0.74800002574920654297, device='cuda:0')\n",
      "tensor(0.70400005578994750977, device='cuda:0')\n",
      "tensor(0.83400005102157592773, device='cuda:0')\n",
      "tensor(0.80780780315399169922, device='cuda:0')\n",
      "tensor(0.85300004482269287109, device='cuda:0')\n",
      "tensor(0.66300004720687866211, device='cuda:0')\n",
      "tensor(0.70300000905990600586, device='cuda:0')\n",
      "tensor(0.81900006532669067383, device='cuda:0')\n",
      "tensor(0.77077078819274902344, device='cuda:0')\n",
      "tensor(0.82300001382827758789, device='cuda:0')\n",
      "tensor(0.67400002479553222656, device='cuda:0')\n",
      "tensor(0.59900003671646118164, device='cuda:0')\n",
      "tensor(0.81300002336502075195, device='cuda:0')\n",
      "tensor(0.71171170473098754883, device='cuda:0')\n",
      "tensor(0.63959997892379760742, device='cuda:0')\n",
      "2 GradientRFRBoost test acc 0.6395999789237976 params {'feature_type': 'iid', 'hidden_dim': 2, 'in_dim': 2, 'l2_cls': 0.01, 'l2_ghat': 0.0001, 'lbfgs_lr': 1.0, 'lbfgs_max_iter': 300, 'modelClass': <class 'models.random_feature_representation_boosting.GradientRFRBoostClassifier'>, 'n_classes': 3, 'n_layers': 4, 'randfeat_x0_dim': 512, 'randfeat_xt_dim': 512, 'seed': 44, 'upscale_type': 'identity', 'use_batchnorm': True}\n",
      "tensor(0.41500002145767211914, device='cuda:0')\n",
      "tensor(0.44800001382827758789, device='cuda:0')\n",
      "tensor(0.41700002551078796387, device='cuda:0')\n",
      "tensor(0.31700000166893005371, device='cuda:0')\n",
      "tensor(0.47147145867347717285, device='cuda:0')\n",
      "tensor(0.76900005340576171875, device='cuda:0')\n",
      "tensor(0.65400004386901855469, device='cuda:0')\n",
      "tensor(0.76400005817413330078, device='cuda:0')\n",
      "tensor(0.78900003433227539062, device='cuda:0')\n",
      "tensor(0.65365362167358398438, device='cuda:0')\n",
      "tensor(0.78200006484985351562, device='cuda:0')\n",
      "tensor(0.62900000810623168945, device='cuda:0')\n",
      "tensor(0.68600004911422729492, device='cuda:0')\n",
      "tensor(0.87400001287460327148, device='cuda:0')\n",
      "tensor(0.60860860347747802734, device='cuda:0')\n",
      "tensor(0.68700003623962402344, device='cuda:0')\n",
      "tensor(0.58900004625320434570, device='cuda:0')\n",
      "tensor(0.68800002336502075195, device='cuda:0')\n",
      "tensor(0.79800003767013549805, device='cuda:0')\n",
      "tensor(0.65765762329101562500, device='cuda:0')\n",
      "tensor(0.52200001478195190430, device='cuda:0')\n",
      "tensor(0.37000000476837158203, device='cuda:0')\n",
      "tensor(0.34900000691413879395, device='cuda:0')\n",
      "tensor(0.47000002861022949219, device='cuda:0')\n",
      "tensor(0.49649649858474731445, device='cuda:0')\n",
      "tensor(0.77200001478195190430, device='cuda:0')\n",
      "tensor(0.65100002288818359375, device='cuda:0')\n",
      "tensor(0.78800004720687866211, device='cuda:0')\n",
      "tensor(0.79000002145767211914, device='cuda:0')\n",
      "tensor(0.64964962005615234375, device='cuda:0')\n",
      "tensor(0.79200005531311035156, device='cuda:0')\n",
      "tensor(0.62800002098083496094, device='cuda:0')\n",
      "tensor(0.68800002336502075195, device='cuda:0')\n",
      "tensor(0.87300002574920654297, device='cuda:0')\n",
      "tensor(0.59859859943389892578, device='cuda:0')\n",
      "tensor(0.67600005865097045898, device='cuda:0')\n",
      "tensor(0.58799999952316284180, device='cuda:0')\n",
      "tensor(0.68200004100799560547, device='cuda:0')\n",
      "tensor(0.82800006866455078125, device='cuda:0')\n",
      "tensor(0.66066062450408935547, device='cuda:0')\n",
      "tensor(0.38400000333786010742, device='cuda:0')\n",
      "tensor(0.44300001859664916992, device='cuda:0')\n",
      "tensor(0.41200003027915954590, device='cuda:0')\n",
      "tensor(0.35000002384185791016, device='cuda:0')\n",
      "tensor(0.49349349737167358398, device='cuda:0')\n",
      "tensor(0.81900006532669067383, device='cuda:0')\n",
      "tensor(0.62600004673004150391, device='cuda:0')\n",
      "tensor(0.83900004625320434570, device='cuda:0')\n",
      "tensor(0.80300003290176391602, device='cuda:0')\n",
      "tensor(0.61961960792541503906, device='cuda:0')\n",
      "tensor(0.77500003576278686523, device='cuda:0')\n",
      "tensor(0.60900002717971801758, device='cuda:0')\n",
      "tensor(0.73500001430511474609, device='cuda:0')\n",
      "tensor(0.88100004196166992188, device='cuda:0')\n",
      "tensor(0.54554551839828491211, device='cuda:0')\n",
      "tensor(0.76400005817413330078, device='cuda:0')\n",
      "tensor(0.60500001907348632812, device='cuda:0')\n",
      "tensor(0.69300001859664916992, device='cuda:0')\n",
      "tensor(0.87000006437301635742, device='cuda:0')\n",
      "tensor(0.67267268896102905273, device='cuda:0')\n",
      "tensor(0.48000001907348632812, device='cuda:0')\n",
      "tensor(0.36500000953674316406, device='cuda:0')\n",
      "tensor(0.40500003099441528320, device='cuda:0')\n",
      "tensor(0.54200005531311035156, device='cuda:0')\n",
      "tensor(0.40240240097045898438, device='cuda:0')\n",
      "tensor(0.77500003576278686523, device='cuda:0')\n",
      "tensor(0.68500006198883056641, device='cuda:0')\n",
      "tensor(0.79700005054473876953, device='cuda:0')\n",
      "tensor(0.79000002145767211914, device='cuda:0')\n",
      "tensor(0.79479479789733886719, device='cuda:0')\n",
      "tensor(0.75800001621246337891, device='cuda:0')\n",
      "tensor(0.66800004243850708008, device='cuda:0')\n",
      "tensor(0.72500002384185791016, device='cuda:0')\n",
      "tensor(0.74900001287460327148, device='cuda:0')\n",
      "tensor(0.56156152486801147461, device='cuda:0')\n",
      "tensor(0.74200004339218139648, device='cuda:0')\n",
      "tensor(0.61000001430511474609, device='cuda:0')\n",
      "tensor(0.65000003576278686523, device='cuda:0')\n",
      "tensor(0.77400004863739013672, device='cuda:0')\n",
      "tensor(0.56156152486801147461, device='cuda:0')\n",
      "tensor(0.78020000457763671875, device='cuda:0')\n",
      "3 GradientRFRBoost test acc 0.7802000045776367 params {'feature_type': 'iid', 'hidden_dim': 2, 'in_dim': 2, 'l2_cls': 0.1, 'l2_ghat': 1e-05, 'lbfgs_lr': 1.0, 'lbfgs_max_iter': 300, 'modelClass': <class 'models.random_feature_representation_boosting.GradientRFRBoostClassifier'>, 'n_classes': 3, 'n_layers': 4, 'randfeat_x0_dim': 512, 'randfeat_xt_dim': 512, 'seed': 45, 'upscale_type': 'identity', 'use_batchnorm': True}\n",
      "tensor(0.31500002741813659668, device='cuda:0')\n",
      "tensor(0.43400001525878906250, device='cuda:0')\n",
      "tensor(0.41800001263618469238, device='cuda:0')\n",
      "tensor(0.55600005388259887695, device='cuda:0')\n",
      "tensor(0.59659659862518310547, device='cuda:0')\n",
      "tensor(0.78900003433227539062, device='cuda:0')\n",
      "tensor(0.71400004625320434570, device='cuda:0')\n",
      "tensor(0.76800000667572021484, device='cuda:0')\n",
      "tensor(0.98700004816055297852, device='cuda:0')\n",
      "tensor(0.68868869543075561523, device='cuda:0')\n",
      "tensor(0.80200004577636718750, device='cuda:0')\n",
      "tensor(0.61800003051757812500, device='cuda:0')\n",
      "tensor(0.71800005435943603516, device='cuda:0')\n",
      "tensor(0.90200006961822509766, device='cuda:0')\n",
      "tensor(0.59459459781646728516, device='cuda:0')\n",
      "tensor(0.71200001239776611328, device='cuda:0')\n",
      "tensor(0.55800002813339233398, device='cuda:0')\n",
      "tensor(0.65700000524520874023, device='cuda:0')\n",
      "tensor(0.92700004577636718750, device='cuda:0')\n",
      "tensor(0.58758759498596191406, device='cuda:0')\n",
      "tensor(0.39200001955032348633, device='cuda:0')\n",
      "tensor(0.49900001287460327148, device='cuda:0')\n",
      "tensor(0.38500002026557922363, device='cuda:0')\n",
      "tensor(0.54000002145767211914, device='cuda:0')\n",
      "tensor(0.50150150060653686523, device='cuda:0')\n",
      "tensor(0.80200004577636718750, device='cuda:0')\n",
      "tensor(0.72000002861022949219, device='cuda:0')\n",
      "tensor(0.78400003910064697266, device='cuda:0')\n",
      "tensor(0.98500007390975952148, device='cuda:0')\n",
      "tensor(0.69569569826126098633, device='cuda:0')\n",
      "tensor(0.81800001859664916992, device='cuda:0')\n",
      "tensor(0.64700001478195190430, device='cuda:0')\n",
      "tensor(0.72000002861022949219, device='cuda:0')\n",
      "tensor(0.91900002956390380859, device='cuda:0')\n",
      "tensor(0.60060060024261474609, device='cuda:0')\n",
      "tensor(0.74500006437301635742, device='cuda:0')\n",
      "tensor(0.58200001716613769531, device='cuda:0')\n",
      "tensor(0.65700000524520874023, device='cuda:0')\n",
      "tensor(0.93900007009506225586, device='cuda:0')\n",
      "tensor(0.59559559822082519531, device='cuda:0')\n",
      "tensor(0.33500000834465026855, device='cuda:0')\n",
      "tensor(0.34800001978874206543, device='cuda:0')\n",
      "tensor(0.43100002408027648926, device='cuda:0')\n",
      "tensor(0.52300000190734863281, device='cuda:0')\n",
      "tensor(0.52852851152420043945, device='cuda:0')\n",
      "tensor(0.82100003957748413086, device='cuda:0')\n",
      "tensor(0.74300003051757812500, device='cuda:0')\n",
      "tensor(0.78900003433227539062, device='cuda:0')\n",
      "tensor(0.92400002479553222656, device='cuda:0')\n",
      "tensor(0.73073071241378784180, device='cuda:0')\n",
      "tensor(0.86400002241134643555, device='cuda:0')\n",
      "tensor(0.63000005483627319336, device='cuda:0')\n",
      "tensor(0.75400000810623168945, device='cuda:0')\n",
      "tensor(0.92600005865097045898, device='cuda:0')\n",
      "tensor(0.63163161277770996094, device='cuda:0')\n",
      "tensor(0.83400005102157592773, device='cuda:0')\n",
      "tensor(0.58100003004074096680, device='cuda:0')\n",
      "tensor(0.70900005102157592773, device='cuda:0')\n",
      "tensor(0.92700004577636718750, device='cuda:0')\n",
      "tensor(0.62162160873413085938, device='cuda:0')\n",
      "tensor(0.38600000739097595215, device='cuda:0')\n",
      "tensor(0.52500003576278686523, device='cuda:0')\n",
      "tensor(0.41200003027915954590, device='cuda:0')\n",
      "tensor(0.55400002002716064453, device='cuda:0')\n",
      "tensor(0.57957959175109863281, device='cuda:0')\n",
      "tensor(0.76900005340576171875, device='cuda:0')\n",
      "tensor(0.60200005769729614258, device='cuda:0')\n",
      "tensor(0.82900005578994750977, device='cuda:0')\n",
      "tensor(0.93400001525878906250, device='cuda:0')\n",
      "tensor(0.94594591856002807617, device='cuda:0')\n",
      "tensor(0.82100003957748413086, device='cuda:0')\n",
      "tensor(0.55900001525878906250, device='cuda:0')\n",
      "tensor(0.82300001382827758789, device='cuda:0')\n",
      "tensor(0.88900005817413330078, device='cuda:0')\n",
      "tensor(0.76676672697067260742, device='cuda:0')\n",
      "tensor(0.79500001668930053711, device='cuda:0')\n",
      "tensor(0.47800001502037048340, device='cuda:0')\n",
      "tensor(0.77700001001358032227, device='cuda:0')\n",
      "tensor(0.83200001716613769531, device='cuda:0')\n",
      "tensor(0.74274271726608276367, device='cuda:0')\n",
      "tensor(0.68939995765686035156, device='cuda:0')\n",
      "4 GradientRFRBoost test acc 0.6893999576568604 params {'feature_type': 'iid', 'hidden_dim': 2, 'in_dim': 2, 'l2_cls': 0.1, 'l2_ghat': 1e-05, 'lbfgs_lr': 1.0, 'lbfgs_max_iter': 300, 'modelClass': <class 'models.random_feature_representation_boosting.GradientRFRBoostClassifier'>, 'n_classes': 3, 'n_layers': 4, 'randfeat_x0_dim': 512, 'randfeat_xt_dim': 512, 'seed': 46, 'upscale_type': 'identity', 'use_batchnorm': True}\n",
      "tensor(0.60400003194808959961, device='cuda:0')\n",
      "tensor(0.54600000381469726562, device='cuda:0')\n",
      "tensor(0.73500001430511474609, device='cuda:0')\n",
      "tensor(0.73400002717971801758, device='cuda:0')\n",
      "tensor(0.78478479385375976562, device='cuda:0')\n",
      "tensor(0.98800003528594970703, device='cuda:0')\n",
      "tensor(0.99400001764297485352, device='cuda:0')\n",
      "tensor(0.89000004529953002930, device='cuda:0')\n",
      "tensor(0.94400006532669067383, device='cuda:0')\n",
      "tensor(0.98298299312591552734, device='cuda:0')\n",
      "tensor(0.98100006580352783203, device='cuda:0')\n",
      "tensor(0.98400002717971801758, device='cuda:0')\n",
      "tensor(0.96800005435943603516, device='cuda:0')\n",
      "tensor(0.99000006914138793945, device='cuda:0')\n",
      "tensor(0.97597599029541015625, device='cuda:0')\n",
      "tensor(0.94200003147125244141, device='cuda:0')\n",
      "tensor(0.94100004434585571289, device='cuda:0')\n",
      "tensor(0.90700006484985351562, device='cuda:0')\n",
      "tensor(0.95700001716613769531, device='cuda:0')\n",
      "tensor(0.89289289712905883789, device='cuda:0')\n",
      "tensor(0.59900003671646118164, device='cuda:0')\n",
      "tensor(0.58500003814697265625, device='cuda:0')\n",
      "tensor(0.73400002717971801758, device='cuda:0')\n",
      "tensor(0.65300005674362182617, device='cuda:0')\n",
      "tensor(0.78978979587554931641, device='cuda:0')\n",
      "tensor(0.98800003528594970703, device='cuda:0')\n",
      "tensor(0.99500006437301635742, device='cuda:0')\n",
      "tensor(0.86700004339218139648, device='cuda:0')\n",
      "tensor(0.96600002050399780273, device='cuda:0')\n",
      "tensor(0.98798799514770507812, device='cuda:0')\n",
      "tensor(0.98400002717971801758, device='cuda:0')\n",
      "tensor(0.98800003528594970703, device='cuda:0')\n",
      "tensor(0.97300004959106445312, device='cuda:0')\n",
      "tensor(0.98400002717971801758, device='cuda:0')\n",
      "tensor(0.98598599433898925781, device='cuda:0')\n",
      "tensor(0.94300001859664916992, device='cuda:0')\n",
      "tensor(0.94600003957748413086, device='cuda:0')\n",
      "tensor(0.93900007009506225586, device='cuda:0')\n",
      "tensor(0.95300006866455078125, device='cuda:0')\n",
      "tensor(0.93293291330337524414, device='cuda:0')\n",
      "tensor(0.52400004863739013672, device='cuda:0')\n",
      "tensor(0.58300000429153442383, device='cuda:0')\n",
      "tensor(0.72000002861022949219, device='cuda:0')\n",
      "tensor(0.70000004768371582031, device='cuda:0')\n",
      "tensor(0.66366362571716308594, device='cuda:0')\n",
      "tensor(0.97700005769729614258, device='cuda:0')\n",
      "tensor(0.98700004816055297852, device='cuda:0')\n",
      "tensor(0.94500005245208740234, device='cuda:0')\n",
      "tensor(0.95600003004074096680, device='cuda:0')\n",
      "tensor(0.97797799110412597656, device='cuda:0')\n",
      "tensor(0.97000002861022949219, device='cuda:0')\n",
      "tensor(0.98300004005432128906, device='cuda:0')\n",
      "tensor(0.97000002861022949219, device='cuda:0')\n",
      "tensor(0.97200006246566772461, device='cuda:0')\n",
      "tensor(0.97097092866897583008, device='cuda:0')\n",
      "tensor(0.91400003433227539062, device='cuda:0')\n",
      "tensor(0.95500004291534423828, device='cuda:0')\n",
      "tensor(0.94200003147125244141, device='cuda:0')\n",
      "tensor(0.95500004291534423828, device='cuda:0')\n",
      "tensor(0.95195192098617553711, device='cuda:0')\n",
      "tensor(0.55800002813339233398, device='cuda:0')\n",
      "tensor(0.60700005292892456055, device='cuda:0')\n",
      "tensor(0.71100002527236938477, device='cuda:0')\n",
      "tensor(0.71100002527236938477, device='cuda:0')\n",
      "tensor(0.75375372171401977539, device='cuda:0')\n",
      "tensor(0.97100007534027099609, device='cuda:0')\n",
      "tensor(0.97700005769729614258, device='cuda:0')\n",
      "tensor(0.93600004911422729492, device='cuda:0')\n",
      "tensor(0.95600003004074096680, device='cuda:0')\n",
      "tensor(0.98398399353027343750, device='cuda:0')\n",
      "tensor(0.96500003337860107422, device='cuda:0')\n",
      "tensor(0.97700005769729614258, device='cuda:0')\n",
      "tensor(0.96200007200241088867, device='cuda:0')\n",
      "tensor(0.97200006246566772461, device='cuda:0')\n",
      "tensor(0.97497498989105224609, device='cuda:0')\n",
      "tensor(0.91500002145767211914, device='cuda:0')\n",
      "tensor(0.94000005722045898438, device='cuda:0')\n",
      "tensor(0.92900002002716064453, device='cuda:0')\n",
      "tensor(0.92700004577636718750, device='cuda:0')\n",
      "tensor(0.92292290925979614258, device='cuda:0')\n",
      "tensor(0.99059998989105224609, device='cuda:0')\n",
      "0 GradientRFRBoost SWIM test acc 0.9905999898910522 params {'feature_type': 'SWIM', 'hidden_dim': 2, 'in_dim': 2, 'l2_cls': 0.001, 'l2_ghat': 0.0001, 'lbfgs_lr': 1.0, 'lbfgs_max_iter': 300, 'modelClass': <class 'models.random_feature_representation_boosting.GradientRFRBoostClassifier'>, 'n_classes': 3, 'n_layers': 4, 'randfeat_x0_dim': 512, 'randfeat_xt_dim': 512, 'seed': 42, 'upscale_type': 'identity', 'use_batchnorm': True}\n",
      "plotting and saving feature evolution point cloud\n",
      "tensor(0.67800003290176391602, device='cuda:0')\n",
      "tensor(0.79200005531311035156, device='cuda:0')\n",
      "tensor(0.74800002574920654297, device='cuda:0')\n",
      "tensor(0.45800003409385681152, device='cuda:0')\n",
      "tensor(0.89589589834213256836, device='cuda:0')\n",
      "tensor(0.98000001907348632812, device='cuda:0')\n",
      "tensor(0.97900003194808959961, device='cuda:0')\n",
      "tensor(0.91700005531311035156, device='cuda:0')\n",
      "tensor(0.98100006580352783203, device='cuda:0')\n",
      "tensor(0.91191190481185913086, device='cuda:0')\n",
      "tensor(0.98700004816055297852, device='cuda:0')\n",
      "tensor(0.96400004625320434570, device='cuda:0')\n",
      "tensor(0.97800004482269287109, device='cuda:0')\n",
      "tensor(0.99200004339218139648, device='cuda:0')\n",
      "tensor(0.99399399757385253906, device='cuda:0')\n",
      "tensor(0.93000006675720214844, device='cuda:0')\n",
      "tensor(0.89300006628036499023, device='cuda:0')\n",
      "tensor(0.88900005817413330078, device='cuda:0')\n",
      "tensor(0.93700003623962402344, device='cuda:0')\n",
      "tensor(0.95895892381668090820, device='cuda:0')\n",
      "tensor(0.67900002002716064453, device='cuda:0')\n",
      "tensor(0.41400003433227539062, device='cuda:0')\n",
      "tensor(0.66900002956390380859, device='cuda:0')\n",
      "tensor(0.52000004053115844727, device='cuda:0')\n",
      "tensor(0.83783781528472900391, device='cuda:0')\n",
      "tensor(0.98600006103515625000, device='cuda:0')\n",
      "tensor(0.98100006580352783203, device='cuda:0')\n",
      "tensor(0.94400006532669067383, device='cuda:0')\n",
      "tensor(0.98100006580352783203, device='cuda:0')\n",
      "tensor(0.88088089227676391602, device='cuda:0')\n",
      "tensor(0.98200005292892456055, device='cuda:0')\n",
      "tensor(0.98000001907348632812, device='cuda:0')\n",
      "tensor(0.98600006103515625000, device='cuda:0')\n",
      "tensor(0.98900002241134643555, device='cuda:0')\n",
      "tensor(0.99099099636077880859, device='cuda:0')\n",
      "tensor(0.95700001716613769531, device='cuda:0')\n",
      "tensor(0.92300003767013549805, device='cuda:0')\n",
      "tensor(0.90500003099441528320, device='cuda:0')\n",
      "tensor(0.97100007534027099609, device='cuda:0')\n",
      "tensor(0.95895892381668090820, device='cuda:0')\n",
      "tensor(0.61900001764297485352, device='cuda:0')\n",
      "tensor(0.78100001811981201172, device='cuda:0')\n",
      "tensor(0.82800006866455078125, device='cuda:0')\n",
      "tensor(0.58400005102157592773, device='cuda:0')\n",
      "tensor(0.82882881164550781250, device='cuda:0')\n",
      "tensor(0.98500007390975952148, device='cuda:0')\n",
      "tensor(0.97700005769729614258, device='cuda:0')\n",
      "tensor(0.96600002050399780273, device='cuda:0')\n",
      "tensor(0.97300004959106445312, device='cuda:0')\n",
      "tensor(0.88888889551162719727, device='cuda:0')\n",
      "tensor(0.97600007057189941406, device='cuda:0')\n",
      "tensor(0.97400003671646118164, device='cuda:0')\n",
      "tensor(0.98200005292892456055, device='cuda:0')\n",
      "tensor(0.98100006580352783203, device='cuda:0')\n",
      "tensor(0.98598599433898925781, device='cuda:0')\n",
      "tensor(0.95300006866455078125, device='cuda:0')\n",
      "tensor(0.94400006532669067383, device='cuda:0')\n",
      "tensor(0.94000005722045898438, device='cuda:0')\n",
      "tensor(0.96200007200241088867, device='cuda:0')\n",
      "tensor(0.95595592260360717773, device='cuda:0')\n",
      "tensor(0.74700003862380981445, device='cuda:0')\n",
      "tensor(0.63900005817413330078, device='cuda:0')\n",
      "tensor(0.64500004053115844727, device='cuda:0')\n",
      "tensor(0.52799999713897705078, device='cuda:0')\n",
      "tensor(0.69269269704818725586, device='cuda:0')\n",
      "tensor(0.98000001907348632812, device='cuda:0')\n",
      "tensor(0.98000001907348632812, device='cuda:0')\n",
      "tensor(0.95100003480911254883, device='cuda:0')\n",
      "tensor(0.97300004959106445312, device='cuda:0')\n",
      "tensor(0.94594591856002807617, device='cuda:0')\n",
      "tensor(0.97400003671646118164, device='cuda:0')\n",
      "tensor(0.97400003671646118164, device='cuda:0')\n",
      "tensor(0.97900003194808959961, device='cuda:0')\n",
      "tensor(0.98100006580352783203, device='cuda:0')\n",
      "tensor(0.98098099231719970703, device='cuda:0')\n",
      "tensor(0.94400006532669067383, device='cuda:0')\n",
      "tensor(0.93400001525878906250, device='cuda:0')\n",
      "tensor(0.93100005388259887695, device='cuda:0')\n",
      "tensor(0.95600003004074096680, device='cuda:0')\n",
      "tensor(0.94694691896438598633, device='cuda:0')\n",
      "tensor(0.98439997434616088867, device='cuda:0')\n",
      "1 GradientRFRBoost SWIM test acc 0.9843999743461609 params {'feature_type': 'SWIM', 'hidden_dim': 2, 'in_dim': 2, 'l2_cls': 0.001, 'l2_ghat': 0.0001, 'lbfgs_lr': 1.0, 'lbfgs_max_iter': 300, 'modelClass': <class 'models.random_feature_representation_boosting.GradientRFRBoostClassifier'>, 'n_classes': 3, 'n_layers': 4, 'randfeat_x0_dim': 512, 'randfeat_xt_dim': 512, 'seed': 43, 'upscale_type': 'identity', 'use_batchnorm': True}\n",
      "tensor(0.92600005865097045898, device='cuda:0')\n",
      "tensor(0.74500006437301635742, device='cuda:0')\n",
      "tensor(0.79200005531311035156, device='cuda:0')\n",
      "tensor(0.75800001621246337891, device='cuda:0')\n",
      "tensor(0.56456458568572998047, device='cuda:0')\n",
      "tensor(0.97400003671646118164, device='cuda:0')\n",
      "tensor(0.88500005006790161133, device='cuda:0')\n",
      "tensor(0.97600007057189941406, device='cuda:0')\n",
      "tensor(0.89800006151199340820, device='cuda:0')\n",
      "tensor(0.92792791128158569336, device='cuda:0')\n",
      "tensor(0.99200004339218139648, device='cuda:0')\n",
      "tensor(0.97800004482269287109, device='cuda:0')\n",
      "tensor(0.96300005912780761719, device='cuda:0')\n",
      "tensor(0.98100006580352783203, device='cuda:0')\n",
      "tensor(0.99599599838256835938, device='cuda:0')\n",
      "tensor(0.95200002193450927734, device='cuda:0')\n",
      "tensor(0.91500002145767211914, device='cuda:0')\n",
      "tensor(0.88800007104873657227, device='cuda:0')\n",
      "tensor(0.92800003290176391602, device='cuda:0')\n",
      "tensor(0.96896892786026000977, device='cuda:0')\n",
      "tensor(0.93500006198883056641, device='cuda:0')\n",
      "tensor(0.77200001478195190430, device='cuda:0')\n",
      "tensor(0.80800002813339233398, device='cuda:0')\n",
      "tensor(0.73800003528594970703, device='cuda:0')\n",
      "tensor(0.58458459377288818359, device='cuda:0')\n",
      "tensor(0.98400002717971801758, device='cuda:0')\n",
      "tensor(0.91100007295608520508, device='cuda:0')\n",
      "tensor(0.96300005912780761719, device='cuda:0')\n",
      "tensor(0.89700001478195190430, device='cuda:0')\n",
      "tensor(0.92692691087722778320, device='cuda:0')\n",
      "tensor(0.99500006437301635742, device='cuda:0')\n",
      "tensor(0.97700005769729614258, device='cuda:0')\n",
      "tensor(0.97400003671646118164, device='cuda:0')\n",
      "tensor(0.97700005769729614258, device='cuda:0')\n",
      "tensor(0.99599599838256835938, device='cuda:0')\n",
      "tensor(0.94800007343292236328, device='cuda:0')\n",
      "tensor(0.92300003767013549805, device='cuda:0')\n",
      "tensor(0.90600001811981201172, device='cuda:0')\n",
      "tensor(0.94100004434585571289, device='cuda:0')\n",
      "tensor(0.96296292543411254883, device='cuda:0')\n",
      "tensor(0.91000002622604370117, device='cuda:0')\n",
      "tensor(0.79700005054473876953, device='cuda:0')\n",
      "tensor(0.82600003480911254883, device='cuda:0')\n",
      "tensor(0.74700003862380981445, device='cuda:0')\n",
      "tensor(0.50650650262832641602, device='cuda:0')\n",
      "tensor(0.97600007057189941406, device='cuda:0')\n",
      "tensor(0.95500004291534423828, device='cuda:0')\n",
      "tensor(0.96500003337860107422, device='cuda:0')\n",
      "tensor(0.90000003576278686523, device='cuda:0')\n",
      "tensor(0.92892891168594360352, device='cuda:0')\n",
      "tensor(0.98400002717971801758, device='cuda:0')\n",
      "tensor(0.97600007057189941406, device='cuda:0')\n",
      "tensor(0.97500002384185791016, device='cuda:0')\n",
      "tensor(0.96600002050399780273, device='cuda:0')\n",
      "tensor(0.97597599029541015625, device='cuda:0')\n",
      "tensor(0.94600003957748413086, device='cuda:0')\n",
      "tensor(0.93500006198883056641, device='cuda:0')\n",
      "tensor(0.92700004577636718750, device='cuda:0')\n",
      "tensor(0.94100004434585571289, device='cuda:0')\n",
      "tensor(0.94894891977310180664, device='cuda:0')\n",
      "tensor(0.81800001859664916992, device='cuda:0')\n",
      "tensor(0.62100005149841308594, device='cuda:0')\n",
      "tensor(0.75200003385543823242, device='cuda:0')\n",
      "tensor(0.67000001668930053711, device='cuda:0')\n",
      "tensor(0.71671670675277709961, device='cuda:0')\n",
      "tensor(0.96600002050399780273, device='cuda:0')\n",
      "tensor(0.94300001859664916992, device='cuda:0')\n",
      "tensor(0.95800006389617919922, device='cuda:0')\n",
      "tensor(0.93200004100799560547, device='cuda:0')\n",
      "tensor(0.92392390966415405273, device='cuda:0')\n",
      "tensor(0.97300004959106445312, device='cuda:0')\n",
      "tensor(0.96500003337860107422, device='cuda:0')\n",
      "tensor(0.97200006246566772461, device='cuda:0')\n",
      "tensor(0.96100002527236938477, device='cuda:0')\n",
      "tensor(0.97397398948669433594, device='cuda:0')\n",
      "tensor(0.93600004911422729492, device='cuda:0')\n",
      "tensor(0.93500006198883056641, device='cuda:0')\n",
      "tensor(0.93800002336502075195, device='cuda:0')\n",
      "tensor(0.93100005388259887695, device='cuda:0')\n",
      "tensor(0.93593591451644897461, device='cuda:0')\n",
      "tensor(0.97919994592666625977, device='cuda:0')\n",
      "2 GradientRFRBoost SWIM test acc 0.9791999459266663 params {'feature_type': 'SWIM', 'hidden_dim': 2, 'in_dim': 2, 'l2_cls': 0.001, 'l2_ghat': 0.0001, 'lbfgs_lr': 1.0, 'lbfgs_max_iter': 300, 'modelClass': <class 'models.random_feature_representation_boosting.GradientRFRBoostClassifier'>, 'n_classes': 3, 'n_layers': 4, 'randfeat_x0_dim': 512, 'randfeat_xt_dim': 512, 'seed': 44, 'upscale_type': 'identity', 'use_batchnorm': True}\n",
      "tensor(0.68600004911422729492, device='cuda:0')\n",
      "tensor(0.84000003337860107422, device='cuda:0')\n",
      "tensor(0.75000005960464477539, device='cuda:0')\n",
      "tensor(0.42100003361701965332, device='cuda:0')\n",
      "tensor(0.81481480598449707031, device='cuda:0')\n",
      "tensor(0.97000002861022949219, device='cuda:0')\n",
      "tensor(0.97900003194808959961, device='cuda:0')\n",
      "tensor(0.95500004291534423828, device='cuda:0')\n",
      "tensor(0.92600005865097045898, device='cuda:0')\n",
      "tensor(0.85185182094573974609, device='cuda:0')\n",
      "tensor(0.96300005912780761719, device='cuda:0')\n",
      "tensor(0.97100007534027099609, device='cuda:0')\n",
      "tensor(0.97300004959106445312, device='cuda:0')\n",
      "tensor(0.98900002241134643555, device='cuda:0')\n",
      "tensor(0.97297292947769165039, device='cuda:0')\n",
      "tensor(0.91200006008148193359, device='cuda:0')\n",
      "tensor(0.90500003099441528320, device='cuda:0')\n",
      "tensor(0.90700006484985351562, device='cuda:0')\n",
      "tensor(0.94500005245208740234, device='cuda:0')\n",
      "tensor(0.90590590238571166992, device='cuda:0')\n",
      "tensor(0.65000003576278686523, device='cuda:0')\n",
      "tensor(0.76300001144409179688, device='cuda:0')\n",
      "tensor(0.63200002908706665039, device='cuda:0')\n",
      "tensor(0.63000005483627319336, device='cuda:0')\n",
      "tensor(0.81981980800628662109, device='cuda:0')\n",
      "tensor(0.98600006103515625000, device='cuda:0')\n",
      "tensor(0.97900003194808959961, device='cuda:0')\n",
      "tensor(0.97500002384185791016, device='cuda:0')\n",
      "tensor(0.97400003671646118164, device='cuda:0')\n",
      "tensor(0.84384381771087646484, device='cuda:0')\n",
      "tensor(0.96300005912780761719, device='cuda:0')\n",
      "tensor(0.98100006580352783203, device='cuda:0')\n",
      "tensor(0.98200005292892456055, device='cuda:0')\n",
      "tensor(0.98600006103515625000, device='cuda:0')\n",
      "tensor(0.97397398948669433594, device='cuda:0')\n",
      "tensor(0.91700005531311035156, device='cuda:0')\n",
      "tensor(0.92800003290176391602, device='cuda:0')\n",
      "tensor(0.93200004100799560547, device='cuda:0')\n",
      "tensor(0.97000002861022949219, device='cuda:0')\n",
      "tensor(0.92292290925979614258, device='cuda:0')\n",
      "tensor(0.62900000810623168945, device='cuda:0')\n",
      "tensor(0.83500003814697265625, device='cuda:0')\n",
      "tensor(0.63700002431869506836, device='cuda:0')\n",
      "tensor(0.50800001621246337891, device='cuda:0')\n",
      "tensor(0.80880880355834960938, device='cuda:0')\n",
      "tensor(0.97500002384185791016, device='cuda:0')\n",
      "tensor(0.97900003194808959961, device='cuda:0')\n",
      "tensor(0.98100006580352783203, device='cuda:0')\n",
      "tensor(0.96600002050399780273, device='cuda:0')\n",
      "tensor(0.86486482620239257812, device='cuda:0')\n",
      "tensor(0.97700005769729614258, device='cuda:0')\n",
      "tensor(0.97400003671646118164, device='cuda:0')\n",
      "tensor(0.98400002717971801758, device='cuda:0')\n",
      "tensor(0.97500002384185791016, device='cuda:0')\n",
      "tensor(0.97397398948669433594, device='cuda:0')\n",
      "tensor(0.92800003290176391602, device='cuda:0')\n",
      "tensor(0.93500006198883056641, device='cuda:0')\n",
      "tensor(0.93600004911422729492, device='cuda:0')\n",
      "tensor(0.95500004291534423828, device='cuda:0')\n",
      "tensor(0.93093091249465942383, device='cuda:0')\n",
      "tensor(0.71400004625320434570, device='cuda:0')\n",
      "tensor(0.80900001525878906250, device='cuda:0')\n",
      "tensor(0.65500003099441528320, device='cuda:0')\n",
      "tensor(0.67000001668930053711, device='cuda:0')\n",
      "tensor(0.71471470594406127930, device='cuda:0')\n",
      "tensor(0.96600002050399780273, device='cuda:0')\n",
      "tensor(0.96700006723403930664, device='cuda:0')\n",
      "tensor(0.96900004148483276367, device='cuda:0')\n",
      "tensor(0.96800005435943603516, device='cuda:0')\n",
      "tensor(0.87087082862854003906, device='cuda:0')\n",
      "tensor(0.96100002527236938477, device='cuda:0')\n",
      "tensor(0.97000002861022949219, device='cuda:0')\n",
      "tensor(0.97400003671646118164, device='cuda:0')\n",
      "tensor(0.98200005292892456055, device='cuda:0')\n",
      "tensor(0.96096092462539672852, device='cuda:0')\n",
      "tensor(0.92600005865097045898, device='cuda:0')\n",
      "tensor(0.93200004100799560547, device='cuda:0')\n",
      "tensor(0.92500007152557373047, device='cuda:0')\n",
      "tensor(0.96900004148483276367, device='cuda:0')\n",
      "tensor(0.91691690683364868164, device='cuda:0')\n",
      "tensor(0.99099999666213989258, device='cuda:0')\n",
      "3 GradientRFRBoost SWIM test acc 0.9909999966621399 params {'feature_type': 'SWIM', 'hidden_dim': 2, 'in_dim': 2, 'l2_cls': 0.001, 'l2_ghat': 0.0001, 'lbfgs_lr': 1.0, 'lbfgs_max_iter': 300, 'modelClass': <class 'models.random_feature_representation_boosting.GradientRFRBoostClassifier'>, 'n_classes': 3, 'n_layers': 4, 'randfeat_x0_dim': 512, 'randfeat_xt_dim': 512, 'seed': 45, 'upscale_type': 'identity', 'use_batchnorm': True}\n",
      "tensor(0.82200002670288085938, device='cuda:0')\n",
      "tensor(0.72800004482269287109, device='cuda:0')\n",
      "tensor(0.46000000834465026855, device='cuda:0')\n",
      "tensor(0.71000003814697265625, device='cuda:0')\n",
      "tensor(0.59059059619903564453, device='cuda:0')\n",
      "tensor(0.98900002241134643555, device='cuda:0')\n",
      "tensor(0.98900002241134643555, device='cuda:0')\n",
      "tensor(0.95500004291534423828, device='cuda:0')\n",
      "tensor(0.92600005865097045898, device='cuda:0')\n",
      "tensor(0.99199199676513671875, device='cuda:0')\n",
      "tensor(0.99400001764297485352, device='cuda:0')\n",
      "tensor(0.97100007534027099609, device='cuda:0')\n",
      "tensor(0.97500002384185791016, device='cuda:0')\n",
      "tensor(0.96800005435943603516, device='cuda:0')\n",
      "tensor(0.97797799110412597656, device='cuda:0')\n",
      "tensor(0.92100006341934204102, device='cuda:0')\n",
      "tensor(0.91400003433227539062, device='cuda:0')\n",
      "tensor(0.91600006818771362305, device='cuda:0')\n",
      "tensor(0.91500002145767211914, device='cuda:0')\n",
      "tensor(0.92692691087722778320, device='cuda:0')\n",
      "tensor(0.82800006866455078125, device='cuda:0')\n",
      "tensor(0.78800004720687866211, device='cuda:0')\n",
      "tensor(0.63900005817413330078, device='cuda:0')\n",
      "tensor(0.70400005578994750977, device='cuda:0')\n",
      "tensor(0.39539539813995361328, device='cuda:0')\n",
      "tensor(0.98900002241134643555, device='cuda:0')\n",
      "tensor(0.93200004100799560547, device='cuda:0')\n",
      "tensor(0.97100007534027099609, device='cuda:0')\n",
      "tensor(0.93100005388259887695, device='cuda:0')\n",
      "tensor(0.98498499393463134766, device='cuda:0')\n",
      "tensor(0.98900002241134643555, device='cuda:0')\n",
      "tensor(0.94600003957748413086, device='cuda:0')\n",
      "tensor(0.98000001907348632812, device='cuda:0')\n",
      "tensor(0.97900003194808959961, device='cuda:0')\n",
      "tensor(0.98498499393463134766, device='cuda:0')\n",
      "tensor(0.93400001525878906250, device='cuda:0')\n",
      "tensor(0.88400006294250488281, device='cuda:0')\n",
      "tensor(0.93800002336502075195, device='cuda:0')\n",
      "tensor(0.93300002813339233398, device='cuda:0')\n",
      "tensor(0.92192190885543823242, device='cuda:0')\n",
      "tensor(0.82200002670288085938, device='cuda:0')\n",
      "tensor(0.78300005197525024414, device='cuda:0')\n",
      "tensor(0.51399999856948852539, device='cuda:0')\n",
      "tensor(0.41100001335144042969, device='cuda:0')\n",
      "tensor(0.81881880760192871094, device='cuda:0')\n",
      "tensor(0.97500002384185791016, device='cuda:0')\n",
      "tensor(0.98000001907348632812, device='cuda:0')\n",
      "tensor(0.96800005435943603516, device='cuda:0')\n",
      "tensor(0.95600003004074096680, device='cuda:0')\n",
      "tensor(0.98098099231719970703, device='cuda:0')\n",
      "tensor(0.98200005292892456055, device='cuda:0')\n",
      "tensor(0.95000004768371582031, device='cuda:0')\n",
      "tensor(0.97200006246566772461, device='cuda:0')\n",
      "tensor(0.97400003671646118164, device='cuda:0')\n",
      "tensor(0.98398399353027343750, device='cuda:0')\n",
      "tensor(0.94600003957748413086, device='cuda:0')\n",
      "tensor(0.94300001859664916992, device='cuda:0')\n",
      "tensor(0.94400006532669067383, device='cuda:0')\n",
      "tensor(0.94500005245208740234, device='cuda:0')\n",
      "tensor(0.94194191694259643555, device='cuda:0')\n",
      "tensor(0.79800003767013549805, device='cuda:0')\n",
      "tensor(0.73500001430511474609, device='cuda:0')\n",
      "tensor(0.42300000786781311035, device='cuda:0')\n",
      "tensor(0.70000004768371582031, device='cuda:0')\n",
      "tensor(0.54654651880264282227, device='cuda:0')\n",
      "tensor(0.96900004148483276367, device='cuda:0')\n",
      "tensor(0.91700005531311035156, device='cuda:0')\n",
      "tensor(0.96200007200241088867, device='cuda:0')\n",
      "tensor(0.95300006866455078125, device='cuda:0')\n",
      "tensor(0.97997999191284179688, device='cuda:0')\n",
      "tensor(0.97600007057189941406, device='cuda:0')\n",
      "tensor(0.97800004482269287109, device='cuda:0')\n",
      "tensor(0.96000003814697265625, device='cuda:0')\n",
      "tensor(0.96600002050399780273, device='cuda:0')\n",
      "tensor(0.97397398948669433594, device='cuda:0')\n",
      "tensor(0.93600004911422729492, device='cuda:0')\n",
      "tensor(0.93600004911422729492, device='cuda:0')\n",
      "tensor(0.93000006675720214844, device='cuda:0')\n",
      "tensor(0.92800003290176391602, device='cuda:0')\n",
      "tensor(0.93993991613388061523, device='cuda:0')\n",
      "tensor(0.95440000295639038086, device='cuda:0')\n",
      "4 GradientRFRBoost SWIM test acc 0.9544000029563904 params {'feature_type': 'SWIM', 'hidden_dim': 2, 'in_dim': 2, 'l2_cls': 0.0001, 'l2_ghat': 0.0001, 'lbfgs_lr': 1.0, 'lbfgs_max_iter': 300, 'modelClass': <class 'models.random_feature_representation_boosting.GradientRFRBoostClassifier'>, 'n_classes': 3, 'n_layers': 4, 'randfeat_x0_dim': 512, 'randfeat_xt_dim': 512, 'seed': 46, 'upscale_type': 'identity', 'use_batchnorm': True}\n",
      "tensor(0.28900000452995300293, device='cuda:0')\n",
      "tensor(0.36700001358985900879, device='cuda:0')\n",
      "tensor(0.35500001907348632812, device='cuda:0')\n",
      "tensor(0.33800002932548522949, device='cuda:0')\n",
      "tensor(0.34434434771537780762, device='cuda:0')\n",
      "tensor(0.28700000047683715820, device='cuda:0')\n",
      "tensor(0.36200001835823059082, device='cuda:0')\n",
      "tensor(0.35700002312660217285, device='cuda:0')\n",
      "tensor(0.33500000834465026855, device='cuda:0')\n",
      "tensor(0.34834834933280944824, device='cuda:0')\n",
      "tensor(0.28700000047683715820, device='cuda:0')\n",
      "tensor(0.35900002717971801758, device='cuda:0')\n",
      "tensor(0.35100001096725463867, device='cuda:0')\n",
      "tensor(0.35800001025199890137, device='cuda:0')\n",
      "tensor(0.34434434771537780762, device='cuda:0')\n",
      "tensor(0.28100001811981201172, device='cuda:0')\n",
      "tensor(0.35700002312660217285, device='cuda:0')\n",
      "tensor(0.34000000357627868652, device='cuda:0')\n",
      "tensor(0.33200001716613769531, device='cuda:0')\n",
      "tensor(0.33033031225204467773, device='cuda:0')\n",
      "tensor(0.33879998326301574707, device='cuda:0')\n",
      "0 Logistic Regression test acc 0.33879998326301575 params {'l2_lambda': 0.01, 'modelClass': <class 'models.base.LogisticRegression'>, 'n_classes': 3, 'seed': 42}\n",
      "tensor(0.29100000858306884766, device='cuda:0')\n",
      "tensor(0.29800000786781311035, device='cuda:0')\n",
      "tensor(0.28600001335144042969, device='cuda:0')\n",
      "tensor(0.32300001382827758789, device='cuda:0')\n",
      "tensor(0.32932931184768676758, device='cuda:0')\n",
      "tensor(0.29399999976158142090, device='cuda:0')\n",
      "tensor(0.29800000786781311035, device='cuda:0')\n",
      "tensor(0.29000002145767211914, device='cuda:0')\n",
      "tensor(0.32300001382827758789, device='cuda:0')\n",
      "tensor(0.32732731103897094727, device='cuda:0')\n",
      "tensor(0.30000001192092895508, device='cuda:0')\n",
      "tensor(0.30400002002716064453, device='cuda:0')\n",
      "tensor(0.26500001549720764160, device='cuda:0')\n",
      "tensor(0.33000001311302185059, device='cuda:0')\n",
      "tensor(0.29329329729080200195, device='cuda:0')\n",
      "tensor(0.33100003004074096680, device='cuda:0')\n",
      "tensor(0.33600002527236938477, device='cuda:0')\n",
      "tensor(0.34500002861022949219, device='cuda:0')\n",
      "tensor(0.36300000548362731934, device='cuda:0')\n",
      "tensor(0.34034034609794616699, device='cuda:0')\n",
      "tensor(0.32739999890327453613, device='cuda:0')\n",
      "1 Logistic Regression test acc 0.32739999890327454 params {'l2_lambda': 0.1, 'modelClass': <class 'models.base.LogisticRegression'>, 'n_classes': 3, 'seed': 43}\n",
      "tensor(0.31900000572204589844, device='cuda:0')\n",
      "tensor(0.31200000643730163574, device='cuda:0')\n",
      "tensor(0.28400000929832458496, device='cuda:0')\n",
      "tensor(0.34700000286102294922, device='cuda:0')\n",
      "tensor(0.28428429365158081055, device='cuda:0')\n",
      "tensor(0.32500001788139343262, device='cuda:0')\n",
      "tensor(0.31800001859664916992, device='cuda:0')\n",
      "tensor(0.28600001335144042969, device='cuda:0')\n",
      "tensor(0.34300002455711364746, device='cuda:0')\n",
      "tensor(0.27927926182746887207, device='cuda:0')\n",
      "tensor(0.31100001931190490723, device='cuda:0')\n",
      "tensor(0.30900001525878906250, device='cuda:0')\n",
      "tensor(0.28800001740455627441, device='cuda:0')\n",
      "tensor(0.34600001573562622070, device='cuda:0')\n",
      "tensor(0.26826825737953186035, device='cuda:0')\n",
      "tensor(0.28300002217292785645, device='cuda:0')\n",
      "tensor(0.32800000905990600586, device='cuda:0')\n",
      "tensor(0.30300000309944152832, device='cuda:0')\n",
      "tensor(0.33700001239776611328, device='cuda:0')\n",
      "tensor(0.26726725697517395020, device='cuda:0')\n",
      "tensor(0.33980000019073486328, device='cuda:0')\n",
      "2 Logistic Regression test acc 0.33980000019073486 params {'l2_lambda': 0.001, 'modelClass': <class 'models.base.LogisticRegression'>, 'n_classes': 3, 'seed': 44}\n",
      "tensor(0.38800001144409179688, device='cuda:0')\n",
      "tensor(0.36400002241134643555, device='cuda:0')\n",
      "tensor(0.33300000429153442383, device='cuda:0')\n",
      "tensor(0.36800003051757812500, device='cuda:0')\n",
      "tensor(0.38038036227226257324, device='cuda:0')\n",
      "tensor(0.38900002837181091309, device='cuda:0')\n",
      "tensor(0.36700001358985900879, device='cuda:0')\n",
      "tensor(0.33900001645088195801, device='cuda:0')\n",
      "tensor(0.36500000953674316406, device='cuda:0')\n",
      "tensor(0.37737736105918884277, device='cuda:0')\n",
      "tensor(0.37100002169609069824, device='cuda:0')\n",
      "tensor(0.37600001692771911621, device='cuda:0')\n",
      "tensor(0.33400002121925354004, device='cuda:0')\n",
      "tensor(0.35600000619888305664, device='cuda:0')\n",
      "tensor(0.35835835337638854980, device='cuda:0')\n",
      "tensor(0.36300000548362731934, device='cuda:0')\n",
      "tensor(0.33900001645088195801, device='cuda:0')\n",
      "tensor(0.31800001859664916992, device='cuda:0')\n",
      "tensor(0.33100003004074096680, device='cuda:0')\n",
      "tensor(0.34334334731101989746, device='cuda:0')\n",
      "tensor(0.34239998459815979004, device='cuda:0')\n",
      "3 Logistic Regression test acc 0.3423999845981598 params {'l2_lambda': 0.001, 'modelClass': <class 'models.base.LogisticRegression'>, 'n_classes': 3, 'seed': 45}\n",
      "tensor(0.30700001120567321777, device='cuda:0')\n",
      "tensor(0.32000002264976501465, device='cuda:0')\n",
      "tensor(0.35600000619888305664, device='cuda:0')\n",
      "tensor(0.31100001931190490723, device='cuda:0')\n",
      "tensor(0.34834834933280944824, device='cuda:0')\n",
      "tensor(0.30600002408027648926, device='cuda:0')\n",
      "tensor(0.32100000977516174316, device='cuda:0')\n",
      "tensor(0.35500001907348632812, device='cuda:0')\n",
      "tensor(0.31400001049041748047, device='cuda:0')\n",
      "tensor(0.34434434771537780762, device='cuda:0')\n",
      "tensor(0.30100002884864807129, device='cuda:0')\n",
      "tensor(0.31400001049041748047, device='cuda:0')\n",
      "tensor(0.35600000619888305664, device='cuda:0')\n",
      "tensor(0.32500001788139343262, device='cuda:0')\n",
      "tensor(0.34834834933280944824, device='cuda:0')\n",
      "tensor(0.31500002741813659668, device='cuda:0')\n",
      "tensor(0.32900002598762512207, device='cuda:0')\n",
      "tensor(0.34500002861022949219, device='cuda:0')\n",
      "tensor(0.33000001311302185059, device='cuda:0')\n",
      "tensor(0.36336335539817810059, device='cuda:0')\n",
      "tensor(0.29859998822212219238, device='cuda:0')\n",
      "4 Logistic Regression test acc 0.2985999882221222 params {'l2_lambda': 0.1, 'modelClass': <class 'models.base.LogisticRegression'>, 'n_classes': 3, 'seed': 46}\n"
     ]
    },
    {
     "name": "stderr",
     "output_type": "stream",
     "text": [
      "100%|██████████| 30/30 [00:09<00:00,  3.33it/s]\n"
     ]
    },
    {
     "name": "stdout",
     "output_type": "stream",
     "text": [
      "tensor(0.34600001573562622070, device='cuda:0')\n"
     ]
    },
    {
     "name": "stderr",
     "output_type": "stream",
     "text": [
      "100%|██████████| 30/30 [00:08<00:00,  3.37it/s]\n"
     ]
    },
    {
     "name": "stdout",
     "output_type": "stream",
     "text": [
      "tensor(0.33300000429153442383, device='cuda:0')\n"
     ]
    },
    {
     "name": "stderr",
     "output_type": "stream",
     "text": [
      "100%|██████████| 30/30 [00:08<00:00,  3.33it/s]\n"
     ]
    },
    {
     "name": "stdout",
     "output_type": "stream",
     "text": [
      "tensor(0.36700001358985900879, device='cuda:0')\n"
     ]
    },
    {
     "name": "stderr",
     "output_type": "stream",
     "text": [
      "100%|██████████| 30/30 [00:08<00:00,  3.44it/s]\n"
     ]
    },
    {
     "name": "stdout",
     "output_type": "stream",
     "text": [
      "tensor(0.32100000977516174316, device='cuda:0')\n"
     ]
    },
    {
     "name": "stderr",
     "output_type": "stream",
     "text": [
      "100%|██████████| 30/30 [00:08<00:00,  3.39it/s]\n"
     ]
    },
    {
     "name": "stdout",
     "output_type": "stream",
     "text": [
      "tensor(0.33733734488487243652, device='cuda:0')\n"
     ]
    },
    {
     "name": "stderr",
     "output_type": "stream",
     "text": [
      "100%|██████████| 30/30 [00:08<00:00,  3.43it/s]\n"
     ]
    },
    {
     "name": "stdout",
     "output_type": "stream",
     "text": [
      "tensor(0.35500001907348632812, device='cuda:0')\n"
     ]
    },
    {
     "name": "stderr",
     "output_type": "stream",
     "text": [
      "100%|██████████| 30/30 [00:08<00:00,  3.42it/s]\n"
     ]
    },
    {
     "name": "stdout",
     "output_type": "stream",
     "text": [
      "tensor(0.33700001239776611328, device='cuda:0')\n"
     ]
    },
    {
     "name": "stderr",
     "output_type": "stream",
     "text": [
      "100%|██████████| 30/30 [00:08<00:00,  3.37it/s]\n"
     ]
    },
    {
     "name": "stdout",
     "output_type": "stream",
     "text": [
      "tensor(0.36500000953674316406, device='cuda:0')\n"
     ]
    },
    {
     "name": "stderr",
     "output_type": "stream",
     "text": [
      "100%|██████████| 30/30 [00:08<00:00,  3.38it/s]\n"
     ]
    },
    {
     "name": "stdout",
     "output_type": "stream",
     "text": [
      "tensor(0.30600002408027648926, device='cuda:0')\n"
     ]
    },
    {
     "name": "stderr",
     "output_type": "stream",
     "text": [
      "100%|██████████| 30/30 [00:08<00:00,  3.40it/s]\n"
     ]
    },
    {
     "name": "stdout",
     "output_type": "stream",
     "text": [
      "tensor(0.32032030820846557617, device='cuda:0')\n"
     ]
    },
    {
     "name": "stderr",
     "output_type": "stream",
     "text": [
      "100%|██████████| 30/30 [00:08<00:00,  3.43it/s]\n"
     ]
    },
    {
     "name": "stdout",
     "output_type": "stream",
     "text": [
      "tensor(0.40200001001358032227, device='cuda:0')\n"
     ]
    },
    {
     "name": "stderr",
     "output_type": "stream",
     "text": [
      "100%|██████████| 30/30 [00:08<00:00,  3.40it/s]\n"
     ]
    },
    {
     "name": "stdout",
     "output_type": "stream",
     "text": [
      "tensor(0.41100001335144042969, device='cuda:0')\n"
     ]
    },
    {
     "name": "stderr",
     "output_type": "stream",
     "text": [
      "100%|██████████| 30/30 [00:08<00:00,  3.36it/s]\n"
     ]
    },
    {
     "name": "stdout",
     "output_type": "stream",
     "text": [
      "tensor(0.41500002145767211914, device='cuda:0')\n"
     ]
    },
    {
     "name": "stderr",
     "output_type": "stream",
     "text": [
      "100%|██████████| 30/30 [00:08<00:00,  3.62it/s]\n"
     ]
    },
    {
     "name": "stdout",
     "output_type": "stream",
     "text": [
      "tensor(0.34800001978874206543, device='cuda:0')\n"
     ]
    },
    {
     "name": "stderr",
     "output_type": "stream",
     "text": [
      "100%|██████████| 30/30 [00:07<00:00,  3.91it/s]\n"
     ]
    },
    {
     "name": "stdout",
     "output_type": "stream",
     "text": [
      "tensor(0.37737736105918884277, device='cuda:0')\n"
     ]
    },
    {
     "name": "stderr",
     "output_type": "stream",
     "text": [
      "100%|██████████| 30/30 [00:07<00:00,  3.99it/s]\n"
     ]
    },
    {
     "name": "stdout",
     "output_type": "stream",
     "text": [
      "tensor(0.49000000953674316406, device='cuda:0')\n"
     ]
    },
    {
     "name": "stderr",
     "output_type": "stream",
     "text": [
      "100%|██████████| 30/30 [00:07<00:00,  3.95it/s]\n"
     ]
    },
    {
     "name": "stdout",
     "output_type": "stream",
     "text": [
      "tensor(0.49600002169609069824, device='cuda:0')\n"
     ]
    },
    {
     "name": "stderr",
     "output_type": "stream",
     "text": [
      "100%|██████████| 30/30 [00:07<00:00,  3.95it/s]\n"
     ]
    },
    {
     "name": "stdout",
     "output_type": "stream",
     "text": [
      "tensor(0.50200003385543823242, device='cuda:0')\n"
     ]
    },
    {
     "name": "stderr",
     "output_type": "stream",
     "text": [
      "100%|██████████| 30/30 [00:07<00:00,  3.94it/s]\n"
     ]
    },
    {
     "name": "stdout",
     "output_type": "stream",
     "text": [
      "tensor(0.52700001001358032227, device='cuda:0')\n"
     ]
    },
    {
     "name": "stderr",
     "output_type": "stream",
     "text": [
      "100%|██████████| 30/30 [00:07<00:00,  3.85it/s]\n"
     ]
    },
    {
     "name": "stdout",
     "output_type": "stream",
     "text": [
      "tensor(0.48548546433448791504, device='cuda:0')\n"
     ]
    },
    {
     "name": "stderr",
     "output_type": "stream",
     "text": [
      "100%|██████████| 30/30 [00:07<00:00,  3.99it/s]\n"
     ]
    },
    {
     "name": "stdout",
     "output_type": "stream",
     "text": [
      "tensor(0.51200002431869506836, device='cuda:0')\n"
     ]
    },
    {
     "name": "stderr",
     "output_type": "stream",
     "text": [
      "100%|██████████| 30/30 [00:07<00:00,  4.02it/s]\n"
     ]
    },
    {
     "name": "stdout",
     "output_type": "stream",
     "text": [
      "tensor(0.50600004196166992188, device='cuda:0')\n"
     ]
    },
    {
     "name": "stderr",
     "output_type": "stream",
     "text": [
      "100%|██████████| 30/30 [00:07<00:00,  4.01it/s]\n"
     ]
    },
    {
     "name": "stdout",
     "output_type": "stream",
     "text": [
      "tensor(0.48600003123283386230, device='cuda:0')\n"
     ]
    },
    {
     "name": "stderr",
     "output_type": "stream",
     "text": [
      "100%|██████████| 30/30 [00:07<00:00,  3.98it/s]\n"
     ]
    },
    {
     "name": "stdout",
     "output_type": "stream",
     "text": [
      "tensor(0.49600002169609069824, device='cuda:0')\n"
     ]
    },
    {
     "name": "stderr",
     "output_type": "stream",
     "text": [
      "100%|██████████| 30/30 [00:07<00:00,  3.98it/s]\n"
     ]
    },
    {
     "name": "stdout",
     "output_type": "stream",
     "text": [
      "tensor(0.45645645260810852051, device='cuda:0')\n"
     ]
    },
    {
     "name": "stderr",
     "output_type": "stream",
     "text": [
      "100%|██████████| 30/30 [00:07<00:00,  4.01it/s]\n"
     ]
    },
    {
     "name": "stdout",
     "output_type": "stream",
     "text": [
      "tensor(0.56900000572204589844, device='cuda:0')\n"
     ]
    },
    {
     "name": "stderr",
     "output_type": "stream",
     "text": [
      "100%|██████████| 30/30 [00:07<00:00,  4.01it/s]\n"
     ]
    },
    {
     "name": "stdout",
     "output_type": "stream",
     "text": [
      "tensor(0.79400002956390380859, device='cuda:0')\n"
     ]
    },
    {
     "name": "stderr",
     "output_type": "stream",
     "text": [
      "100%|██████████| 30/30 [00:07<00:00,  4.01it/s]\n"
     ]
    },
    {
     "name": "stdout",
     "output_type": "stream",
     "text": [
      "tensor(0.52600002288818359375, device='cuda:0')\n"
     ]
    },
    {
     "name": "stderr",
     "output_type": "stream",
     "text": [
      "100%|██████████| 30/30 [00:07<00:00,  3.96it/s]\n"
     ]
    },
    {
     "name": "stdout",
     "output_type": "stream",
     "text": [
      "tensor(0.62600004673004150391, device='cuda:0')\n"
     ]
    },
    {
     "name": "stderr",
     "output_type": "stream",
     "text": [
      "100%|██████████| 30/30 [00:07<00:00,  4.02it/s]\n"
     ]
    },
    {
     "name": "stdout",
     "output_type": "stream",
     "text": [
      "tensor(0.60560560226440429688, device='cuda:0')\n"
     ]
    },
    {
     "name": "stderr",
     "output_type": "stream",
     "text": [
      "100%|██████████| 30/30 [00:09<00:00,  3.19it/s]\n",
      "100%|██████████| 30/30 [00:09<00:00,  3.19it/s]\n"
     ]
    },
    {
     "name": "stdout",
     "output_type": "stream",
     "text": [
      "tensor(0.63839995861053466797, device='cuda:0')\n",
      "0 End2EndMLP test acc 0.6383999586105347 params {'activation': Tanh(), 'batch_size': 64, 'bottleneck_dim': 512, 'end_lr_factor': 0.01, 'hidden_dim': 2, 'in_dim': 2, 'loss': 'cce', 'lr': 0.1, 'modelClass': <class 'models.end2end.End2EndMLPResNet'>, 'n_blocks': 4, 'n_epochs': 30, 'out_dim': 3, 'seed': 42, 'upsample': False, 'weight_decay': 1e-05}\n",
      "plotting and saving feature evolution point cloud\n"
     ]
    },
    {
     "name": "stderr",
     "output_type": "stream",
     "text": [
      "100%|██████████| 30/30 [00:07<00:00,  4.08it/s]\n"
     ]
    },
    {
     "name": "stdout",
     "output_type": "stream",
     "text": [
      "tensor(0.33100003004074096680, device='cuda:0')\n"
     ]
    },
    {
     "name": "stderr",
     "output_type": "stream",
     "text": [
      "100%|██████████| 30/30 [00:07<00:00,  4.03it/s]\n"
     ]
    },
    {
     "name": "stdout",
     "output_type": "stream",
     "text": [
      "tensor(0.32500001788139343262, device='cuda:0')\n"
     ]
    },
    {
     "name": "stderr",
     "output_type": "stream",
     "text": [
      "100%|██████████| 30/30 [00:07<00:00,  4.05it/s]\n"
     ]
    },
    {
     "name": "stdout",
     "output_type": "stream",
     "text": [
      "tensor(0.33000001311302185059, device='cuda:0')\n"
     ]
    },
    {
     "name": "stderr",
     "output_type": "stream",
     "text": [
      "100%|██████████| 30/30 [00:07<00:00,  4.04it/s]\n"
     ]
    },
    {
     "name": "stdout",
     "output_type": "stream",
     "text": [
      "tensor(0.34400001168251037598, device='cuda:0')\n"
     ]
    },
    {
     "name": "stderr",
     "output_type": "stream",
     "text": [
      "100%|██████████| 30/30 [00:07<00:00,  4.06it/s]\n"
     ]
    },
    {
     "name": "stdout",
     "output_type": "stream",
     "text": [
      "tensor(0.31231230497360229492, device='cuda:0')\n"
     ]
    },
    {
     "name": "stderr",
     "output_type": "stream",
     "text": [
      "100%|██████████| 30/30 [00:07<00:00,  4.04it/s]\n"
     ]
    },
    {
     "name": "stdout",
     "output_type": "stream",
     "text": [
      "tensor(0.34800001978874206543, device='cuda:0')\n"
     ]
    },
    {
     "name": "stderr",
     "output_type": "stream",
     "text": [
      "100%|██████████| 30/30 [00:07<00:00,  4.09it/s]\n"
     ]
    },
    {
     "name": "stdout",
     "output_type": "stream",
     "text": [
      "tensor(0.32500001788139343262, device='cuda:0')\n"
     ]
    },
    {
     "name": "stderr",
     "output_type": "stream",
     "text": [
      "100%|██████████| 30/30 [00:07<00:00,  4.01it/s]\n"
     ]
    },
    {
     "name": "stdout",
     "output_type": "stream",
     "text": [
      "tensor(0.33400002121925354004, device='cuda:0')\n"
     ]
    },
    {
     "name": "stderr",
     "output_type": "stream",
     "text": [
      "100%|██████████| 30/30 [00:07<00:00,  4.02it/s]\n"
     ]
    },
    {
     "name": "stdout",
     "output_type": "stream",
     "text": [
      "tensor(0.36800003051757812500, device='cuda:0')\n"
     ]
    },
    {
     "name": "stderr",
     "output_type": "stream",
     "text": [
      "100%|██████████| 30/30 [00:07<00:00,  4.08it/s]\n"
     ]
    },
    {
     "name": "stdout",
     "output_type": "stream",
     "text": [
      "tensor(0.33833834528923034668, device='cuda:0')\n"
     ]
    },
    {
     "name": "stderr",
     "output_type": "stream",
     "text": [
      "100%|██████████| 30/30 [00:07<00:00,  4.05it/s]\n"
     ]
    },
    {
     "name": "stdout",
     "output_type": "stream",
     "text": [
      "tensor(0.45600003004074096680, device='cuda:0')\n"
     ]
    },
    {
     "name": "stderr",
     "output_type": "stream",
     "text": [
      "100%|██████████| 30/30 [00:07<00:00,  4.08it/s]\n"
     ]
    },
    {
     "name": "stdout",
     "output_type": "stream",
     "text": [
      "tensor(0.44600000977516174316, device='cuda:0')\n"
     ]
    },
    {
     "name": "stderr",
     "output_type": "stream",
     "text": [
      "100%|██████████| 30/30 [00:07<00:00,  4.09it/s]\n"
     ]
    },
    {
     "name": "stdout",
     "output_type": "stream",
     "text": [
      "tensor(0.45300000905990600586, device='cuda:0')\n"
     ]
    },
    {
     "name": "stderr",
     "output_type": "stream",
     "text": [
      "100%|██████████| 30/30 [00:07<00:00,  4.07it/s]\n"
     ]
    },
    {
     "name": "stdout",
     "output_type": "stream",
     "text": [
      "tensor(0.47100001573562622070, device='cuda:0')\n"
     ]
    },
    {
     "name": "stderr",
     "output_type": "stream",
     "text": [
      "100%|██████████| 30/30 [00:07<00:00,  4.05it/s]\n"
     ]
    },
    {
     "name": "stdout",
     "output_type": "stream",
     "text": [
      "tensor(0.41841840744018554688, device='cuda:0')\n"
     ]
    },
    {
     "name": "stderr",
     "output_type": "stream",
     "text": [
      "100%|██████████| 30/30 [00:07<00:00,  4.03it/s]\n"
     ]
    },
    {
     "name": "stdout",
     "output_type": "stream",
     "text": [
      "tensor(0.49100002646446228027, device='cuda:0')\n"
     ]
    },
    {
     "name": "stderr",
     "output_type": "stream",
     "text": [
      "100%|██████████| 30/30 [00:07<00:00,  4.04it/s]\n"
     ]
    },
    {
     "name": "stdout",
     "output_type": "stream",
     "text": [
      "tensor(0.43500003218650817871, device='cuda:0')\n"
     ]
    },
    {
     "name": "stderr",
     "output_type": "stream",
     "text": [
      "100%|██████████| 30/30 [00:07<00:00,  4.07it/s]\n"
     ]
    },
    {
     "name": "stdout",
     "output_type": "stream",
     "text": [
      "tensor(0.50499999523162841797, device='cuda:0')\n"
     ]
    },
    {
     "name": "stderr",
     "output_type": "stream",
     "text": [
      "100%|██████████| 30/30 [00:07<00:00,  4.08it/s]\n"
     ]
    },
    {
     "name": "stdout",
     "output_type": "stream",
     "text": [
      "tensor(0.53100001811981201172, device='cuda:0')\n"
     ]
    },
    {
     "name": "stderr",
     "output_type": "stream",
     "text": [
      "100%|██████████| 30/30 [00:07<00:00,  4.05it/s]\n"
     ]
    },
    {
     "name": "stdout",
     "output_type": "stream",
     "text": [
      "tensor(0.48548546433448791504, device='cuda:0')\n"
     ]
    },
    {
     "name": "stderr",
     "output_type": "stream",
     "text": [
      "100%|██████████| 30/30 [00:07<00:00,  4.06it/s]\n"
     ]
    },
    {
     "name": "stdout",
     "output_type": "stream",
     "text": [
      "tensor(0.55700004100799560547, device='cuda:0')\n"
     ]
    },
    {
     "name": "stderr",
     "output_type": "stream",
     "text": [
      "100%|██████████| 30/30 [00:07<00:00,  4.01it/s]\n"
     ]
    },
    {
     "name": "stdout",
     "output_type": "stream",
     "text": [
      "tensor(0.44300001859664916992, device='cuda:0')\n"
     ]
    },
    {
     "name": "stderr",
     "output_type": "stream",
     "text": [
      "100%|██████████| 30/30 [00:07<00:00,  4.06it/s]\n"
     ]
    },
    {
     "name": "stdout",
     "output_type": "stream",
     "text": [
      "tensor(0.41600000858306884766, device='cuda:0')\n"
     ]
    },
    {
     "name": "stderr",
     "output_type": "stream",
     "text": [
      "100%|██████████| 30/30 [00:07<00:00,  4.07it/s]\n"
     ]
    },
    {
     "name": "stdout",
     "output_type": "stream",
     "text": [
      "tensor(0.38800001144409179688, device='cuda:0')\n"
     ]
    },
    {
     "name": "stderr",
     "output_type": "stream",
     "text": [
      "100%|██████████| 30/30 [00:07<00:00,  4.06it/s]\n"
     ]
    },
    {
     "name": "stdout",
     "output_type": "stream",
     "text": [
      "tensor(0.39839839935302734375, device='cuda:0')\n"
     ]
    },
    {
     "name": "stderr",
     "output_type": "stream",
     "text": [
      "100%|██████████| 30/30 [00:07<00:00,  4.04it/s]\n"
     ]
    },
    {
     "name": "stdout",
     "output_type": "stream",
     "text": [
      "tensor(0.35000002384185791016, device='cuda:0')\n"
     ]
    },
    {
     "name": "stderr",
     "output_type": "stream",
     "text": [
      "100%|██████████| 30/30 [00:07<00:00,  3.99it/s]\n"
     ]
    },
    {
     "name": "stdout",
     "output_type": "stream",
     "text": [
      "tensor(0.59800004959106445312, device='cuda:0')\n"
     ]
    },
    {
     "name": "stderr",
     "output_type": "stream",
     "text": [
      "100%|██████████| 30/30 [00:07<00:00,  4.07it/s]\n"
     ]
    },
    {
     "name": "stdout",
     "output_type": "stream",
     "text": [
      "tensor(0.40900000929832458496, device='cuda:0')\n"
     ]
    },
    {
     "name": "stderr",
     "output_type": "stream",
     "text": [
      "100%|██████████| 30/30 [00:07<00:00,  4.05it/s]\n"
     ]
    },
    {
     "name": "stdout",
     "output_type": "stream",
     "text": [
      "tensor(0.61100000143051147461, device='cuda:0')\n"
     ]
    },
    {
     "name": "stderr",
     "output_type": "stream",
     "text": [
      "100%|██████████| 30/30 [00:07<00:00,  4.05it/s]\n"
     ]
    },
    {
     "name": "stdout",
     "output_type": "stream",
     "text": [
      "tensor(0.40440440177917480469, device='cuda:0')\n"
     ]
    },
    {
     "name": "stderr",
     "output_type": "stream",
     "text": [
      "100%|██████████| 30/30 [00:09<00:00,  3.25it/s]\n",
      "100%|██████████| 30/30 [00:09<00:00,  3.24it/s]\n"
     ]
    },
    {
     "name": "stdout",
     "output_type": "stream",
     "text": [
      "tensor(0.49639999866485595703, device='cuda:0')\n",
      "1 End2EndMLP test acc 0.49639999866485596 params {'activation': Tanh(), 'batch_size': 64, 'bottleneck_dim': 512, 'end_lr_factor': 0.01, 'hidden_dim': 2, 'in_dim': 2, 'loss': 'cce', 'lr': 0.001, 'modelClass': <class 'models.end2end.End2EndMLPResNet'>, 'n_blocks': 4, 'n_epochs': 30, 'out_dim': 3, 'seed': 43, 'upsample': False, 'weight_decay': 1e-05}\n"
     ]
    },
    {
     "name": "stderr",
     "output_type": "stream",
     "text": [
      "100%|██████████| 30/30 [00:07<00:00,  4.07it/s]\n"
     ]
    },
    {
     "name": "stdout",
     "output_type": "stream",
     "text": [
      "tensor(0.33900001645088195801, device='cuda:0')\n"
     ]
    },
    {
     "name": "stderr",
     "output_type": "stream",
     "text": [
      "100%|██████████| 30/30 [00:07<00:00,  4.08it/s]\n"
     ]
    },
    {
     "name": "stdout",
     "output_type": "stream",
     "text": [
      "tensor(0.32800000905990600586, device='cuda:0')\n"
     ]
    },
    {
     "name": "stderr",
     "output_type": "stream",
     "text": [
      "100%|██████████| 30/30 [00:07<00:00,  4.03it/s]\n"
     ]
    },
    {
     "name": "stdout",
     "output_type": "stream",
     "text": [
      "tensor(0.31700000166893005371, device='cuda:0')\n"
     ]
    },
    {
     "name": "stderr",
     "output_type": "stream",
     "text": [
      "100%|██████████| 30/30 [00:07<00:00,  4.06it/s]\n"
     ]
    },
    {
     "name": "stdout",
     "output_type": "stream",
     "text": [
      "tensor(0.33000001311302185059, device='cuda:0')\n"
     ]
    },
    {
     "name": "stderr",
     "output_type": "stream",
     "text": [
      "100%|██████████| 30/30 [00:07<00:00,  4.07it/s]\n"
     ]
    },
    {
     "name": "stdout",
     "output_type": "stream",
     "text": [
      "tensor(0.34334334731101989746, device='cuda:0')\n"
     ]
    },
    {
     "name": "stderr",
     "output_type": "stream",
     "text": [
      "100%|██████████| 30/30 [00:07<00:00,  4.04it/s]\n"
     ]
    },
    {
     "name": "stdout",
     "output_type": "stream",
     "text": [
      "tensor(0.31600001454353332520, device='cuda:0')\n"
     ]
    },
    {
     "name": "stderr",
     "output_type": "stream",
     "text": [
      "100%|██████████| 30/30 [00:07<00:00,  4.04it/s]\n"
     ]
    },
    {
     "name": "stdout",
     "output_type": "stream",
     "text": [
      "tensor(0.36600002646446228027, device='cuda:0')\n"
     ]
    },
    {
     "name": "stderr",
     "output_type": "stream",
     "text": [
      "100%|██████████| 30/30 [00:07<00:00,  4.07it/s]\n"
     ]
    },
    {
     "name": "stdout",
     "output_type": "stream",
     "text": [
      "tensor(0.35700002312660217285, device='cuda:0')\n"
     ]
    },
    {
     "name": "stderr",
     "output_type": "stream",
     "text": [
      "100%|██████████| 30/30 [00:07<00:00,  4.05it/s]\n"
     ]
    },
    {
     "name": "stdout",
     "output_type": "stream",
     "text": [
      "tensor(0.36700001358985900879, device='cuda:0')\n"
     ]
    },
    {
     "name": "stderr",
     "output_type": "stream",
     "text": [
      "100%|██████████| 30/30 [00:07<00:00,  4.12it/s]\n"
     ]
    },
    {
     "name": "stdout",
     "output_type": "stream",
     "text": [
      "tensor(0.38238236308097839355, device='cuda:0')\n"
     ]
    },
    {
     "name": "stderr",
     "output_type": "stream",
     "text": [
      "100%|██████████| 30/30 [00:07<00:00,  4.05it/s]\n"
     ]
    },
    {
     "name": "stdout",
     "output_type": "stream",
     "text": [
      "tensor(0.42900002002716064453, device='cuda:0')\n"
     ]
    },
    {
     "name": "stderr",
     "output_type": "stream",
     "text": [
      "100%|██████████| 30/30 [00:07<00:00,  4.06it/s]\n"
     ]
    },
    {
     "name": "stdout",
     "output_type": "stream",
     "text": [
      "tensor(0.42100003361701965332, device='cuda:0')\n"
     ]
    },
    {
     "name": "stderr",
     "output_type": "stream",
     "text": [
      "100%|██████████| 30/30 [00:07<00:00,  4.06it/s]\n"
     ]
    },
    {
     "name": "stdout",
     "output_type": "stream",
     "text": [
      "tensor(0.42200002074241638184, device='cuda:0')\n"
     ]
    },
    {
     "name": "stderr",
     "output_type": "stream",
     "text": [
      "100%|██████████| 30/30 [00:07<00:00,  4.04it/s]\n"
     ]
    },
    {
     "name": "stdout",
     "output_type": "stream",
     "text": [
      "tensor(0.40800002217292785645, device='cuda:0')\n"
     ]
    },
    {
     "name": "stderr",
     "output_type": "stream",
     "text": [
      "100%|██████████| 30/30 [00:07<00:00,  4.03it/s]\n"
     ]
    },
    {
     "name": "stdout",
     "output_type": "stream",
     "text": [
      "tensor(0.50450450181961059570, device='cuda:0')\n"
     ]
    },
    {
     "name": "stderr",
     "output_type": "stream",
     "text": [
      "100%|██████████| 30/30 [00:07<00:00,  4.02it/s]\n"
     ]
    },
    {
     "name": "stdout",
     "output_type": "stream",
     "text": [
      "tensor(0.39600002765655517578, device='cuda:0')\n"
     ]
    },
    {
     "name": "stderr",
     "output_type": "stream",
     "text": [
      "100%|██████████| 30/30 [00:07<00:00,  4.06it/s]\n"
     ]
    },
    {
     "name": "stdout",
     "output_type": "stream",
     "text": [
      "tensor(0.40400001406669616699, device='cuda:0')\n"
     ]
    },
    {
     "name": "stderr",
     "output_type": "stream",
     "text": [
      "100%|██████████| 30/30 [00:07<00:00,  4.03it/s]\n"
     ]
    },
    {
     "name": "stdout",
     "output_type": "stream",
     "text": [
      "tensor(0.38700002431869506836, device='cuda:0')\n"
     ]
    },
    {
     "name": "stderr",
     "output_type": "stream",
     "text": [
      "100%|██████████| 30/30 [00:07<00:00,  4.06it/s]\n"
     ]
    },
    {
     "name": "stdout",
     "output_type": "stream",
     "text": [
      "tensor(0.46400001645088195801, device='cuda:0')\n"
     ]
    },
    {
     "name": "stderr",
     "output_type": "stream",
     "text": [
      "100%|██████████| 30/30 [00:07<00:00,  4.12it/s]\n"
     ]
    },
    {
     "name": "stdout",
     "output_type": "stream",
     "text": [
      "tensor(0.39439439773559570312, device='cuda:0')\n"
     ]
    },
    {
     "name": "stderr",
     "output_type": "stream",
     "text": [
      "100%|██████████| 30/30 [00:07<00:00,  4.05it/s]\n"
     ]
    },
    {
     "name": "stdout",
     "output_type": "stream",
     "text": [
      "tensor(0.52100002765655517578, device='cuda:0')\n"
     ]
    },
    {
     "name": "stderr",
     "output_type": "stream",
     "text": [
      "100%|██████████| 30/30 [00:07<00:00,  4.08it/s]\n"
     ]
    },
    {
     "name": "stdout",
     "output_type": "stream",
     "text": [
      "tensor(0.53500002622604370117, device='cuda:0')\n"
     ]
    },
    {
     "name": "stderr",
     "output_type": "stream",
     "text": [
      "100%|██████████| 30/30 [00:07<00:00,  4.05it/s]\n"
     ]
    },
    {
     "name": "stdout",
     "output_type": "stream",
     "text": [
      "tensor(0.61000001430511474609, device='cuda:0')\n"
     ]
    },
    {
     "name": "stderr",
     "output_type": "stream",
     "text": [
      "100%|██████████| 30/30 [00:07<00:00,  4.04it/s]\n"
     ]
    },
    {
     "name": "stdout",
     "output_type": "stream",
     "text": [
      "tensor(0.58500003814697265625, device='cuda:0')\n"
     ]
    },
    {
     "name": "stderr",
     "output_type": "stream",
     "text": [
      "100%|██████████| 30/30 [00:07<00:00,  4.05it/s]\n"
     ]
    },
    {
     "name": "stdout",
     "output_type": "stream",
     "text": [
      "tensor(0.45445445179939270020, device='cuda:0')\n"
     ]
    },
    {
     "name": "stderr",
     "output_type": "stream",
     "text": [
      "100%|██████████| 30/30 [00:07<00:00,  4.08it/s]\n"
     ]
    },
    {
     "name": "stdout",
     "output_type": "stream",
     "text": [
      "tensor(0.52799999713897705078, device='cuda:0')\n"
     ]
    },
    {
     "name": "stderr",
     "output_type": "stream",
     "text": [
      "100%|██████████| 30/30 [00:07<00:00,  4.03it/s]\n"
     ]
    },
    {
     "name": "stdout",
     "output_type": "stream",
     "text": [
      "tensor(0.74400001764297485352, device='cuda:0')\n"
     ]
    },
    {
     "name": "stderr",
     "output_type": "stream",
     "text": [
      "100%|██████████| 30/30 [00:07<00:00,  4.04it/s]\n"
     ]
    },
    {
     "name": "stdout",
     "output_type": "stream",
     "text": [
      "tensor(0.68500006198883056641, device='cuda:0')\n"
     ]
    },
    {
     "name": "stderr",
     "output_type": "stream",
     "text": [
      "100%|██████████| 30/30 [00:07<00:00,  4.03it/s]\n"
     ]
    },
    {
     "name": "stdout",
     "output_type": "stream",
     "text": [
      "tensor(0.61900001764297485352, device='cuda:0')\n"
     ]
    },
    {
     "name": "stderr",
     "output_type": "stream",
     "text": [
      "100%|██████████| 30/30 [00:07<00:00,  4.04it/s]\n"
     ]
    },
    {
     "name": "stdout",
     "output_type": "stream",
     "text": [
      "tensor(0.53153151273727416992, device='cuda:0')\n"
     ]
    },
    {
     "name": "stderr",
     "output_type": "stream",
     "text": [
      "100%|██████████| 30/30 [00:09<00:00,  3.25it/s]\n",
      "100%|██████████| 30/30 [00:09<00:00,  3.20it/s]\n"
     ]
    },
    {
     "name": "stdout",
     "output_type": "stream",
     "text": [
      "tensor(0.96759998798370361328, device='cuda:0')\n",
      "2 End2EndMLP test acc 0.9675999879837036 params {'activation': Tanh(), 'batch_size': 64, 'bottleneck_dim': 512, 'end_lr_factor': 0.01, 'hidden_dim': 2, 'in_dim': 2, 'loss': 'cce', 'lr': 0.1, 'modelClass': <class 'models.end2end.End2EndMLPResNet'>, 'n_blocks': 4, 'n_epochs': 30, 'out_dim': 3, 'seed': 44, 'upsample': False, 'weight_decay': 1e-05}\n"
     ]
    },
    {
     "name": "stderr",
     "output_type": "stream",
     "text": [
      "100%|██████████| 30/30 [00:07<00:00,  4.03it/s]\n"
     ]
    },
    {
     "name": "stdout",
     "output_type": "stream",
     "text": [
      "tensor(0.27900001406669616699, device='cuda:0')\n"
     ]
    },
    {
     "name": "stderr",
     "output_type": "stream",
     "text": [
      "100%|██████████| 30/30 [00:07<00:00,  4.09it/s]\n"
     ]
    },
    {
     "name": "stdout",
     "output_type": "stream",
     "text": [
      "tensor(0.31200000643730163574, device='cuda:0')\n"
     ]
    },
    {
     "name": "stderr",
     "output_type": "stream",
     "text": [
      "100%|██████████| 30/30 [00:07<00:00,  4.03it/s]\n"
     ]
    },
    {
     "name": "stdout",
     "output_type": "stream",
     "text": [
      "tensor(0.31000000238418579102, device='cuda:0')\n"
     ]
    },
    {
     "name": "stderr",
     "output_type": "stream",
     "text": [
      "100%|██████████| 30/30 [00:07<00:00,  4.07it/s]\n"
     ]
    },
    {
     "name": "stdout",
     "output_type": "stream",
     "text": [
      "tensor(0.31000000238418579102, device='cuda:0')\n"
     ]
    },
    {
     "name": "stderr",
     "output_type": "stream",
     "text": [
      "100%|██████████| 30/30 [00:07<00:00,  4.05it/s]\n"
     ]
    },
    {
     "name": "stdout",
     "output_type": "stream",
     "text": [
      "tensor(0.31731730699539184570, device='cuda:0')\n"
     ]
    },
    {
     "name": "stderr",
     "output_type": "stream",
     "text": [
      "100%|██████████| 30/30 [00:07<00:00,  4.05it/s]\n"
     ]
    },
    {
     "name": "stdout",
     "output_type": "stream",
     "text": [
      "tensor(0.34100002050399780273, device='cuda:0')\n"
     ]
    },
    {
     "name": "stderr",
     "output_type": "stream",
     "text": [
      "100%|██████████| 30/30 [00:07<00:00,  4.05it/s]\n"
     ]
    },
    {
     "name": "stdout",
     "output_type": "stream",
     "text": [
      "tensor(0.33700001239776611328, device='cuda:0')\n"
     ]
    },
    {
     "name": "stderr",
     "output_type": "stream",
     "text": [
      "100%|██████████| 30/30 [00:07<00:00,  4.07it/s]\n"
     ]
    },
    {
     "name": "stdout",
     "output_type": "stream",
     "text": [
      "tensor(0.35000002384185791016, device='cuda:0')\n"
     ]
    },
    {
     "name": "stderr",
     "output_type": "stream",
     "text": [
      "100%|██████████| 30/30 [00:07<00:00,  4.05it/s]\n"
     ]
    },
    {
     "name": "stdout",
     "output_type": "stream",
     "text": [
      "tensor(0.35600000619888305664, device='cuda:0')\n"
     ]
    },
    {
     "name": "stderr",
     "output_type": "stream",
     "text": [
      "100%|██████████| 30/30 [00:07<00:00,  4.05it/s]\n"
     ]
    },
    {
     "name": "stdout",
     "output_type": "stream",
     "text": [
      "tensor(0.33433434367179870605, device='cuda:0')\n"
     ]
    },
    {
     "name": "stderr",
     "output_type": "stream",
     "text": [
      "100%|██████████| 30/30 [00:07<00:00,  4.06it/s]\n"
     ]
    },
    {
     "name": "stdout",
     "output_type": "stream",
     "text": [
      "tensor(0.48400002717971801758, device='cuda:0')\n"
     ]
    },
    {
     "name": "stderr",
     "output_type": "stream",
     "text": [
      "100%|██████████| 30/30 [00:07<00:00,  4.08it/s]\n"
     ]
    },
    {
     "name": "stdout",
     "output_type": "stream",
     "text": [
      "tensor(0.39800003170967102051, device='cuda:0')\n"
     ]
    },
    {
     "name": "stderr",
     "output_type": "stream",
     "text": [
      "100%|██████████| 30/30 [00:07<00:00,  4.05it/s]\n"
     ]
    },
    {
     "name": "stdout",
     "output_type": "stream",
     "text": [
      "tensor(0.43000000715255737305, device='cuda:0')\n"
     ]
    },
    {
     "name": "stderr",
     "output_type": "stream",
     "text": [
      "100%|██████████| 30/30 [00:07<00:00,  4.10it/s]\n"
     ]
    },
    {
     "name": "stdout",
     "output_type": "stream",
     "text": [
      "tensor(0.44900003075599670410, device='cuda:0')\n"
     ]
    },
    {
     "name": "stderr",
     "output_type": "stream",
     "text": [
      "100%|██████████| 30/30 [00:07<00:00,  4.04it/s]\n"
     ]
    },
    {
     "name": "stdout",
     "output_type": "stream",
     "text": [
      "tensor(0.41241240501403808594, device='cuda:0')\n"
     ]
    },
    {
     "name": "stderr",
     "output_type": "stream",
     "text": [
      "100%|██████████| 30/30 [00:07<00:00,  4.05it/s]\n"
     ]
    },
    {
     "name": "stdout",
     "output_type": "stream",
     "text": [
      "tensor(0.46400001645088195801, device='cuda:0')\n"
     ]
    },
    {
     "name": "stderr",
     "output_type": "stream",
     "text": [
      "100%|██████████| 30/30 [00:07<00:00,  4.06it/s]\n"
     ]
    },
    {
     "name": "stdout",
     "output_type": "stream",
     "text": [
      "tensor(0.41000002622604370117, device='cuda:0')\n"
     ]
    },
    {
     "name": "stderr",
     "output_type": "stream",
     "text": [
      "100%|██████████| 30/30 [00:07<00:00,  4.05it/s]\n"
     ]
    },
    {
     "name": "stdout",
     "output_type": "stream",
     "text": [
      "tensor(0.50800001621246337891, device='cuda:0')\n"
     ]
    },
    {
     "name": "stderr",
     "output_type": "stream",
     "text": [
      "100%|██████████| 30/30 [00:07<00:00,  4.04it/s]\n"
     ]
    },
    {
     "name": "stdout",
     "output_type": "stream",
     "text": [
      "tensor(0.47800001502037048340, device='cuda:0')\n"
     ]
    },
    {
     "name": "stderr",
     "output_type": "stream",
     "text": [
      "100%|██████████| 30/30 [00:07<00:00,  4.07it/s]\n"
     ]
    },
    {
     "name": "stdout",
     "output_type": "stream",
     "text": [
      "tensor(0.38938939571380615234, device='cuda:0')\n"
     ]
    },
    {
     "name": "stderr",
     "output_type": "stream",
     "text": [
      "100%|██████████| 30/30 [00:07<00:00,  4.06it/s]\n"
     ]
    },
    {
     "name": "stdout",
     "output_type": "stream",
     "text": [
      "tensor(0.55500000715255737305, device='cuda:0')\n"
     ]
    },
    {
     "name": "stderr",
     "output_type": "stream",
     "text": [
      "100%|██████████| 30/30 [00:07<00:00,  4.05it/s]\n"
     ]
    },
    {
     "name": "stdout",
     "output_type": "stream",
     "text": [
      "tensor(0.50499999523162841797, device='cuda:0')\n"
     ]
    },
    {
     "name": "stderr",
     "output_type": "stream",
     "text": [
      "100%|██████████| 30/30 [00:07<00:00,  4.03it/s]\n"
     ]
    },
    {
     "name": "stdout",
     "output_type": "stream",
     "text": [
      "tensor(0.40700000524520874023, device='cuda:0')\n"
     ]
    },
    {
     "name": "stderr",
     "output_type": "stream",
     "text": [
      "100%|██████████| 30/30 [00:07<00:00,  4.05it/s]\n"
     ]
    },
    {
     "name": "stdout",
     "output_type": "stream",
     "text": [
      "tensor(0.53400003910064697266, device='cuda:0')\n"
     ]
    },
    {
     "name": "stderr",
     "output_type": "stream",
     "text": [
      "100%|██████████| 30/30 [00:07<00:00,  4.04it/s]\n"
     ]
    },
    {
     "name": "stdout",
     "output_type": "stream",
     "text": [
      "tensor(0.53653651475906372070, device='cuda:0')\n"
     ]
    },
    {
     "name": "stderr",
     "output_type": "stream",
     "text": [
      "100%|██████████| 30/30 [00:07<00:00,  4.05it/s]\n"
     ]
    },
    {
     "name": "stdout",
     "output_type": "stream",
     "text": [
      "tensor(0.57800000905990600586, device='cuda:0')\n"
     ]
    },
    {
     "name": "stderr",
     "output_type": "stream",
     "text": [
      "100%|██████████| 30/30 [00:07<00:00,  4.08it/s]\n"
     ]
    },
    {
     "name": "stdout",
     "output_type": "stream",
     "text": [
      "tensor(0.55900001525878906250, device='cuda:0')\n"
     ]
    },
    {
     "name": "stderr",
     "output_type": "stream",
     "text": [
      "100%|██████████| 30/30 [00:07<00:00,  4.05it/s]\n"
     ]
    },
    {
     "name": "stdout",
     "output_type": "stream",
     "text": [
      "tensor(0.83400005102157592773, device='cuda:0')\n"
     ]
    },
    {
     "name": "stderr",
     "output_type": "stream",
     "text": [
      "100%|██████████| 30/30 [00:07<00:00,  4.05it/s]\n"
     ]
    },
    {
     "name": "stdout",
     "output_type": "stream",
     "text": [
      "tensor(0.59600001573562622070, device='cuda:0')\n"
     ]
    },
    {
     "name": "stderr",
     "output_type": "stream",
     "text": [
      "100%|██████████| 30/30 [00:07<00:00,  4.03it/s]\n"
     ]
    },
    {
     "name": "stdout",
     "output_type": "stream",
     "text": [
      "tensor(0.54354351758956909180, device='cuda:0')\n"
     ]
    },
    {
     "name": "stderr",
     "output_type": "stream",
     "text": [
      "100%|██████████| 30/30 [00:09<00:00,  3.23it/s]\n",
      "100%|██████████| 30/30 [00:09<00:00,  3.27it/s]\n"
     ]
    },
    {
     "name": "stdout",
     "output_type": "stream",
     "text": [
      "tensor(0.83219999074935913086, device='cuda:0')\n",
      "3 End2EndMLP test acc 0.8321999907493591 params {'activation': Tanh(), 'batch_size': 64, 'bottleneck_dim': 512, 'end_lr_factor': 0.01, 'hidden_dim': 2, 'in_dim': 2, 'loss': 'cce', 'lr': 0.1, 'modelClass': <class 'models.end2end.End2EndMLPResNet'>, 'n_blocks': 4, 'n_epochs': 30, 'out_dim': 3, 'seed': 45, 'upsample': False, 'weight_decay': 1e-05}\n"
     ]
    },
    {
     "name": "stderr",
     "output_type": "stream",
     "text": [
      "100%|██████████| 30/30 [00:07<00:00,  4.03it/s]\n"
     ]
    },
    {
     "name": "stdout",
     "output_type": "stream",
     "text": [
      "tensor(0.35200002789497375488, device='cuda:0')\n"
     ]
    },
    {
     "name": "stderr",
     "output_type": "stream",
     "text": [
      "100%|██████████| 30/30 [00:07<00:00,  4.05it/s]\n"
     ]
    },
    {
     "name": "stdout",
     "output_type": "stream",
     "text": [
      "tensor(0.35100001096725463867, device='cuda:0')\n"
     ]
    },
    {
     "name": "stderr",
     "output_type": "stream",
     "text": [
      "100%|██████████| 30/30 [00:07<00:00,  4.02it/s]\n"
     ]
    },
    {
     "name": "stdout",
     "output_type": "stream",
     "text": [
      "tensor(0.36300000548362731934, device='cuda:0')\n"
     ]
    },
    {
     "name": "stderr",
     "output_type": "stream",
     "text": [
      "100%|██████████| 30/30 [00:07<00:00,  4.05it/s]\n"
     ]
    },
    {
     "name": "stdout",
     "output_type": "stream",
     "text": [
      "tensor(0.35800001025199890137, device='cuda:0')\n"
     ]
    },
    {
     "name": "stderr",
     "output_type": "stream",
     "text": [
      "100%|██████████| 30/30 [00:07<00:00,  4.07it/s]\n"
     ]
    },
    {
     "name": "stdout",
     "output_type": "stream",
     "text": [
      "tensor(0.37437435984611511230, device='cuda:0')\n"
     ]
    },
    {
     "name": "stderr",
     "output_type": "stream",
     "text": [
      "100%|██████████| 30/30 [00:07<00:00,  4.08it/s]\n"
     ]
    },
    {
     "name": "stdout",
     "output_type": "stream",
     "text": [
      "tensor(0.34000000357627868652, device='cuda:0')\n"
     ]
    },
    {
     "name": "stderr",
     "output_type": "stream",
     "text": [
      "100%|██████████| 30/30 [00:07<00:00,  4.04it/s]\n"
     ]
    },
    {
     "name": "stdout",
     "output_type": "stream",
     "text": [
      "tensor(0.31900000572204589844, device='cuda:0')\n"
     ]
    },
    {
     "name": "stderr",
     "output_type": "stream",
     "text": [
      "100%|██████████| 30/30 [00:07<00:00,  3.98it/s]\n"
     ]
    },
    {
     "name": "stdout",
     "output_type": "stream",
     "text": [
      "tensor(0.33700001239776611328, device='cuda:0')\n"
     ]
    },
    {
     "name": "stderr",
     "output_type": "stream",
     "text": [
      "100%|██████████| 30/30 [00:07<00:00,  4.02it/s]\n"
     ]
    },
    {
     "name": "stdout",
     "output_type": "stream",
     "text": [
      "tensor(0.34000000357627868652, device='cuda:0')\n"
     ]
    },
    {
     "name": "stderr",
     "output_type": "stream",
     "text": [
      "100%|██████████| 30/30 [00:07<00:00,  3.96it/s]\n"
     ]
    },
    {
     "name": "stdout",
     "output_type": "stream",
     "text": [
      "tensor(0.32932931184768676758, device='cuda:0')\n"
     ]
    },
    {
     "name": "stderr",
     "output_type": "stream",
     "text": [
      "100%|██████████| 30/30 [00:07<00:00,  4.00it/s]\n"
     ]
    },
    {
     "name": "stdout",
     "output_type": "stream",
     "text": [
      "tensor(0.39200001955032348633, device='cuda:0')\n"
     ]
    },
    {
     "name": "stderr",
     "output_type": "stream",
     "text": [
      "100%|██████████| 30/30 [00:07<00:00,  4.06it/s]\n"
     ]
    },
    {
     "name": "stdout",
     "output_type": "stream",
     "text": [
      "tensor(0.36800003051757812500, device='cuda:0')\n"
     ]
    },
    {
     "name": "stderr",
     "output_type": "stream",
     "text": [
      "100%|██████████| 30/30 [00:07<00:00,  4.03it/s]\n"
     ]
    },
    {
     "name": "stdout",
     "output_type": "stream",
     "text": [
      "tensor(0.45000001788139343262, device='cuda:0')\n"
     ]
    },
    {
     "name": "stderr",
     "output_type": "stream",
     "text": [
      "100%|██████████| 30/30 [00:07<00:00,  4.03it/s]\n"
     ]
    },
    {
     "name": "stdout",
     "output_type": "stream",
     "text": [
      "tensor(0.42300000786781311035, device='cuda:0')\n"
     ]
    },
    {
     "name": "stderr",
     "output_type": "stream",
     "text": [
      "100%|██████████| 30/30 [00:07<00:00,  4.02it/s]\n"
     ]
    },
    {
     "name": "stdout",
     "output_type": "stream",
     "text": [
      "tensor(0.41741740703582763672, device='cuda:0')\n"
     ]
    },
    {
     "name": "stderr",
     "output_type": "stream",
     "text": [
      "100%|██████████| 30/30 [00:07<00:00,  4.00it/s]\n"
     ]
    },
    {
     "name": "stdout",
     "output_type": "stream",
     "text": [
      "tensor(0.46700000762939453125, device='cuda:0')\n"
     ]
    },
    {
     "name": "stderr",
     "output_type": "stream",
     "text": [
      "100%|██████████| 30/30 [00:07<00:00,  4.08it/s]\n"
     ]
    },
    {
     "name": "stdout",
     "output_type": "stream",
     "text": [
      "tensor(0.42800003290176391602, device='cuda:0')\n"
     ]
    },
    {
     "name": "stderr",
     "output_type": "stream",
     "text": [
      "100%|██████████| 30/30 [00:07<00:00,  4.04it/s]\n"
     ]
    },
    {
     "name": "stdout",
     "output_type": "stream",
     "text": [
      "tensor(0.34900000691413879395, device='cuda:0')\n"
     ]
    },
    {
     "name": "stderr",
     "output_type": "stream",
     "text": [
      "100%|██████████| 30/30 [00:07<00:00,  4.08it/s]\n"
     ]
    },
    {
     "name": "stdout",
     "output_type": "stream",
     "text": [
      "tensor(0.42300000786781311035, device='cuda:0')\n"
     ]
    },
    {
     "name": "stderr",
     "output_type": "stream",
     "text": [
      "100%|██████████| 30/30 [00:07<00:00,  4.02it/s]\n"
     ]
    },
    {
     "name": "stdout",
     "output_type": "stream",
     "text": [
      "tensor(0.43743744492530822754, device='cuda:0')\n"
     ]
    },
    {
     "name": "stderr",
     "output_type": "stream",
     "text": [
      "100%|██████████| 30/30 [00:07<00:00,  4.02it/s]\n"
     ]
    },
    {
     "name": "stdout",
     "output_type": "stream",
     "text": [
      "tensor(0.42000001668930053711, device='cuda:0')\n"
     ]
    },
    {
     "name": "stderr",
     "output_type": "stream",
     "text": [
      "100%|██████████| 30/30 [00:07<00:00,  4.02it/s]\n"
     ]
    },
    {
     "name": "stdout",
     "output_type": "stream",
     "text": [
      "tensor(0.53400003910064697266, device='cuda:0')\n"
     ]
    },
    {
     "name": "stderr",
     "output_type": "stream",
     "text": [
      "100%|██████████| 30/30 [00:07<00:00,  4.05it/s]\n"
     ]
    },
    {
     "name": "stdout",
     "output_type": "stream",
     "text": [
      "tensor(0.45100003480911254883, device='cuda:0')\n"
     ]
    },
    {
     "name": "stderr",
     "output_type": "stream",
     "text": [
      "100%|██████████| 30/30 [00:07<00:00,  4.00it/s]\n"
     ]
    },
    {
     "name": "stdout",
     "output_type": "stream",
     "text": [
      "tensor(0.51200002431869506836, device='cuda:0')\n"
     ]
    },
    {
     "name": "stderr",
     "output_type": "stream",
     "text": [
      "100%|██████████| 30/30 [00:07<00:00,  4.03it/s]\n"
     ]
    },
    {
     "name": "stdout",
     "output_type": "stream",
     "text": [
      "tensor(0.61461460590362548828, device='cuda:0')\n"
     ]
    },
    {
     "name": "stderr",
     "output_type": "stream",
     "text": [
      "100%|██████████| 30/30 [00:07<00:00,  4.04it/s]\n"
     ]
    },
    {
     "name": "stdout",
     "output_type": "stream",
     "text": [
      "tensor(0.62600004673004150391, device='cuda:0')\n"
     ]
    },
    {
     "name": "stderr",
     "output_type": "stream",
     "text": [
      "100%|██████████| 30/30 [00:07<00:00,  4.03it/s]\n"
     ]
    },
    {
     "name": "stdout",
     "output_type": "stream",
     "text": [
      "tensor(0.53900003433227539062, device='cuda:0')\n"
     ]
    },
    {
     "name": "stderr",
     "output_type": "stream",
     "text": [
      "100%|██████████| 30/30 [00:07<00:00,  4.01it/s]\n"
     ]
    },
    {
     "name": "stdout",
     "output_type": "stream",
     "text": [
      "tensor(0.58100003004074096680, device='cuda:0')\n"
     ]
    },
    {
     "name": "stderr",
     "output_type": "stream",
     "text": [
      "100%|██████████| 30/30 [00:07<00:00,  4.02it/s]\n"
     ]
    },
    {
     "name": "stdout",
     "output_type": "stream",
     "text": [
      "tensor(0.52700001001358032227, device='cuda:0')\n"
     ]
    },
    {
     "name": "stderr",
     "output_type": "stream",
     "text": [
      "100%|██████████| 30/30 [00:07<00:00,  4.03it/s]\n"
     ]
    },
    {
     "name": "stdout",
     "output_type": "stream",
     "text": [
      "tensor(0.36036035418510437012, device='cuda:0')\n"
     ]
    },
    {
     "name": "stderr",
     "output_type": "stream",
     "text": [
      "100%|██████████| 30/30 [00:09<00:00,  3.21it/s]\n",
      "100%|██████████| 30/30 [00:09<00:00,  3.21it/s]"
     ]
    },
    {
     "name": "stdout",
     "output_type": "stream",
     "text": [
      "tensor(0.55500000715255737305, device='cuda:0')\n",
      "4 End2EndMLP test acc 0.5550000071525574 params {'activation': Tanh(), 'batch_size': 64, 'bottleneck_dim': 512, 'end_lr_factor': 0.01, 'hidden_dim': 2, 'in_dim': 2, 'loss': 'cce', 'lr': 0.1, 'modelClass': <class 'models.end2end.End2EndMLPResNet'>, 'n_blocks': 4, 'n_epochs': 30, 'out_dim': 3, 'seed': 46, 'upsample': False, 'weight_decay': 1e-05}\n",
      "GradientRFRBoost acc 0.7533999800682067 std 0.07638188815487983\n",
      "[0.8305999636650085, 0.8271999955177307, 0.6395999789237976, 0.7802000045776367, 0.6893999576568604]\n",
      "\n",
      "GradientRFRBoost SWIM acc 0.9799199819564819 std 0.013481004467182773\n",
      "[0.9905999898910522, 0.9843999743461609, 0.9791999459266663, 0.9909999966621399, 0.9544000029563904]\n",
      "\n",
      "Logistic Regression acc 0.3293999910354614 std 0.01623674855855424\n",
      "[0.33879998326301575, 0.32739999890327454, 0.33980000019073486, 0.3423999845981598, 0.2985999882221222]\n",
      "\n",
      "End2EndMLP acc 0.6979199886322022 std 0.17625974154932317\n",
      "[0.6383999586105347, 0.49639999866485596, 0.9675999879837036, 0.8321999907493591, 0.5550000071525574]\n",
      "\n",
      "GradientRFRBoost best params [{'feature_type': 'iid', 'hidden_dim': 2, 'in_dim': 2, 'l2_cls': 0.01, 'l2_ghat': 1e-05, 'lbfgs_lr': 1.0, 'lbfgs_max_iter': 300, 'modelClass': <class 'models.random_feature_representation_boosting.GradientRFRBoostClassifier'>, 'n_classes': 3, 'n_layers': 4, 'randfeat_x0_dim': 512, 'randfeat_xt_dim': 512, 'seed': 42, 'upscale_type': 'identity', 'use_batchnorm': True}, {'feature_type': 'iid', 'hidden_dim': 2, 'in_dim': 2, 'l2_cls': 0.1, 'l2_ghat': 1e-05, 'lbfgs_lr': 1.0, 'lbfgs_max_iter': 300, 'modelClass': <class 'models.random_feature_representation_boosting.GradientRFRBoostClassifier'>, 'n_classes': 3, 'n_layers': 4, 'randfeat_x0_dim': 512, 'randfeat_xt_dim': 512, 'seed': 43, 'upscale_type': 'identity', 'use_batchnorm': True}, {'feature_type': 'iid', 'hidden_dim': 2, 'in_dim': 2, 'l2_cls': 0.01, 'l2_ghat': 0.0001, 'lbfgs_lr': 1.0, 'lbfgs_max_iter': 300, 'modelClass': <class 'models.random_feature_representation_boosting.GradientRFRBoostClassifier'>, 'n_classes': 3, 'n_layers': 4, 'randfeat_x0_dim': 512, 'randfeat_xt_dim': 512, 'seed': 44, 'upscale_type': 'identity', 'use_batchnorm': True}, {'feature_type': 'iid', 'hidden_dim': 2, 'in_dim': 2, 'l2_cls': 0.1, 'l2_ghat': 1e-05, 'lbfgs_lr': 1.0, 'lbfgs_max_iter': 300, 'modelClass': <class 'models.random_feature_representation_boosting.GradientRFRBoostClassifier'>, 'n_classes': 3, 'n_layers': 4, 'randfeat_x0_dim': 512, 'randfeat_xt_dim': 512, 'seed': 45, 'upscale_type': 'identity', 'use_batchnorm': True}, {'feature_type': 'iid', 'hidden_dim': 2, 'in_dim': 2, 'l2_cls': 0.1, 'l2_ghat': 1e-05, 'lbfgs_lr': 1.0, 'lbfgs_max_iter': 300, 'modelClass': <class 'models.random_feature_representation_boosting.GradientRFRBoostClassifier'>, 'n_classes': 3, 'n_layers': 4, 'randfeat_x0_dim': 512, 'randfeat_xt_dim': 512, 'seed': 46, 'upscale_type': 'identity', 'use_batchnorm': True}]\n",
      "\n",
      "GradientRFRBoost SWIM best params [{'feature_type': 'SWIM', 'hidden_dim': 2, 'in_dim': 2, 'l2_cls': 0.001, 'l2_ghat': 0.0001, 'lbfgs_lr': 1.0, 'lbfgs_max_iter': 300, 'modelClass': <class 'models.random_feature_representation_boosting.GradientRFRBoostClassifier'>, 'n_classes': 3, 'n_layers': 4, 'randfeat_x0_dim': 512, 'randfeat_xt_dim': 512, 'seed': 42, 'upscale_type': 'identity', 'use_batchnorm': True}, {'feature_type': 'SWIM', 'hidden_dim': 2, 'in_dim': 2, 'l2_cls': 0.001, 'l2_ghat': 0.0001, 'lbfgs_lr': 1.0, 'lbfgs_max_iter': 300, 'modelClass': <class 'models.random_feature_representation_boosting.GradientRFRBoostClassifier'>, 'n_classes': 3, 'n_layers': 4, 'randfeat_x0_dim': 512, 'randfeat_xt_dim': 512, 'seed': 43, 'upscale_type': 'identity', 'use_batchnorm': True}, {'feature_type': 'SWIM', 'hidden_dim': 2, 'in_dim': 2, 'l2_cls': 0.001, 'l2_ghat': 0.0001, 'lbfgs_lr': 1.0, 'lbfgs_max_iter': 300, 'modelClass': <class 'models.random_feature_representation_boosting.GradientRFRBoostClassifier'>, 'n_classes': 3, 'n_layers': 4, 'randfeat_x0_dim': 512, 'randfeat_xt_dim': 512, 'seed': 44, 'upscale_type': 'identity', 'use_batchnorm': True}, {'feature_type': 'SWIM', 'hidden_dim': 2, 'in_dim': 2, 'l2_cls': 0.001, 'l2_ghat': 0.0001, 'lbfgs_lr': 1.0, 'lbfgs_max_iter': 300, 'modelClass': <class 'models.random_feature_representation_boosting.GradientRFRBoostClassifier'>, 'n_classes': 3, 'n_layers': 4, 'randfeat_x0_dim': 512, 'randfeat_xt_dim': 512, 'seed': 45, 'upscale_type': 'identity', 'use_batchnorm': True}, {'feature_type': 'SWIM', 'hidden_dim': 2, 'in_dim': 2, 'l2_cls': 0.0001, 'l2_ghat': 0.0001, 'lbfgs_lr': 1.0, 'lbfgs_max_iter': 300, 'modelClass': <class 'models.random_feature_representation_boosting.GradientRFRBoostClassifier'>, 'n_classes': 3, 'n_layers': 4, 'randfeat_x0_dim': 512, 'randfeat_xt_dim': 512, 'seed': 46, 'upscale_type': 'identity', 'use_batchnorm': True}]\n",
      "\n",
      "Logistic Regression best params [{'l2_lambda': 0.01, 'modelClass': <class 'models.base.LogisticRegression'>, 'n_classes': 3, 'seed': 42}, {'l2_lambda': 0.1, 'modelClass': <class 'models.base.LogisticRegression'>, 'n_classes': 3, 'seed': 43}, {'l2_lambda': 0.001, 'modelClass': <class 'models.base.LogisticRegression'>, 'n_classes': 3, 'seed': 44}, {'l2_lambda': 0.001, 'modelClass': <class 'models.base.LogisticRegression'>, 'n_classes': 3, 'seed': 45}, {'l2_lambda': 0.1, 'modelClass': <class 'models.base.LogisticRegression'>, 'n_classes': 3, 'seed': 46}]\n",
      "\n",
      "End2EndMLP best params [{'activation': Tanh(), 'batch_size': 64, 'bottleneck_dim': 512, 'end_lr_factor': 0.01, 'hidden_dim': 2, 'in_dim': 2, 'loss': 'cce', 'lr': 0.1, 'modelClass': <class 'models.end2end.End2EndMLPResNet'>, 'n_blocks': 4, 'n_epochs': 30, 'out_dim': 3, 'seed': 42, 'upsample': False, 'weight_decay': 1e-05}, {'activation': Tanh(), 'batch_size': 64, 'bottleneck_dim': 512, 'end_lr_factor': 0.01, 'hidden_dim': 2, 'in_dim': 2, 'loss': 'cce', 'lr': 0.001, 'modelClass': <class 'models.end2end.End2EndMLPResNet'>, 'n_blocks': 4, 'n_epochs': 30, 'out_dim': 3, 'seed': 43, 'upsample': False, 'weight_decay': 1e-05}, {'activation': Tanh(), 'batch_size': 64, 'bottleneck_dim': 512, 'end_lr_factor': 0.01, 'hidden_dim': 2, 'in_dim': 2, 'loss': 'cce', 'lr': 0.1, 'modelClass': <class 'models.end2end.End2EndMLPResNet'>, 'n_blocks': 4, 'n_epochs': 30, 'out_dim': 3, 'seed': 44, 'upsample': False, 'weight_decay': 1e-05}, {'activation': Tanh(), 'batch_size': 64, 'bottleneck_dim': 512, 'end_lr_factor': 0.01, 'hidden_dim': 2, 'in_dim': 2, 'loss': 'cce', 'lr': 0.1, 'modelClass': <class 'models.end2end.End2EndMLPResNet'>, 'n_blocks': 4, 'n_epochs': 30, 'out_dim': 3, 'seed': 45, 'upsample': False, 'weight_decay': 1e-05}, {'activation': Tanh(), 'batch_size': 64, 'bottleneck_dim': 512, 'end_lr_factor': 0.01, 'hidden_dim': 2, 'in_dim': 2, 'loss': 'cce', 'lr': 0.1, 'modelClass': <class 'models.end2end.End2EndMLPResNet'>, 'n_blocks': 4, 'n_epochs': 30, 'out_dim': 3, 'seed': 46, 'upsample': False, 'weight_decay': 1e-05}]\n",
      "\n"
     ]
    },
    {
     "name": "stderr",
     "output_type": "stream",
     "text": [
      "\n"
     ]
    }
   ],
   "source": [
    "from sklearn.model_selection import GridSearchCV\n",
    "from sklearn.base import BaseEstimator\n",
    "from models.base import FittableModule\n",
    "\n",
    "import matplotlib.pyplot as plt\n",
    "import matplotlib.colors as mcolors\n",
    "\n",
    "class SKLearnWrapper(BaseEstimator):\n",
    "    def __init__(self, modelClass=None, **model_params):\n",
    "        self.modelClass = modelClass\n",
    "        self.model_params = model_params\n",
    "        self.seed = None\n",
    "        self.model = None\n",
    "\n",
    "    def fit(self, X, y):\n",
    "        np.random.seed(self.seed)\n",
    "        torch.manual_seed(self.seed)\n",
    "        torch.cuda.manual_seed(self.seed)\n",
    "\n",
    "        self.model = self.modelClass(**self.model_params)\n",
    "        self.model.fit(X, y)\n",
    "        return self\n",
    "\n",
    "    def predict(self, X):\n",
    "        return self.model.predict(X)\n",
    "\n",
    "    def set_params(self, **params):\n",
    "        self.modelClass = params.pop('modelClass', self.modelClass)\n",
    "        self.seed = params.pop('seed', self.seed)\n",
    "        self.model_params.update(params)\n",
    "        return self\n",
    "\n",
    "    def get_params(self, deep=True):\n",
    "        params = {'modelClass': self.modelClass}\n",
    "        params.update(self.model_params)\n",
    "        return params\n",
    "    \n",
    "    def score(self, X, y):\n",
    "        logits = self.model(X)\n",
    "        if y.size(1) == 1:\n",
    "            pred = (logits>0).float()\n",
    "        else:\n",
    "            pred = torch.argmax(logits, dim=1)\n",
    "            y = torch.argmax(y, dim=1)\n",
    "        acc = (pred==y).float().mean()\n",
    "        print(acc)\n",
    "        return acc.detach().cpu().item()\n",
    "    \n",
    "    def set_model_eval(self):\n",
    "        self.model.eval()\n",
    "    \n",
    "\n",
    "import matplotlib.patches as patches\n",
    "\n",
    "def save_feature_plot(\n",
    "        X_train, \n",
    "        y_train, \n",
    "        X_test, \n",
    "        y_test, \n",
    "        model, \n",
    "        n_classes, \n",
    "        file_name: str,\n",
    "        save_dir: str = \"save/ConcentricCircles/\"\n",
    "        ):\n",
    "    \"\"\"\n",
    "    Saves train and test features side by side for visualization at a given layer.\n",
    "    \n",
    "    Args:\n",
    "        X_train (torch.Tensor): Features of the training set (shape: [n_samples, 2]).\n",
    "        y_train (torch.Tensor): Labels of the training set (one-hot or integer-encoded).\n",
    "        X_test (torch.Tensor): Features of the test set (shape: [n_samples, 2]).\n",
    "        y_test (torch.Tensor): Labels of the test set (one-hot or integer-encoded).\n",
    "        n_classes (int): Number of classes in the dataset.\n",
    "        file_name (str): Name of the file to save the plot.\n",
    "        save_dir (str): Directory to save the plot.\n",
    "    \"\"\"\n",
    "    # Obtain the features at each layer\n",
    "    train_features = [X_train]\n",
    "    test_features = [X_test]\n",
    "    if type(model) == GradientRFRBoostClassifier:\n",
    "        X0_train = X_train\n",
    "        X0_test = X_test\n",
    "        for t, (feat_layer, ghat_layer, batchnorm) in enumerate(zip(model.random_feature_layers, \n",
    "                                                                     model.ghat_boosting_layers, \n",
    "                                                                     model.batchnorms)):\n",
    "            model.train()\n",
    "            features_train = feat_layer(X_train, X0_train)\n",
    "            X_train = X_train + model.boost_lr * ghat_layer(features_train)\n",
    "            X_train = batchnorm(X_train)\n",
    "            model.eval()\n",
    "            features_test = feat_layer(X_test, X0_test)\n",
    "            X_test = X_test + model.boost_lr * ghat_layer(features_test)\n",
    "            X_test = batchnorm(X_test)\n",
    "            train_features.append(X_train)\n",
    "            test_features.append(X_test)\n",
    "    elif type(model) == End2EndMLPResNet:\n",
    "        for resblock in model.residual_blocks:\n",
    "            X_train = X_train + resblock(X_train)\n",
    "            X_test = X_test + resblock(X_test)\n",
    "            train_features.append(X_train)\n",
    "            test_features.append(X_test)\n",
    "    else:\n",
    "        raise ValueError(\"Model type not recognized.\")\n",
    "    \n",
    "    # Convert labels to integers if they're one-hot encoded\n",
    "    train_labels_np = y_train.argmax(dim=1).cpu().numpy() if n_classes > 2 else y_train.cpu().numpy()\n",
    "    test_labels_np = y_test.argmax(dim=1).cpu().numpy() if n_classes > 1 else y_test.cpu().numpy()\n",
    "\n",
    "\n",
    "    # Plot the features\n",
    "    T = len(train_features)\n",
    "    for name_train_or_test, features, labels in [(\"train\", train_features, train_labels_np), \n",
    "                                                 (\"test\", test_features, test_labels_np)]:\n",
    "        fig, axes = plt.subplots(1, T, figsize=(T * 4, 4), dpi=100)\n",
    "        for t in range(T):\n",
    "            ax = axes[t]\n",
    "            feat = features[t].detach().cpu().numpy()\n",
    "            for j in range(feat.shape[1]):\n",
    "                feat[:, j] = (feat[:, j] - feat[:, j].min()) / (feat[:, j].max() - feat[:, j].min())\n",
    "            for i in range(n_classes):\n",
    "                ax.scatter(feat[labels == i][:, 0], feat[labels == i][:, 1])\n",
    "\n",
    "            # Remove titles and adjust axis\n",
    "            ax.axis('equal')\n",
    "            ax.axis('off')\n",
    "\n",
    "            # Add black border as a rectangle\n",
    "            rect = patches.Rectangle(\n",
    "                (0, 0), 1, 1, transform=ax.transAxes,  # Set size relative to axes\n",
    "                linewidth=2, edgecolor='black', facecolor='none', zorder=10\n",
    "            )\n",
    "            ax.add_patch(rect)\n",
    "\n",
    "        # Add vertical label for the model name\n",
    "        name = \"MLP ResNet\" if type(model) == End2EndMLPResNet else \"GRFRBoost (ours)\"\n",
    "        if \"GRFRBoost\" in name:\n",
    "            if model.randfeat_x0_dim == 0:\n",
    "                name += \" x0 only\"\n",
    "            if model.feature_type == \"SWIM\":\n",
    "                name += \" SWIM\"\n",
    "        fig.text(0.02, 0.5, name, fontsize=18, rotation='vertical', va='center', ha='center')\n",
    "\n",
    "        plt.tight_layout()\n",
    "        plt.subplots_adjust(left=0.03)  # Add space for the model name\n",
    "        plt.savefig(f\"{save_dir}/{file_name}_{name_train_or_test}.png\", bbox_inches='tight', dpi=300)\n",
    "        plt.close(fig)\n",
    "\n",
    "\n",
    "\n",
    "\n",
    "def run_concentric_rings_experiment(\n",
    "        seed=42,\n",
    "        k_folds=5,\n",
    "        n_classes=3,\n",
    "        n_rings_per_class=3,\n",
    "        n_samples=10000,\n",
    "        device=\"cuda\",\n",
    "        ):\n",
    "    \"\"\"Runs the concentric circle experiments and saves the plots and results.\"\"\"\n",
    "    # Define models and their hyperparameter grids\n",
    "    n_layers = 4 # TODO CHANGE\n",
    "    bottleneck_dim = 512\n",
    "    use_batchnorm = True\n",
    "    model_specs = {\n",
    "        \"GradientRFRBoost\": {\n",
    "            'modelClass': [GradientRFRBoostClassifier],\n",
    "            'l2_cls': np.logspace(-4, -1, 4),\n",
    "            'l2_ghat': np.logspace(-6, -3, 4),\n",
    "            'in_dim': [2],\n",
    "            'n_classes': [n_classes],\n",
    "            'hidden_dim': [2],\n",
    "            'n_layers': [n_layers],\n",
    "            'randfeat_xt_dim': [bottleneck_dim],\n",
    "            'randfeat_x0_dim': [bottleneck_dim],\n",
    "            'feature_type': [\"iid\"],\n",
    "            'upscale_type': [\"identity\"],\n",
    "            'use_batchnorm': [use_batchnorm],\n",
    "            'lbfgs_max_iter': [300],\n",
    "            'lbfgs_lr': [1.0],\n",
    "        },\n",
    "        \"GradientRFRBoost SWIM\": {\n",
    "            'modelClass': [GradientRFRBoostClassifier],\n",
    "            'l2_cls': np.logspace(-4, -1, 4),\n",
    "            'l2_ghat': np.logspace(-6, -3, 4),\n",
    "            'in_dim': [2],\n",
    "            'n_classes': [n_classes],\n",
    "            'hidden_dim': [2],\n",
    "            'n_layers': [n_layers],\n",
    "            'randfeat_xt_dim': [bottleneck_dim],\n",
    "            'randfeat_x0_dim': [bottleneck_dim],\n",
    "            'feature_type': [\"SWIM\"],\n",
    "            'upscale_type': [\"identity\"],\n",
    "            'use_batchnorm': [use_batchnorm],\n",
    "            'lbfgs_max_iter': [300],\n",
    "            'lbfgs_lr': [1.0],\n",
    "        },\n",
    "        \"Logistic Regression\": {\n",
    "            'modelClass': [LogisticRegression],\n",
    "            'l2_lambda': np.logspace(-4, -1, 4),\n",
    "            'n_classes': [n_classes],\n",
    "        },\n",
    "        \"End2EndMLP\": {\n",
    "            'modelClass': [End2EndMLPResNet],\n",
    "            'lr': np.logspace(-6, -1, 6),\n",
    "            'in_dim': [2],\n",
    "            'hidden_dim': [2],\n",
    "            'bottleneck_dim': [bottleneck_dim],\n",
    "            'out_dim': [n_classes if n_classes > 2 else 1],\n",
    "            'n_blocks': [n_layers],\n",
    "            'loss': [\"cce\" if n_classes > 2 else \"bce\"],\n",
    "            'n_epochs': [30],\n",
    "            'end_lr_factor': [0.01],\n",
    "            'weight_decay': [0.00001],\n",
    "            'batch_size': [64],\n",
    "            'upsample': [False],\n",
    "            'activation': [nn.Tanh()],\n",
    "        },\n",
    "    }\n",
    "\n",
    "    # Run experiments\n",
    "    results = {}\n",
    "    results_params = {}\n",
    "    for model_name, param_grid in model_specs.items():\n",
    "        accuracies = []\n",
    "        best_params = []\n",
    "        for i in range(5):\n",
    "            # Set seed\n",
    "            np.random.seed(seed+i)\n",
    "            torch.manual_seed(seed+i)\n",
    "            torch.cuda.manual_seed(seed+i)\n",
    "\n",
    "            # Create dataset\n",
    "            X_train, y_train, X_test, y_test = generate_concentric_rings(\n",
    "                n_rings_per_class, n_classes, n_samples, device\n",
    "            )\n",
    "\n",
    "            # Perform grid search with k-fold cross-validation\n",
    "            estimator = SKLearnWrapper()\n",
    "            grid_search = GridSearchCV(\n",
    "                estimator=estimator,\n",
    "                param_grid= {**param_grid, **{\"seed\": [seed+i]}},\n",
    "                cv=k_folds,\n",
    "            )\n",
    "            grid_search.fit(X_train, y_train)\n",
    "            best_model = grid_search.best_estimator_\n",
    "            best_model.fit(X_train, y_train)\n",
    "            best_model.set_model_eval()\n",
    "            accuracy = best_model.score(X_test, y_test)\n",
    "            accuracies.append(accuracy)\n",
    "            best_params.append(grid_search.best_params_)\n",
    "\n",
    "            print(i, model_name, \"test acc\", accuracy, \"params\", grid_search.best_params_)\n",
    "\n",
    "            if i == 0 and model_name != \"Logistic Regression\":\n",
    "                print(\"plotting and saving feature evolution point cloud\")\n",
    "                save_feature_plot(X_train, y_train, X_test, y_test, best_model.model, n_classes, model_name)\n",
    "        results[model_name] = accuracies\n",
    "        results_params[model_name] = best_params\n",
    "\n",
    "    return results, results_params\n",
    "\n",
    "results, results_params = run_concentric_rings_experiment()\n",
    "\n",
    "for model_name, accs in results.items():\n",
    "    print(model_name, \"acc\", np.mean(accs), \"std\", np.std(accs))\n",
    "    print(accs)\n",
    "    print()\n",
    "for model_name, best_params in results_params.items():\n",
    "    print(model_name, \"best params\", best_params)\n",
    "    print()"
   ]
  },
  {
   "cell_type": "code",
   "execution_count": 58,
   "metadata": {},
   "outputs": [
    {
     "name": "stdout",
     "output_type": "stream",
     "text": [
      "GradientRFRBoost acc 0.7533999800682067 std 0.07638188815487983\n",
      "[0.8305999636650085, 0.8271999955177307, 0.6395999789237976, 0.7802000045776367, 0.6893999576568604]\n",
      "\n",
      "GradientRFRBoost SWIM acc 0.9799199819564819 std 0.013481004467182773\n",
      "[0.9905999898910522, 0.9843999743461609, 0.9791999459266663, 0.9909999966621399, 0.9544000029563904]\n",
      "\n",
      "Logistic Regression acc 0.3293999910354614 std 0.01623674855855424\n",
      "[0.33879998326301575, 0.32739999890327454, 0.33980000019073486, 0.3423999845981598, 0.2985999882221222]\n",
      "\n",
      "End2EndMLP acc 0.6979199886322022 std 0.17625974154932317\n",
      "[0.6383999586105347, 0.49639999866485596, 0.9675999879837036, 0.8321999907493591, 0.5550000071525574]\n",
      "\n",
      "GradientRFRBoost best params [{'feature_type': 'iid', 'hidden_dim': 2, 'in_dim': 2, 'l2_cls': 0.01, 'l2_ghat': 1e-05, 'lbfgs_lr': 1.0, 'lbfgs_max_iter': 300, 'modelClass': <class 'models.random_feature_representation_boosting.GradientRFRBoostClassifier'>, 'n_classes': 3, 'n_layers': 4, 'randfeat_x0_dim': 512, 'randfeat_xt_dim': 512, 'seed': 42, 'upscale_type': 'identity', 'use_batchnorm': True}, {'feature_type': 'iid', 'hidden_dim': 2, 'in_dim': 2, 'l2_cls': 0.1, 'l2_ghat': 1e-05, 'lbfgs_lr': 1.0, 'lbfgs_max_iter': 300, 'modelClass': <class 'models.random_feature_representation_boosting.GradientRFRBoostClassifier'>, 'n_classes': 3, 'n_layers': 4, 'randfeat_x0_dim': 512, 'randfeat_xt_dim': 512, 'seed': 43, 'upscale_type': 'identity', 'use_batchnorm': True}, {'feature_type': 'iid', 'hidden_dim': 2, 'in_dim': 2, 'l2_cls': 0.01, 'l2_ghat': 0.0001, 'lbfgs_lr': 1.0, 'lbfgs_max_iter': 300, 'modelClass': <class 'models.random_feature_representation_boosting.GradientRFRBoostClassifier'>, 'n_classes': 3, 'n_layers': 4, 'randfeat_x0_dim': 512, 'randfeat_xt_dim': 512, 'seed': 44, 'upscale_type': 'identity', 'use_batchnorm': True}, {'feature_type': 'iid', 'hidden_dim': 2, 'in_dim': 2, 'l2_cls': 0.1, 'l2_ghat': 1e-05, 'lbfgs_lr': 1.0, 'lbfgs_max_iter': 300, 'modelClass': <class 'models.random_feature_representation_boosting.GradientRFRBoostClassifier'>, 'n_classes': 3, 'n_layers': 4, 'randfeat_x0_dim': 512, 'randfeat_xt_dim': 512, 'seed': 45, 'upscale_type': 'identity', 'use_batchnorm': True}, {'feature_type': 'iid', 'hidden_dim': 2, 'in_dim': 2, 'l2_cls': 0.1, 'l2_ghat': 1e-05, 'lbfgs_lr': 1.0, 'lbfgs_max_iter': 300, 'modelClass': <class 'models.random_feature_representation_boosting.GradientRFRBoostClassifier'>, 'n_classes': 3, 'n_layers': 4, 'randfeat_x0_dim': 512, 'randfeat_xt_dim': 512, 'seed': 46, 'upscale_type': 'identity', 'use_batchnorm': True}]\n",
      "\n",
      "GradientRFRBoost SWIM best params [{'feature_type': 'SWIM', 'hidden_dim': 2, 'in_dim': 2, 'l2_cls': 0.001, 'l2_ghat': 0.0001, 'lbfgs_lr': 1.0, 'lbfgs_max_iter': 300, 'modelClass': <class 'models.random_feature_representation_boosting.GradientRFRBoostClassifier'>, 'n_classes': 3, 'n_layers': 4, 'randfeat_x0_dim': 512, 'randfeat_xt_dim': 512, 'seed': 42, 'upscale_type': 'identity', 'use_batchnorm': True}, {'feature_type': 'SWIM', 'hidden_dim': 2, 'in_dim': 2, 'l2_cls': 0.001, 'l2_ghat': 0.0001, 'lbfgs_lr': 1.0, 'lbfgs_max_iter': 300, 'modelClass': <class 'models.random_feature_representation_boosting.GradientRFRBoostClassifier'>, 'n_classes': 3, 'n_layers': 4, 'randfeat_x0_dim': 512, 'randfeat_xt_dim': 512, 'seed': 43, 'upscale_type': 'identity', 'use_batchnorm': True}, {'feature_type': 'SWIM', 'hidden_dim': 2, 'in_dim': 2, 'l2_cls': 0.001, 'l2_ghat': 0.0001, 'lbfgs_lr': 1.0, 'lbfgs_max_iter': 300, 'modelClass': <class 'models.random_feature_representation_boosting.GradientRFRBoostClassifier'>, 'n_classes': 3, 'n_layers': 4, 'randfeat_x0_dim': 512, 'randfeat_xt_dim': 512, 'seed': 44, 'upscale_type': 'identity', 'use_batchnorm': True}, {'feature_type': 'SWIM', 'hidden_dim': 2, 'in_dim': 2, 'l2_cls': 0.001, 'l2_ghat': 0.0001, 'lbfgs_lr': 1.0, 'lbfgs_max_iter': 300, 'modelClass': <class 'models.random_feature_representation_boosting.GradientRFRBoostClassifier'>, 'n_classes': 3, 'n_layers': 4, 'randfeat_x0_dim': 512, 'randfeat_xt_dim': 512, 'seed': 45, 'upscale_type': 'identity', 'use_batchnorm': True}, {'feature_type': 'SWIM', 'hidden_dim': 2, 'in_dim': 2, 'l2_cls': 0.0001, 'l2_ghat': 0.0001, 'lbfgs_lr': 1.0, 'lbfgs_max_iter': 300, 'modelClass': <class 'models.random_feature_representation_boosting.GradientRFRBoostClassifier'>, 'n_classes': 3, 'n_layers': 4, 'randfeat_x0_dim': 512, 'randfeat_xt_dim': 512, 'seed': 46, 'upscale_type': 'identity', 'use_batchnorm': True}]\n",
      "\n",
      "Logistic Regression best params [{'l2_lambda': 0.01, 'modelClass': <class 'models.base.LogisticRegression'>, 'n_classes': 3, 'seed': 42}, {'l2_lambda': 0.1, 'modelClass': <class 'models.base.LogisticRegression'>, 'n_classes': 3, 'seed': 43}, {'l2_lambda': 0.001, 'modelClass': <class 'models.base.LogisticRegression'>, 'n_classes': 3, 'seed': 44}, {'l2_lambda': 0.001, 'modelClass': <class 'models.base.LogisticRegression'>, 'n_classes': 3, 'seed': 45}, {'l2_lambda': 0.1, 'modelClass': <class 'models.base.LogisticRegression'>, 'n_classes': 3, 'seed': 46}]\n",
      "\n",
      "End2EndMLP best params [{'activation': Tanh(), 'batch_size': 64, 'bottleneck_dim': 512, 'end_lr_factor': 0.01, 'hidden_dim': 2, 'in_dim': 2, 'loss': 'cce', 'lr': 0.1, 'modelClass': <class 'models.end2end.End2EndMLPResNet'>, 'n_blocks': 4, 'n_epochs': 30, 'out_dim': 3, 'seed': 42, 'upsample': False, 'weight_decay': 1e-05}, {'activation': Tanh(), 'batch_size': 64, 'bottleneck_dim': 512, 'end_lr_factor': 0.01, 'hidden_dim': 2, 'in_dim': 2, 'loss': 'cce', 'lr': 0.001, 'modelClass': <class 'models.end2end.End2EndMLPResNet'>, 'n_blocks': 4, 'n_epochs': 30, 'out_dim': 3, 'seed': 43, 'upsample': False, 'weight_decay': 1e-05}, {'activation': Tanh(), 'batch_size': 64, 'bottleneck_dim': 512, 'end_lr_factor': 0.01, 'hidden_dim': 2, 'in_dim': 2, 'loss': 'cce', 'lr': 0.1, 'modelClass': <class 'models.end2end.End2EndMLPResNet'>, 'n_blocks': 4, 'n_epochs': 30, 'out_dim': 3, 'seed': 44, 'upsample': False, 'weight_decay': 1e-05}, {'activation': Tanh(), 'batch_size': 64, 'bottleneck_dim': 512, 'end_lr_factor': 0.01, 'hidden_dim': 2, 'in_dim': 2, 'loss': 'cce', 'lr': 0.1, 'modelClass': <class 'models.end2end.End2EndMLPResNet'>, 'n_blocks': 4, 'n_epochs': 30, 'out_dim': 3, 'seed': 45, 'upsample': False, 'weight_decay': 1e-05}, {'activation': Tanh(), 'batch_size': 64, 'bottleneck_dim': 512, 'end_lr_factor': 0.01, 'hidden_dim': 2, 'in_dim': 2, 'loss': 'cce', 'lr': 0.1, 'modelClass': <class 'models.end2end.End2EndMLPResNet'>, 'n_blocks': 4, 'n_epochs': 30, 'out_dim': 3, 'seed': 46, 'upsample': False, 'weight_decay': 1e-05}]\n",
      "\n"
     ]
    }
   ],
   "source": [
    "for model_name, accs in results.items():\n",
    "    print(model_name, \"acc\", np.mean(accs), \"std\", np.std(accs))\n",
    "    print(accs)\n",
    "    print()\n",
    "for model_name, best_params in results_params.items():\n",
    "    print(model_name, \"best params\", best_params)\n",
    "    print()"
   ]
  },
  {
   "cell_type": "code",
   "execution_count": 59,
   "metadata": {},
   "outputs": [
    {
     "name": "stdout",
     "output_type": "stream",
     "text": [
      "GradientRFRBoost\n",
      "l2_cls 0.01\n",
      "l2_cls 0.1\n",
      "l2_cls 0.01\n",
      "l2_cls 0.1\n",
      "l2_cls 0.1\n",
      "l2_ghat 1e-05\n",
      "l2_ghat 1e-05\n",
      "l2_ghat 0.0001\n",
      "l2_ghat 1e-05\n",
      "l2_ghat 1e-05\n"
     ]
    }
   ],
   "source": [
    "name = \"GradientRFRBoost\"\n",
    "print(name)\n",
    "for params in results_params[name]:\n",
    "    print(\"l2_cls\", params[\"l2_cls\"])\n",
    "\n",
    "for params in results_params[name]:\n",
    "    print(\"l2_ghat\", params[\"l2_ghat\"])\n",
    "\n",
    "\n",
    "# change --- l2_cls 1 to 0.001\n",
    "#            l2_ghat 0.001 to 1e-06 (i think this is what ia lready have...)"
   ]
  },
  {
   "cell_type": "code",
   "execution_count": 61,
   "metadata": {},
   "outputs": [
    {
     "name": "stdout",
     "output_type": "stream",
     "text": [
      "GradientRFRBoost SWIM\n",
      "l2_cls 0.001\n",
      "l2_cls 0.001\n",
      "l2_cls 0.001\n",
      "l2_cls 0.001\n",
      "l2_cls 0.0001\n",
      "l2_ghat 0.0001\n",
      "l2_ghat 0.0001\n",
      "l2_ghat 0.0001\n",
      "l2_ghat 0.0001\n",
      "l2_ghat 0.0001\n"
     ]
    }
   ],
   "source": [
    "name = \"GradientRFRBoost SWIM\"\n",
    "print(name)\n",
    "for params in results_params[name]:\n",
    "    print(\"l2_cls\", params[\"l2_cls\"])\n",
    "\n",
    "for params in results_params[name]:\n",
    "    print(\"l2_ghat\", params[\"l2_ghat\"])\n",
    "\n",
    "# change --- l2_cls 0.01 to 0.00001\n",
    "#            l2_ghat 0.001 to 0.000001"
   ]
  },
  {
   "cell_type": "code",
   "execution_count": null,
   "metadata": {},
   "outputs": [],
   "source": [
    "# name = \"GradientRFRBoost xt only SWIM\"\n",
    "# print(name)\n",
    "# for params in results_params[name]:\n",
    "#     print(\"l2_cls\", params[\"l2_cls\"])\n",
    "\n",
    "# for params in results_params[name]:\n",
    "#     print(\"l2_ghat\", params[\"l2_ghat\"])"
   ]
  },
  {
   "cell_type": "code",
   "execution_count": null,
   "metadata": {},
   "outputs": [],
   "source": [
    "# name = \"GradientRFRBoost xt only\"\n",
    "# print(name)\n",
    "# for params in results_params[name]:\n",
    "#     print(\"l2_cls\", params[\"l2_cls\"])\n",
    "\n",
    "# for params in results_params[name]:\n",
    "#     print(\"l2_ghat\", params[\"l2_ghat\"])"
   ]
  },
  {
   "cell_type": "code",
   "execution_count": 62,
   "metadata": {},
   "outputs": [
    {
     "name": "stdout",
     "output_type": "stream",
     "text": [
      "End2EndMLP\n",
      "lr 0.1\n",
      "lr 0.001\n",
      "lr 0.1\n",
      "lr 0.1\n",
      "lr 0.1\n"
     ]
    }
   ],
   "source": [
    "name = \"End2EndMLP\"\n",
    "print(name)\n",
    "for params in results_params[name]:\n",
    "    print(\"lr\", params[\"lr\"])"
   ]
  },
  {
   "cell_type": "markdown",
   "metadata": {},
   "source": [
    "# Next: combine the plots into one image for the paper. also combine train vs test plots for appendix"
   ]
  },
  {
   "cell_type": "markdown",
   "metadata": {},
   "source": [
    "# TODO add batch norm... should help stabilize gradient\n",
    "\n",
    "# TODO add pointer to prev classifier, for faster training"
   ]
  }
 ],
 "metadata": {
  "kernelspec": {
   "display_name": "Python 3",
   "language": "python",
   "name": "python3"
  },
  "language_info": {
   "codemirror_mode": {
    "name": "ipython",
    "version": 3
   },
   "file_extension": ".py",
   "mimetype": "text/x-python",
   "name": "python",
   "nbconvert_exporter": "python",
   "pygments_lexer": "ipython3",
   "version": "3.10.14"
  }
 },
 "nbformat": 4,
 "nbformat_minor": 2
}
