{
 "cells": [
  {
   "cell_type": "code",
   "execution_count": 1,
   "metadata": {
    "metadata": {}
   },
   "outputs": [],
   "source": [
    "from typing import Tuple, List, Union, Any, Optional, Dict, Literal, Callable\n",
    "import time\n",
    "import collections\n",
    "import os\n",
    "import sys\n",
    "sys.path.append(os.path.dirname(os.getcwd()))\n",
    "sys.path.append(os.path.dirname(os.path.dirname(os.getcwd())))\n",
    "\n",
    "from tqdm import tqdm\n",
    "import numpy as np\n",
    "import torch\n",
    "import torch.nn as nn\n",
    "from torch import Tensor, tensor\n",
    "import pandas as pd\n",
    "from scipy.optimize import minimize\n",
    "np.set_printoptions(precision=3, threshold=5) # Print options\n",
    "\n",
    "from utils.utils import print_name, print_shape"
   ]
  },
  {
   "cell_type": "markdown",
   "metadata": {},
   "source": [
    "# Scalar case\n",
    "\n",
    "Let $r_i \\in R^d, W\\in R^{d\\times D}, \\Delta \\in R, x_i\\in R^D$ for all $i\\in[N]$. Fix regularization $\\lambda > 0$. Then the minimum of \n",
    "\\begin{align*}\n",
    "    J(\\Delta) = \\frac{1}{N} \\sum_{i=1}^N \\big\\| r_i - W\\Delta x_i \\big\\|^2 + \\lambda \\Delta^2\n",
    "\\end{align*}\n",
    "is attained at\n",
    "\\begin{align*}\n",
    "    \\Delta = \\frac{\\sum_{i=1}^N (Wx_i)^T r_i}{\\sum_{i=1}^N\\big( \\|Wx_i\\|^2 + \\lambda \\big)}\n",
    "\\end{align*}"
   ]
  },
  {
   "cell_type": "code",
   "execution_count": 2,
   "metadata": {},
   "outputs": [],
   "source": [
    "# Parameters\n",
    "d = 200\n",
    "D = 3000\n",
    "N = 1000\n",
    "lambda_reg = 10\n",
    "\n",
    "# Create dummy data\n",
    "np.random.seed(0)\n",
    "r = np.random.randn(N, d)+2\n",
    "W = np.random.randn(d, D)/100\n",
    "x = np.random.randn(N, D)-1\n",
    "\n",
    "def J(Delta):\n",
    "    Wx = W @ x.T\n",
    "    residual = r - Wx.T * Delta\n",
    "    return np.mean(np.linalg.norm(residual, axis=1)**2) + lambda_reg * Delta**2\n",
    "\n",
    "def J_byhand(Delta):\n",
    "    res = 0\n",
    "    for i in range(N):\n",
    "        res += np.linalg.norm(r[i] - W @ x[i] * Delta)**2 / N\n",
    "    return res + lambda_reg * Delta**2"
   ]
  },
  {
   "cell_type": "code",
   "execution_count": 3,
   "metadata": {},
   "outputs": [
    {
     "name": "stdout",
     "output_type": "stream",
     "text": [
      "Closed form solution for Delta: -0.16172555891809534\n",
      "Objective value for closed form solution: 998.3451788766267\n",
      "Objective value for closed form solution (by hand): 998.3451788766267\n",
      "numerator, denominator -21.838381139270073 135.0335796355476\n"
     ]
    }
   ],
   "source": [
    "# Closed form solution numpy\n",
    "Wx = W @ x.T\n",
    "numerator = np.sum(r.T * Wx / N)\n",
    "denominator = np.sum(Wx * Wx / N) + lambda_reg \n",
    "Delta_closed_form = numerator / denominator\n",
    "print(f\"Closed form solution for Delta: {Delta_closed_form}\")\n",
    "print(f\"Objective value for closed form solution: {J(Delta_closed_form)}\")\n",
    "print(f\"Objective value for closed form solution (by hand): {J_byhand(Delta_closed_form)}\")\n",
    "print(\"numerator, denominator\", numerator, denominator)"
   ]
  },
  {
   "cell_type": "code",
   "execution_count": 4,
   "metadata": {},
   "outputs": [
    {
     "name": "stdout",
     "output_type": "stream",
     "text": [
      "Closed form solution for Delta (by hand): -0.16172555891809537\n",
      "Objective value for closed form solution (by hand): 998.3451788766267\n",
      "Objective value for closed form solution (by hand): 998.3451788766267\n",
      "numerator, denominator -21.838381139270066 135.03357963554754\n"
     ]
    }
   ],
   "source": [
    "# Closed from solution by hand\n",
    "numerator = sum([ np.dot(W @ x[i], r[i]) for i in range(N) ])/N\n",
    "denominator = sum([ np.linalg.norm(W @ x[i])**2 for i in range(N) ])/N + lambda_reg\n",
    "Delta_by_hand = numerator / denominator\n",
    "print(f\"Closed form solution for Delta (by hand): {Delta_by_hand}\")\n",
    "print(f\"Objective value for closed form solution (by hand): {J(Delta_by_hand)}\")\n",
    "print(f\"Objective value for closed form solution (by hand): {J_byhand(Delta_by_hand)}\")\n",
    "print(\"numerator, denominator\", numerator, denominator)"
   ]
  },
  {
   "cell_type": "code",
   "execution_count": 5,
   "metadata": {},
   "outputs": [
    {
     "name": "stdout",
     "output_type": "stream",
     "text": [
      "Gradient descent solution for Delta using scipy.optimize: -0.1617255660741791\n",
      "Objective value for gradient descent solution: 998.3451788766267\n",
      "Objective value for closed form solution (by hand): 998.3451788766273\n"
     ]
    }
   ],
   "source": [
    "# Gradient descent solution using scipy.optimiz\n",
    "result = minimize(J, np.random.randn(), method='BFGS')\n",
    "Delta = result.x[0]\n",
    "print(f\"Gradient descent solution for Delta using scipy.optimize: {Delta}\")\n",
    "print(f\"Objective value for gradient descent solution: {J(Delta)}\")\n",
    "print(f\"Objective value for closed form solution (by hand): {J_byhand(Delta)}\")"
   ]
  },
  {
   "cell_type": "markdown",
   "metadata": {},
   "source": [
    "# Diagonal Case\n",
    "\n",
    "Let $r_i \\in R^d, W\\in R^{d\\times D}, \\Delta = diag(\\delta_1, ..., \\delta_D) \\in R^{D\\times D}, x_i\\in R^D$ for all $i\\in[N]$. Fix regularization $\\lambda > 0$. Then the minimum of \n",
    "\\begin{align*}\n",
    "    J(\\Delta) = \\frac{1}{N} \\sum_{i=1}^N \\big\\| r_i - W\\Delta x_i \\big\\|^2 + \\lambda \\|\\Delta\\|^2\n",
    "\\end{align*}\n",
    "is attained by solving the system of linear equations\n",
    "\\begin{align*}\n",
    "    b = (A + \\lambda I)\\Delta\n",
    "\\end{align*}\n",
    "where\n",
    "\\begin{align*}\n",
    "    A_{k,j} = \\frac{1}{N} \\sum_{i=1}^D \\big( W_k x_{i,k} \\big)^T W_j x_{i,j}\n",
    "\\end{align*}\n",
    "and\n",
    "\\begin{align*}\n",
    "    b_k = \\frac{1}{N}\\sum_{i=1}^N r_i^T W_k x_{i,k}\n",
    "\\end{align*}\n"
   ]
  },
  {
   "cell_type": "code",
   "execution_count": 6,
   "metadata": {},
   "outputs": [],
   "source": [
    "# Parameters\n",
    "d = 30\n",
    "D = 20\n",
    "N = 1000\n",
    "lambda_reg = 10\n",
    "\n",
    "# Create dummy data\n",
    "np.random.seed(0)\n",
    "r = np.random.randn(N, d)+2\n",
    "W = np.random.randn(d, D)/100\n",
    "x = np.random.randn(N, D)-1\n",
    "\n",
    "def A_byhand():\n",
    "    A = np.zeros((D, D))\n",
    "    for k in range(D):\n",
    "        for j in range(D):\n",
    "            A[k, j] = np.mean([ x[i, k] * x[i, j] * np.dot(W[:, k], W[:, j]) for i in range(N)])\n",
    "    return A\n",
    "\n",
    "\n",
    "def A():\n",
    "    return (W.T @ W) * (x.T @ x) / N\n",
    "\n",
    "\n",
    "def b_byhand():\n",
    "    b = np.zeros(D)\n",
    "    for k in range(D):\n",
    "        b[k] = np.mean([ x[i, k] * np.dot(W[:, k], r[i]) for i in range(N)])\n",
    "    return b\n",
    "\n",
    "\n",
    "def b():\n",
    "    #return np.mean( (r @ W) * x, axis=0)\n",
    "    #return np.diag(W.T @ r.T @ x) / N\n",
    "    return np.einsum('nd,dk,nk->k', r, W, x) / N"
   ]
  },
  {
   "cell_type": "code",
   "execution_count": 7,
   "metadata": {},
   "outputs": [
    {
     "data": {
      "text/plain": [
       "-9.452887691357992e-21"
      ]
     },
     "execution_count": 7,
     "metadata": {},
     "output_type": "execute_result"
    }
   ],
   "source": [
    "(A() - A_byhand()).mean()"
   ]
  },
  {
   "cell_type": "code",
   "execution_count": 8,
   "metadata": {},
   "outputs": [
    {
     "data": {
      "text/plain": [
       "5.585809592645319e-17"
      ]
     },
     "execution_count": 8,
     "metadata": {},
     "output_type": "execute_result"
    }
   ],
   "source": [
    "(b() - b_byhand()).mean()"
   ]
  },
  {
   "cell_type": "code",
   "execution_count": 9,
   "metadata": {},
   "outputs": [],
   "source": [
    "def J(Delta):\n",
    "    return np.mean(np.linalg.norm(r - x @ np.diag(Delta) @ W.T, axis=1)**2) + lambda_reg * np.linalg.norm(Delta)**2\n",
    "\n",
    "def J_byhand(Delta):\n",
    "    res = 0\n",
    "    for i in range(N):\n",
    "        res += np.linalg.norm(r[i] - W @ (Delta*x[i]))**2 / N\n",
    "    return res + lambda_reg * np.sum(Delta**2)"
   ]
  },
  {
   "cell_type": "code",
   "execution_count": 10,
   "metadata": {},
   "outputs": [
    {
     "name": "stdout",
     "output_type": "stream",
     "text": [
      "Closed form solution for Delta: [-0.005  0.011  0.011 ...  0.006  0.013  0.017]\n",
      "Objective value for closed form solution: 149.0212011905012\n",
      "Objective value for closed form solution (by hand): 149.02120119050105\n"
     ]
    }
   ],
   "source": [
    "b = np.mean( (r @ W) * x, axis=0)\n",
    "A = (W.T @ W) * (x.T @ x) / N\n",
    "Delta_closed_form = np.linalg.solve(A + lambda_reg * np.eye(D), b)\n",
    "print(f\"Closed form solution for Delta: {Delta_closed_form}\")\n",
    "print(f\"Objective value for closed form solution: {J(Delta_closed_form)}\")\n",
    "print(f\"Objective value for closed form solution (by hand): {J_byhand(Delta_closed_form)}\")"
   ]
  },
  {
   "cell_type": "code",
   "execution_count": 11,
   "metadata": {},
   "outputs": [
    {
     "name": "stdout",
     "output_type": "stream",
     "text": [
      "Gradient descent using scipy.optimize: [-0.005  0.011  0.011 ...  0.006  0.013  0.017]\n",
      "Objective value for gradient descent solution: 149.02120119051318\n",
      "Objective value for closed form solution (by hand): 149.02120119051318\n"
     ]
    }
   ],
   "source": [
    "# Gradient descent solution using scipy.optimiz\n",
    "result = minimize(J, np.random.randn(D), method='BFGS')\n",
    "Delta = result.x\n",
    "print(f\"Gradient descent using scipy.optimize: {Delta}\")\n",
    "print(f\"Objective value for gradient descent solution: {J(Delta)}\")\n",
    "print(f\"Objective value for closed form solution (by hand): {J_byhand(Delta)}\")"
   ]
  },
  {
   "cell_type": "markdown",
   "metadata": {},
   "source": [
    "# Dense Case\n",
    "\n",
    "Let $r_i \\in R^d, W\\in R^{d\\times p}, \\Delta = R^{p \\times D}, x_i\\in R^D$ for all $i\\in[N]$. Fix regularization $\\lambda > 0$. Then the minimum of \n",
    "\\begin{align*}\n",
    "    J(\\Delta) = \\frac{1}{N} \\sum_{i=1}^N \\big\\| r_i - W\\Delta x_i \\big\\|^2 + \\lambda \\|\\Delta\\|^2_F\n",
    "\\end{align*}\n",
    "is attained by solving the Sylvester system ... TODO\n",
    "\n",
    "...\n",
    "\n"
   ]
  },
  {
   "cell_type": "code",
   "execution_count": 56,
   "metadata": {},
   "outputs": [],
   "source": [
    "# Parameters\n",
    "d = 1\n",
    "D = 50\n",
    "p = 20 \n",
    "N = 100\n",
    "lambda_reg = 0.1\n",
    "\n",
    "# Create dummy data\n",
    "np.random.seed(0)\n",
    "r = np.random.randn(N, d)+2\n",
    "W = np.random.randn(d, D)/100\n",
    "x = np.random.randn(N, p)-1\n",
    "\n",
    "def J(Delta):\n",
    "    Delta = Delta.reshape(D, p)\n",
    "    return 1/N * np.linalg.norm(W @ Delta @ x.T - r.T)**2 + lambda_reg * np.linalg.norm(Delta)**2\n",
    "\n",
    "def J_byhand(Delta):\n",
    "    Delta = Delta.reshape(D, p)\n",
    "    res = 0\n",
    "    for i in range(N):\n",
    "        res += 1/N * np.linalg.norm(r[i] - W @ Delta @ x[i])**2\n",
    "    return res + lambda_reg * np.linalg.norm(Delta)**2"
   ]
  },
  {
   "cell_type": "code",
   "execution_count": 57,
   "metadata": {},
   "outputs": [
    {
     "name": "stdout",
     "output_type": "stream",
     "text": [
      "(20, 1) (1, 50)\n",
      "(1, 20) (50, 1)\n",
      "[[-4.160e-17 -4.730e-17 -5.720e-17 ... -1.832e-16 -2.032e-16 -2.539e-15]\n",
      " [-3.928e-17 -4.467e-17 -5.401e-17 ... -1.730e-16 -1.919e-16 -2.397e-15]\n",
      " [-3.012e-17 -3.425e-17 -4.141e-17 ... -1.327e-16 -1.471e-16 -1.838e-15]\n",
      " ...\n",
      " [ 3.239e-17  3.684e-17  4.454e-17 ...  1.427e-16  1.583e-16  1.977e-15]\n",
      " [ 9.408e-17  1.070e-16  1.294e-16 ...  4.144e-16  4.597e-16  5.741e-15]\n",
      " [ 2.037e-01  2.316e-01  2.801e-01 ...  8.972e-01  9.951e-01  1.243e+01]] (50, 20)\n"
     ]
    }
   ],
   "source": [
    "SW, U = np.linalg.eigh(W.T @ W)\n",
    "SX, V = np.linalg.eigh(x.T @ x)\n",
    "\n",
    "print(SX[:, None].shape, SW[None, :].shape)\n",
    "print(SX[None, :].shape, SW[:, None].shape)\n",
    "# [[ 0.032  0.04   0.044 ...  0.167  0.201  2.046]\n",
    "#  [ 0.055  0.071  0.077 ...  0.293  0.353  3.588]\n",
    "#  [ 0.067  0.085  0.093 ...  0.351  0.424  4.304]\n",
    "#  ...\n",
    "#  [ 0.119  0.151  0.165 ...  0.626  0.755  7.674]\n",
    "#  [ 0.143  0.182  0.199 ...  0.756  0.911  9.262]\n",
    "#  [ 0.207  0.263  0.288 ...  1.091  1.315 13.365]] (7, 20)\n",
    "\n",
    "# prod = SX[:, None] * SW[None, :]\n",
    "# print(prod, prod.shape)\n",
    "prod = SX[None, :] * SW[:, None]\n",
    "print(prod, prod.shape)"
   ]
  },
  {
   "cell_type": "code",
   "execution_count": 58,
   "metadata": {},
   "outputs": [],
   "source": [
    "def solution_byhand1():\n",
    "    SW, U = np.linalg.eigh(W.T @ W)\n",
    "    SX, V = np.linalg.eigh(x.T @ x)\n",
    "    \n",
    "    Delta = U.T @ W.T @ r.T @ x @ V\n",
    "    for i in range(Delta.shape[0]):\n",
    "        for j in range(Delta.shape[1]):\n",
    "            Delta[i, j] /= (N*lambda_reg + SW[i] * SX[j])\n",
    "    return U @ Delta @ V.T\n",
    "\n",
    "def solution_byhand2():\n",
    "    SW, U = np.linalg.eigh(W.T @ W)\n",
    "    SX, V = np.linalg.eigh(x.T @ x)\n",
    "    \n",
    "    Delta = U @ W.T @ r.T @ x @ V.T\n",
    "    for i in range(Delta.shape[0]):\n",
    "        for j in range(Delta.shape[1]):\n",
    "            Delta[i, j] /= (N * lambda_reg + SW[i] * SX[j])\n",
    "    return U.T @ Delta @ V\n",
    "\n",
    "def solution_byhand3():\n",
    "    Delta = W.T @ r.T @ x / N\n",
    "    SW, U = np.linalg.eigh(W.T @ W)\n",
    "    SX, V = np.linalg.eigh(x.T @ x)\n",
    "    \n",
    "    for i in range(Delta.shape[0]):\n",
    "        for j in range(Delta.shape[1]):\n",
    "            Delta[i, j] /= (N * lambda_reg + SW[i] * SX[j])\n",
    "    return Delta\n",
    "\n",
    "def solution_byhand4():\n",
    "    Delta = W.T @ r.T @ x / N\n",
    "    SW, U = np.linalg.eigh(W.T @ W)\n",
    "    SX, V = np.linalg.eigh(x.T @ x)\n",
    "    \n",
    "    for i in range(Delta.shape[0]):\n",
    "        for j in range(Delta.shape[1]):\n",
    "            Delta[i, j] /= (N * lambda_reg + U[i,i] * V[j,j])\n",
    "    return Delta\n",
    "\n",
    "def solution1():\n",
    "    SW, U = np.linalg.eigh(W.T @ W)\n",
    "    SX, V = np.linalg.eigh(x.T @ x)\n",
    "    Delta = (W.T @ r.T @ x) / (N*lambda_reg + SW[:, None] * SX[None, :])\n",
    "    return Delta\n",
    "\n",
    "def solution2():\n",
    "    SW, U = np.linalg.eigh(W.T @ W)\n",
    "    SX, V = np.linalg.eigh(x.T @ x)\n",
    "    Delta = (W.T @ r.T @ x) / (N*lambda_reg + SW[:, None] * SX[None, :])\n",
    "    return Delta\n",
    "\n",
    "def solution3():\n",
    "    SW, U = np.linalg.eigh(W.T @ W)\n",
    "    SX, V = np.linalg.eigh(x.T @ x)\n",
    "    Delta = (U.T @ W.T @ r.T @ x @ V) / (N*lambda_reg + SW[:, None]*SX[None, :])\n",
    "    return U @ Delta @ V.T\n",
    "\n",
    "def solution4():\n",
    "    SW, U = np.linalg.eigh(W.T @ W)\n",
    "    SX, V = np.linalg.eigh(x.T @ x)\n",
    "    Delta = (U.T @ W.T @ r.T @ x @ V) / (N*lambda_reg + (SW[None, :] * SX[:, None]).T)\n",
    "    return U @ Delta @ V.T"
   ]
  },
  {
   "cell_type": "code",
   "execution_count": 59,
   "metadata": {},
   "outputs": [
    {
     "data": {
      "text/plain": [
       "array([[-0.454, -0.444, -0.376, ..., -0.355, -0.377, -0.347],\n",
       "       [ 0.325,  0.318,  0.269, ...,  0.254,  0.27 ,  0.248],\n",
       "       [ 0.306,  0.3  ,  0.253, ...,  0.24 ,  0.254,  0.234],\n",
       "       ...,\n",
       "       [-0.269, -0.263, -0.223, ..., -0.211, -0.224, -0.206],\n",
       "       [ 0.317,  0.31 ,  0.263, ...,  0.248,  0.263,  0.243],\n",
       "       [ 0.109,  0.106,  0.09 , ...,  0.08 ,  0.084,  0.038]])"
      ]
     },
     "execution_count": 59,
     "metadata": {},
     "output_type": "execute_result"
    }
   ],
   "source": [
    "solution1()"
   ]
  },
  {
   "cell_type": "code",
   "execution_count": 60,
   "metadata": {},
   "outputs": [
    {
     "data": {
      "text/plain": [
       "array([[-0.454, -0.444, -0.376, ..., -0.355, -0.377, -0.347],\n",
       "       [ 0.325,  0.318,  0.269, ...,  0.254,  0.27 ,  0.248],\n",
       "       [ 0.306,  0.3  ,  0.253, ...,  0.24 ,  0.254,  0.234],\n",
       "       ...,\n",
       "       [-0.269, -0.263, -0.223, ..., -0.211, -0.224, -0.206],\n",
       "       [ 0.317,  0.31 ,  0.263, ...,  0.248,  0.263,  0.243],\n",
       "       [ 0.109,  0.106,  0.09 , ...,  0.08 ,  0.084,  0.038]])"
      ]
     },
     "execution_count": 60,
     "metadata": {},
     "output_type": "execute_result"
    }
   ],
   "source": [
    "solution2()"
   ]
  },
  {
   "cell_type": "code",
   "execution_count": 61,
   "metadata": {},
   "outputs": [
    {
     "data": {
      "text/plain": [
       "array([[-0.199, -0.2  , -0.174, ..., -0.164, -0.174, -0.161],\n",
       "       [ 0.142,  0.143,  0.124, ...,  0.118,  0.125,  0.115],\n",
       "       [ 0.134,  0.135,  0.117, ...,  0.111,  0.118,  0.109],\n",
       "       ...,\n",
       "       [-0.118, -0.119, -0.103, ..., -0.097, -0.103, -0.096],\n",
       "       [ 0.139,  0.14 ,  0.121, ...,  0.115,  0.122,  0.113],\n",
       "       [ 0.049,  0.049,  0.043, ...,  0.04 ,  0.043,  0.039]])"
      ]
     },
     "execution_count": 61,
     "metadata": {},
     "output_type": "execute_result"
    }
   ],
   "source": [
    "solution3()"
   ]
  },
  {
   "cell_type": "code",
   "execution_count": 62,
   "metadata": {},
   "outputs": [
    {
     "data": {
      "text/plain": [
       "array([[-0.199, -0.2  , -0.174, ..., -0.164, -0.174, -0.161],\n",
       "       [ 0.142,  0.143,  0.124, ...,  0.118,  0.125,  0.115],\n",
       "       [ 0.134,  0.135,  0.117, ...,  0.111,  0.118,  0.109],\n",
       "       ...,\n",
       "       [-0.118, -0.119, -0.103, ..., -0.097, -0.103, -0.096],\n",
       "       [ 0.139,  0.14 ,  0.121, ...,  0.115,  0.122,  0.113],\n",
       "       [ 0.049,  0.049,  0.043, ...,  0.04 ,  0.043,  0.039]])"
      ]
     },
     "execution_count": 62,
     "metadata": {},
     "output_type": "execute_result"
    }
   ],
   "source": [
    "solution4()"
   ]
  },
  {
   "cell_type": "code",
   "execution_count": 63,
   "metadata": {},
   "outputs": [
    {
     "data": {
      "text/plain": [
       "array([[-0.199, -0.2  , -0.174, ..., -0.164, -0.174, -0.161],\n",
       "       [ 0.142,  0.143,  0.124, ...,  0.118,  0.125,  0.115],\n",
       "       [ 0.134,  0.135,  0.117, ...,  0.111,  0.118,  0.109],\n",
       "       ...,\n",
       "       [-0.118, -0.119, -0.103, ..., -0.097, -0.103, -0.096],\n",
       "       [ 0.139,  0.14 ,  0.121, ...,  0.115,  0.122,  0.113],\n",
       "       [ 0.049,  0.049,  0.043, ...,  0.04 ,  0.043,  0.039]])"
      ]
     },
     "execution_count": 63,
     "metadata": {},
     "output_type": "execute_result"
    }
   ],
   "source": [
    "solution_byhand1()"
   ]
  },
  {
   "cell_type": "code",
   "execution_count": 64,
   "metadata": {},
   "outputs": [
    {
     "data": {
      "text/plain": [
       "array([[-0.451, -0.444, -0.375, ..., -0.354, -0.378, -0.345],\n",
       "       [ 0.326,  0.318,  0.269, ...,  0.255,  0.269,  0.25 ],\n",
       "       [ 0.314,  0.301,  0.256, ...,  0.245,  0.251,  0.24 ],\n",
       "       ...,\n",
       "       [-0.263, -0.262, -0.221, ..., -0.208, -0.226, -0.202],\n",
       "       [ 0.313,  0.31 ,  0.261, ...,  0.246,  0.265,  0.24 ],\n",
       "       [ 0.108,  0.108,  0.091, ...,  0.085,  0.094,  0.083]])"
      ]
     },
     "execution_count": 64,
     "metadata": {},
     "output_type": "execute_result"
    }
   ],
   "source": [
    "solution_byhand2()"
   ]
  },
  {
   "cell_type": "code",
   "execution_count": 65,
   "metadata": {},
   "outputs": [
    {
     "data": {
      "text/plain": [
       "array([[-0.005, -0.004, -0.004, ..., -0.004, -0.004, -0.003],\n",
       "       [ 0.003,  0.003,  0.003, ...,  0.003,  0.003,  0.002],\n",
       "       [ 0.003,  0.003,  0.003, ...,  0.002,  0.003,  0.002],\n",
       "       ...,\n",
       "       [-0.003, -0.003, -0.002, ..., -0.002, -0.002, -0.002],\n",
       "       [ 0.003,  0.003,  0.003, ...,  0.002,  0.003,  0.002],\n",
       "       [ 0.001,  0.001,  0.001, ...,  0.001,  0.001,  0.   ]])"
      ]
     },
     "execution_count": 65,
     "metadata": {},
     "output_type": "execute_result"
    }
   ],
   "source": [
    "solution_byhand3()"
   ]
  },
  {
   "cell_type": "code",
   "execution_count": 66,
   "metadata": {},
   "outputs": [
    {
     "data": {
      "text/plain": [
       "array([[-0.005, -0.004, -0.004, ..., -0.004, -0.004, -0.003],\n",
       "       [ 0.003,  0.003,  0.003, ...,  0.003,  0.003,  0.002],\n",
       "       [ 0.003,  0.003,  0.003, ...,  0.002,  0.003,  0.002],\n",
       "       ...,\n",
       "       [-0.003, -0.003, -0.002, ..., -0.002, -0.002, -0.002],\n",
       "       [ 0.003,  0.003,  0.003, ...,  0.003,  0.003,  0.002],\n",
       "       [ 0.001,  0.001,  0.001, ...,  0.001,  0.001,  0.001]])"
      ]
     },
     "execution_count": 66,
     "metadata": {},
     "output_type": "execute_result"
    }
   ],
   "source": [
    "solution_byhand4()"
   ]
  },
  {
   "cell_type": "code",
   "execution_count": 67,
   "metadata": {},
   "outputs": [
    {
     "name": "stdout",
     "output_type": "stream",
     "text": [
      "\n",
      " <function solution1 at 0x7ffa16d56680> 6.5214046564648465 6.5214046564648465\n",
      "\n",
      " <function solution2 at 0x7ffa16d56950> 6.5214046564648465 6.5214046564648465\n",
      "\n",
      " <function solution3 at 0x7ffa16d570a0> 2.906448688411172 2.906448688411172\n",
      "\n",
      " <function solution4 at 0x7ffa16d568c0> 2.906448688411172 2.906448688411172\n",
      "\n",
      " <function solution_byhand1 at 0x7ffa16d55cf0> 2.906448688411172 2.906448688411172\n",
      "\n",
      " <function solution_byhand2 at 0x7ffa16d56830> 6.5043157860348995 6.5043157860348995\n",
      "\n",
      " <function solution_byhand3 at 0x7ffa16d56c20> 5.154570606135915 5.154570606135918\n",
      "\n",
      " <function solution_byhand4 at 0x7ffa16d56320> 5.1545438852400896 5.154543885240089\n"
     ]
    }
   ],
   "source": [
    "for fun in [solution1, solution2, solution3, solution4, solution_byhand1, solution_byhand2, solution_byhand3, solution_byhand4]:\n",
    "    Delta = fun()\n",
    "    print(f\"\\n\", fun, J(Delta), J_byhand(Delta))"
   ]
  },
  {
   "cell_type": "code",
   "execution_count": 68,
   "metadata": {},
   "outputs": [
    {
     "name": "stdout",
     "output_type": "stream",
     "text": [
      "Gradient descent using scipy.optimize: [[-0.199 -0.2   -0.174 ...  0.14   0.096  0.096]\n",
      " [ 0.13   0.108  0.118 ...  0.102  0.109  0.1  ]\n",
      " [-0.205 -0.207 -0.179 ...  0.082  0.056  0.057]\n",
      " ...\n",
      " [-0.017 -0.014 -0.015 ... -0.208 -0.221 -0.204]\n",
      " [-0.1   -0.101 -0.087 ... -0.123 -0.084 -0.084]\n",
      " [-0.114 -0.095 -0.104 ...  0.04   0.043  0.039]]\n",
      "Objective value for gradient descent solution: 2.9064486885964547\n",
      "Objective value for closed form solution (by hand): 2.9064486885964547\n"
     ]
    }
   ],
   "source": [
    "# Gradient descent solution using scipy.optimiz\n",
    "result = minimize(J, np.random.randn(p*D), method='L-BFGS-B')\n",
    "Delta = result.x.reshape(p, D)\n",
    "print(f\"Gradient descent using scipy.optimize: {Delta}\")\n",
    "print(f\"Objective value for gradient descent solution: {J(Delta)}\")\n",
    "print(f\"Objective value for closed form solution (by hand): {J_byhand(Delta)}\")"
   ]
  }
 ],
 "metadata": {
  "kernelspec": {
   "display_name": "Python 3",
   "language": "python",
   "name": "python3"
  },
  "language_info": {
   "codemirror_mode": {
    "name": "ipython",
    "version": 3
   },
   "file_extension": ".py",
   "mimetype": "text/x-python",
   "name": "python",
   "nbconvert_exporter": "python",
   "pygments_lexer": "ipython3",
   "version": "3.10.14"
  }
 },
 "nbformat": 4,
 "nbformat_minor": 2
}
