{
 "cells": [
  {
   "cell_type": "code",
   "execution_count": 1,
   "metadata": {},
   "outputs": [],
   "source": [
    "from typing import Tuple, List, Union, Any, Optional, Dict, Literal, Callable, Type\n",
    "import abc\n",
    "\n",
    "from tqdm import tqdm\n",
    "import numpy as np\n",
    "import torch\n",
    "import torch.nn as nn\n",
    "import torch.optim\n",
    "import torch.utils.data\n",
    "from torch import Tensor\n",
    "\n",
    "\n",
    "from models.ridge_ALOOCV import fit_ridge_ALOOCV\n",
    "from models.sandwiched_least_squares import sandwiched_LS_dense, sandwiched_LS_diag, sandwiched_LS_scalar"
   ]
  },
  {
   "cell_type": "code",
   "execution_count": 170,
   "metadata": {},
   "outputs": [],
   "source": [
    "# Make regression data X, y\n",
    "N = 1000\n",
    "N_test = 1000\n",
    "D = 10\n",
    "d = 2\n",
    "X = torch.randn(N, D)\n",
    "X_test = torch.randn(N_test, D)\n",
    "w_true = torch.randn(D, d)\n",
    "y = (X @ w_true)**2 + torch.randn(N, d) * 0.1  # Adding some noise\n",
    "y_test = (X_test @ w_true)**2 + torch.randn(N_test, d) * 0.1  # Adding some noise"
   ]
  },
  {
   "cell_type": "code",
   "execution_count": 171,
   "metadata": {},
   "outputs": [
    {
     "name": "stdout",
     "output_type": "stream",
     "text": [
      "train rmse tensor(10.4807) std tensor(0.)\n",
      "test rmse tensor(12.1221) std tensor(0.)\n",
      "train tensor([10.4807, 10.4807, 10.4807, 10.4807, 10.4807, 10.4807, 10.4807, 10.4807,\n",
      "        10.4807, 10.4807])\n",
      "test tensor([12.1221, 12.1221, 12.1221, 12.1221, 12.1221, 12.1221, 12.1221, 12.1221,\n",
      "        12.1221, 12.1221])\n"
     ]
    }
   ],
   "source": [
    "from models.base import RidgeCVModule\n",
    "\n",
    "#dense      \n",
    "model = RidgeCVModule(\n",
    "        lower_alpha=1e-6,\n",
    "        upper_alpha=1e6,\n",
    "        n_alphas=10,\n",
    "     )\n",
    "\n",
    "results = []\n",
    "for i in range(10):\n",
    "    model.fit(X, y)\n",
    "    out = model(X)\n",
    "    out_test = model(X_test)\n",
    "    rmse = torch.sqrt(nn.functional.mse_loss(out, y))\n",
    "    rmse_test = torch.sqrt(nn.functional.mse_loss(out_test, y_test))\n",
    "    results.append(torch.tensor([rmse, rmse_test]))\n",
    "results = torch.stack(results)\n",
    "print(\"train rmse\", results[:, 0].mean(), \"std\", results[:, 0].std())\n",
    "print(\"test rmse\", results[:, 1].mean(), \"std\", results[:, 1].std())\n",
    "print(\"train\", results[:, 0])\n",
    "print(\"test\", results[:, 1])"
   ]
  },
  {
   "cell_type": "code",
   "execution_count": 172,
   "metadata": {},
   "outputs": [
    {
     "name": "stdout",
     "output_type": "stream",
     "text": [
      "train rmse tensor(10.4798) std tensor(0.)\n",
      "test rmse tensor(12.1217) std tensor(0.)\n",
      "train tensor([10.4798, 10.4798, 10.4798, 10.4798, 10.4798, 10.4798, 10.4798, 10.4798,\n",
      "        10.4798, 10.4798])\n",
      "test tensor([12.1217, 12.1217, 12.1217, 12.1217, 12.1217, 12.1217, 12.1217, 12.1217,\n",
      "        12.1217, 12.1217])\n"
     ]
    }
   ],
   "source": [
    "from models.base import RidgeModule\n",
    "\n",
    "#dense      \n",
    "model = RidgeModule(\n",
    "        l2_reg = 1e+2,\n",
    "     )\n",
    "\n",
    "results = []\n",
    "for i in range(10):\n",
    "    model.fit(X, y)\n",
    "    out = model(X)\n",
    "    out_test = model(X_test)\n",
    "    rmse = torch.sqrt(nn.functional.mse_loss(out, y))\n",
    "    rmse_test = torch.sqrt(nn.functional.mse_loss(out_test, y_test))\n",
    "    results.append(torch.tensor([rmse, rmse_test]))\n",
    "results = torch.stack(results)\n",
    "print(\"train rmse\", results[:, 0].mean(), \"std\", results[:, 0].std())\n",
    "print(\"test rmse\", results[:, 1].mean(), \"std\", results[:, 1].std())\n",
    "print(\"train\", results[:, 0])\n",
    "print(\"test\", results[:, 1])"
   ]
  },
  {
   "cell_type": "code",
   "execution_count": 174,
   "metadata": {},
   "outputs": [
    {
     "name": "stdout",
     "output_type": "stream",
     "text": [
      "train rmse tensor(1.4964) std tensor(0.1116)\n",
      "test rmse tensor(2.8064) std tensor(0.2287)\n",
      "train tensor([1.3970, 1.5329, 1.4186, 1.6478, 1.6805, 1.6075, 1.4511, 1.4148, 1.3857,\n",
      "        1.4285])\n",
      "test tensor([2.6418, 2.6560, 2.7093, 3.1223, 3.2234, 3.0175, 2.6113, 2.6443, 2.6364,\n",
      "        2.8020])\n"
     ]
    }
   ],
   "source": [
    "from models.random_feature_representation_boosting import GreedyRFRBoostRegressor\n",
    "\n",
    "model = GreedyRFRBoostRegressor(\n",
    "        in_dim=D,\n",
    "        out_dim=d,\n",
    "        hidden_dim=128,\n",
    "        n_layers=3,\n",
    "        randfeat_xt_dim=128,\n",
    "        randfeat_x0_dim=128,\n",
    "        l2_reg=0.1,\n",
    "        l2_ghat=0.001,\n",
    "        boost_lr=1.0,\n",
    "        sandwich_solver=\"dense\",\n",
    "        feature_type=\"SWIM\",\n",
    "        upscale_type=\"iid\",\n",
    "    )        \n",
    "\n",
    "results = []\n",
    "for i in range(10):\n",
    "    model.fit(X, y)\n",
    "    out = model(X)\n",
    "    out_test = model(X_test)\n",
    "    rmse = torch.sqrt(nn.functional.mse_loss(out, y))\n",
    "    rmse_test = torch.sqrt(nn.functional.mse_loss(out_test, y_test))\n",
    "    results.append(torch.tensor([rmse, rmse_test]))\n",
    "results = torch.stack(results)\n",
    "print(\"train rmse\", results[:, 0].mean(), \"std\", results[:, 0].std())\n",
    "print(\"test rmse\", results[:, 1].mean(), \"std\", results[:, 1].std())\n",
    "print(\"train\", results[:, 0])\n",
    "print(\"test\", results[:, 1])"
   ]
  },
  {
   "cell_type": "code",
   "execution_count": 6,
   "metadata": {},
   "outputs": [],
   "source": [
    "# train rmse tensor(2.3312) std tensor(0.5462)\n",
    "# test rmse tensor(3.3370) std tensor(0.6041)\n",
    "# train tensor([2.5459, 1.9770, 2.1338, 3.6567, 1.9788, 2.5264, 2.1827, 1.9025, 2.6022,\n",
    "#         1.8058])\n",
    "# test tensor([3.7197, 2.8087, 2.9656, 4.6065, 2.9207, 3.3118, 3.1447, 3.0470, 4.0548,\n",
    "#         2.7906])"
   ]
  },
  {
   "cell_type": "code",
   "execution_count": 175,
   "metadata": {},
   "outputs": [
    {
     "name": "stdout",
     "output_type": "stream",
     "text": [
      "train rmse tensor(3.3916) std tensor(0.3645)\n",
      "test rmse tensor(4.7551) std tensor(0.4072)\n",
      "train tensor([3.0822, 3.7635, 3.3762, 3.0931, 3.4500, 4.1593, 3.4233, 2.8789, 3.4191,\n",
      "        3.2703])\n",
      "test tensor([4.3154, 5.1048, 4.8654, 4.5901, 4.6795, 5.6666, 4.7048, 4.2476, 4.8138,\n",
      "        4.5627])\n"
     ]
    }
   ],
   "source": [
    "from models.random_feature_representation_boosting import GreedyRFRBoostRegressor\n",
    "\n",
    "model = GreedyRFRBoostRegressor(\n",
    "        in_dim=D,\n",
    "        out_dim=d,\n",
    "        hidden_dim=128,\n",
    "        n_layers=5,\n",
    "        randfeat_xt_dim=128,\n",
    "        randfeat_x0_dim=128,\n",
    "        l2_reg=0.01,\n",
    "        l2_ghat=0.001,\n",
    "        boost_lr=1.0,\n",
    "        sandwich_solver=\"diag\",\n",
    "        feature_type=\"SWIM\",\n",
    "        upscale_type=\"iid\",\n",
    "    )        \n",
    "\n",
    "results = []\n",
    "for i in range(10):\n",
    "    model.fit(X, y)\n",
    "    out = model(X)\n",
    "    out_test = model(X_test)\n",
    "    rmse = torch.sqrt(nn.functional.mse_loss(out, y))\n",
    "    rmse_test = torch.sqrt(nn.functional.mse_loss(out_test, y_test))\n",
    "    results.append(torch.tensor([rmse, rmse_test]))\n",
    "results = torch.stack(results)\n",
    "print(\"train rmse\", results[:, 0].mean(), \"std\", results[:, 0].std())\n",
    "print(\"test rmse\", results[:, 1].mean(), \"std\", results[:, 1].std())\n",
    "print(\"train\", results[:, 0])\n",
    "print(\"test\", results[:, 1])"
   ]
  },
  {
   "cell_type": "code",
   "execution_count": 177,
   "metadata": {},
   "outputs": [
    {
     "name": "stdout",
     "output_type": "stream",
     "text": [
      "train rmse tensor(8.9572) std tensor(0.0009)\n",
      "test rmse tensor(10.8555) std tensor(0.0010)\n",
      "train tensor([8.9585, 8.9572, 8.9562, 8.9567, 8.9579, 8.9557, 8.9582, 8.9563, 8.9577,\n",
      "        8.9573])\n",
      "test tensor([10.8568, 10.8556, 10.8542, 10.8560, 10.8560, 10.8541, 10.8563, 10.8541,\n",
      "        10.8566, 10.8556])\n"
     ]
    }
   ],
   "source": [
    "from models.random_feature_representation_boosting import GreedyRFRBoostRegressor\n",
    "\n",
    "model = GreedyRFRBoostRegressor(\n",
    "        in_dim=D,\n",
    "        out_dim=d,\n",
    "        hidden_dim=128,\n",
    "        n_layers=5,\n",
    "        randfeat_xt_dim=128,\n",
    "        randfeat_x0_dim=128,\n",
    "        l2_reg=0.01,\n",
    "        l2_ghat=0.000001,\n",
    "        boost_lr=1.0,\n",
    "        sandwich_solver=\"scalar\",\n",
    "        feature_type=\"SWIM\",\n",
    "        upscale_type=\"iid\",\n",
    "    )        \n",
    "\n",
    "results = []\n",
    "for i in range(10):\n",
    "    model.fit(X, y)\n",
    "    out = model(X)\n",
    "    out_test = model(X_test)\n",
    "    rmse = torch.sqrt(nn.functional.mse_loss(out, y))\n",
    "    rmse_test = torch.sqrt(nn.functional.mse_loss(out_test, y_test))\n",
    "    results.append(torch.tensor([rmse, rmse_test]))\n",
    "results = torch.stack(results)\n",
    "print(\"train rmse\", results[:, 0].mean(), \"std\", results[:, 0].std())\n",
    "print(\"test rmse\", results[:, 1].mean(), \"std\", results[:, 1].std())\n",
    "print(\"train\", results[:, 0])\n",
    "print(\"test\", results[:, 1])"
   ]
  },
  {
   "cell_type": "code",
   "execution_count": 181,
   "metadata": {},
   "outputs": [
    {
     "name": "stdout",
     "output_type": "stream",
     "text": [
      "train rmse tensor(0.7125) std tensor(0.0143)\n",
      "test rmse tensor(1.8055) std tensor(0.1001)\n",
      "train tensor([0.7191, 0.6952, 0.7272, 0.6992, 0.7219])\n",
      "test tensor([1.8971, 1.6982, 1.7867, 1.7248, 1.9207])\n"
     ]
    }
   ],
   "source": [
    "from models.random_feature_representation_boosting import GradientRFRBoostRegressor\n",
    "\n",
    "model = GradientRFRBoostRegressor(\n",
    "        in_dim=D,\n",
    "        out_dim=d,\n",
    "        hidden_dim=128,\n",
    "        n_layers=5,\n",
    "        randfeat_xt_dim=128,\n",
    "        randfeat_x0_dim=128,\n",
    "        l2_reg=0.1,\n",
    "        l2_ghat=0.000001,\n",
    "        boost_lr=1.0,\n",
    "        feature_type=\"SWIM\",\n",
    "        upscale_type=\"iid\",\n",
    "    )\n",
    "\n",
    "results = []\n",
    "for i in range(5):\n",
    "    model.fit(X, y)\n",
    "    out = model(X)\n",
    "    out_test = model(X_test)\n",
    "    rmse = torch.sqrt(nn.functional.mse_loss(out, y))\n",
    "    rmse_test = torch.sqrt(nn.functional.mse_loss(out_test, y_test))\n",
    "    results.append(torch.tensor([rmse, rmse_test]))\n",
    "results = torch.stack(results)\n",
    "print(\"train rmse\", results[:, 0].mean(), \"std\", results[:, 0].std())\n",
    "print(\"test rmse\", results[:, 1].mean(), \"std\", results[:, 1].std())\n",
    "print(\"train\", results[:, 0])\n",
    "print(\"test\", results[:, 1])"
   ]
  },
  {
   "cell_type": "markdown",
   "metadata": {},
   "source": [
    "# End2End"
   ]
  },
  {
   "cell_type": "code",
   "execution_count": 182,
   "metadata": {},
   "outputs": [
    {
     "name": "stderr",
     "output_type": "stream",
     "text": [
      "100%|██████████| 30/30 [00:02<00:00, 13.78it/s]\n",
      "100%|██████████| 30/30 [00:02<00:00, 13.07it/s]\n",
      "100%|██████████| 30/30 [00:02<00:00, 14.14it/s]\n",
      "100%|██████████| 30/30 [00:02<00:00, 15.00it/s]\n",
      "100%|██████████| 30/30 [00:02<00:00, 14.76it/s]"
     ]
    },
    {
     "name": "stdout",
     "output_type": "stream",
     "text": [
      "train rmse tensor(1.5679) std tensor(1.1229)\n",
      "test rmse tensor(3.0667) std tensor(0.7017)\n",
      "train tensor([0.6448, 2.6953, 0.9447, 2.8827, 0.6717])\n",
      "test tensor([2.4154, 4.1244, 2.9518, 3.3517, 2.4903])\n"
     ]
    },
    {
     "name": "stderr",
     "output_type": "stream",
     "text": [
      "\n"
     ]
    }
   ],
   "source": [
    "from old.models import End2EndMLPResNet\n",
    "\n",
    "model = End2EndMLPResNet(\n",
    "        in_dim=D,\n",
    "        hidden_dim=128,\n",
    "        bottleneck_dim=32,\n",
    "        out_dim=d,\n",
    "        n_blocks=3,\n",
    "        loss = \"mse\",\n",
    "        lr = 0.1,\n",
    "        n_epochs = 30,\n",
    "        end_lr_factor= 0.1,\n",
    "        weight_decay = 0.001,\n",
    "        batch_size = 64,\n",
    "        )\n",
    "\n",
    "results = []\n",
    "for i in range(5):\n",
    "    model.fit(X, y)\n",
    "    out = model(X)\n",
    "    out_test = model(X_test)\n",
    "    rmse = torch.sqrt(nn.functional.mse_loss(out, y))\n",
    "    rmse_test = torch.sqrt(nn.functional.mse_loss(out_test, y_test))\n",
    "    results.append(torch.tensor([rmse, rmse_test]))\n",
    "results = torch.stack(results)\n",
    "print(\"train rmse\", results[:, 0].mean(), \"std\", results[:, 0].std())\n",
    "print(\"test rmse\", results[:, 1].mean(), \"std\", results[:, 1].std())\n",
    "print(\"train\", results[:, 0])\n",
    "print(\"test\", results[:, 1])"
   ]
  }
 ],
 "metadata": {
  "kernelspec": {
   "display_name": "Python 3",
   "language": "python",
   "name": "python3"
  },
  "language_info": {
   "codemirror_mode": {
    "name": "ipython",
    "version": 3
   },
   "file_extension": ".py",
   "mimetype": "text/x-python",
   "name": "python",
   "nbconvert_exporter": "python",
   "pygments_lexer": "ipython3",
   "version": "3.10.14"
  }
 },
 "nbformat": 4,
 "nbformat_minor": 2
}
