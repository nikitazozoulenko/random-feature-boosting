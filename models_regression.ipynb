{
 "cells": [
  {
   "cell_type": "code",
   "execution_count": 1,
   "metadata": {},
   "outputs": [],
   "source": [
    "from typing import Tuple, List, Union, Any, Optional, Dict, Literal, Callable, Type\n",
    "import abc\n",
    "\n",
    "from tqdm import tqdm\n",
    "import numpy as np\n",
    "import torch\n",
    "import torch.nn as nn\n",
    "import torch.optim\n",
    "import torch.utils.data\n",
    "from torch import Tensor\n",
    "\n",
    "\n",
    "from models.ridge_ALOOCV import fit_ridge_ALOOCV\n",
    "from models.sandwiched_least_squares import sandwiched_LS_dense, sandwiched_LS_diag, sandwiched_LS_scalar"
   ]
  },
  {
   "cell_type": "code",
   "execution_count": 2,
   "metadata": {},
   "outputs": [],
   "source": [
    "# Make regression data X, y\n",
    "N = 1000\n",
    "N_test = 1000\n",
    "D = 10\n",
    "d = 2\n",
    "X = torch.randn(N, D)\n",
    "X_test = torch.randn(N_test, D)\n",
    "w_true = torch.randn(D, d)\n",
    "y = (X @ w_true)**2 + torch.randn(N, d) * 0.1  # Adding some noise\n",
    "y_test = (X_test @ w_true)**2 + torch.randn(N_test, d) * 0.1  # Adding some noise"
   ]
  },
  {
   "cell_type": "code",
   "execution_count": 3,
   "metadata": {},
   "outputs": [
    {
     "name": "stdout",
     "output_type": "stream",
     "text": [
      "train rmse tensor(19.4404) std tensor(0.)\n",
      "test rmse tensor(19.6950) std tensor(0.)\n",
      "train tensor([19.4404, 19.4404, 19.4404, 19.4404, 19.4404, 19.4404, 19.4404, 19.4404,\n",
      "        19.4404, 19.4404])\n",
      "test tensor([19.6950, 19.6950, 19.6950, 19.6950, 19.6950, 19.6950, 19.6950, 19.6950,\n",
      "        19.6950, 19.6950])\n"
     ]
    }
   ],
   "source": [
    "from models.base import RidgeCVModule\n",
    "\n",
    "#dense      \n",
    "model = RidgeCVModule(\n",
    "        lower_alpha=1e-6,\n",
    "        upper_alpha=1e6,\n",
    "        n_alphas=10,\n",
    "     )\n",
    "\n",
    "results = []\n",
    "for i in range(10):\n",
    "    model.fit(X, y)\n",
    "    out = model(X)\n",
    "    out_test = model(X_test)\n",
    "    rmse = torch.sqrt(nn.functional.mse_loss(out, y))\n",
    "    rmse_test = torch.sqrt(nn.functional.mse_loss(out_test, y_test))\n",
    "    results.append(torch.tensor([rmse, rmse_test]))\n",
    "results = torch.stack(results)\n",
    "print(\"train rmse\", results[:, 0].mean(), \"std\", results[:, 0].std())\n",
    "print(\"test rmse\", results[:, 1].mean(), \"std\", results[:, 1].std())\n",
    "print(\"train\", results[:, 0])\n",
    "print(\"test\", results[:, 1])"
   ]
  },
  {
   "cell_type": "code",
   "execution_count": 4,
   "metadata": {},
   "outputs": [
    {
     "name": "stdout",
     "output_type": "stream",
     "text": [
      "train rmse tensor(19.4891) std tensor(0.)\n",
      "test rmse tensor(19.6898) std tensor(0.)\n",
      "train tensor([19.4891, 19.4891, 19.4891, 19.4891, 19.4891, 19.4891, 19.4891, 19.4891,\n",
      "        19.4891, 19.4891])\n",
      "test tensor([19.6898, 19.6898, 19.6898, 19.6898, 19.6898, 19.6898, 19.6898, 19.6898,\n",
      "        19.6898, 19.6898])\n"
     ]
    }
   ],
   "source": [
    "from models.base import RidgeModule\n",
    "\n",
    "#dense      \n",
    "model = RidgeModule(\n",
    "        l2_reg = 1e+2,\n",
    "     )\n",
    "\n",
    "results = []\n",
    "for i in range(10):\n",
    "    model.fit(X, y)\n",
    "    out = model(X)\n",
    "    out_test = model(X_test)\n",
    "    rmse = torch.sqrt(nn.functional.mse_loss(out, y))\n",
    "    rmse_test = torch.sqrt(nn.functional.mse_loss(out_test, y_test))\n",
    "    results.append(torch.tensor([rmse, rmse_test]))\n",
    "results = torch.stack(results)\n",
    "print(\"train rmse\", results[:, 0].mean(), \"std\", results[:, 0].std())\n",
    "print(\"test rmse\", results[:, 1].mean(), \"std\", results[:, 1].std())\n",
    "print(\"train\", results[:, 0])\n",
    "print(\"test\", results[:, 1])"
   ]
  },
  {
   "cell_type": "code",
   "execution_count": 5,
   "metadata": {},
   "outputs": [
    {
     "name": "stdout",
     "output_type": "stream",
     "text": [
      "train rmse tensor(2.19900298118591308594) std tensor(0.09725400060415267944)\n",
      "test rmse tensor(4.06416225433349609375) std tensor(0.15032306313514709473)\n",
      "train tensor([2.09480309486389160156, 2.26082038879394531250, 2.31999373435974121094,\n",
      "        2.25505876541137695312, 2.22264671325683593750, 2.23533487319946289062,\n",
      "        2.00615024566650390625, 2.23011541366577148438, 2.10482168197631835938,\n",
      "        2.26028704643249511719])\n",
      "test tensor([3.89539861679077148438, 4.09609794616699218750, 4.25324440002441406250,\n",
      "        4.07946491241455078125, 4.07455873489379882812, 4.29382181167602539062,\n",
      "        3.80272769927978515625, 4.13765668869018554688, 3.95891666412353515625,\n",
      "        4.04973220825195312500])\n"
     ]
    }
   ],
   "source": [
    "from models.random_feature_representation_boosting import GreedyRFRBoostRegressor\n",
    "\n",
    "model = GreedyRFRBoostRegressor(\n",
    "        in_dim=D,\n",
    "        out_dim=d,\n",
    "        hidden_dim=128,\n",
    "        n_layers=3,\n",
    "        randfeat_xt_dim=128,\n",
    "        randfeat_x0_dim=128,\n",
    "        l2_reg=0.1,\n",
    "        l2_ghat=0.001,\n",
    "        boost_lr=1.0,\n",
    "        sandwich_solver=\"dense\",\n",
    "        feature_type=\"SWIM\",\n",
    "        upscale_type=\"iid\",\n",
    "        use_batchnorm=True,\n",
    "    )        \n",
    "\n",
    "results = []\n",
    "for i in range(10):\n",
    "    model.fit(X, y)\n",
    "    out = model(X)\n",
    "    out_test = model(X_test)\n",
    "    rmse = torch.sqrt(nn.functional.mse_loss(out, y))\n",
    "    rmse_test = torch.sqrt(nn.functional.mse_loss(out_test, y_test))\n",
    "    results.append(torch.tensor([rmse, rmse_test]))\n",
    "results = torch.stack(results)\n",
    "print(\"train rmse\", results[:, 0].mean(), \"std\", results[:, 0].std())\n",
    "print(\"test rmse\", results[:, 1].mean(), \"std\", results[:, 1].std())\n",
    "print(\"train\", results[:, 0])\n",
    "print(\"test\", results[:, 1])"
   ]
  },
  {
   "cell_type": "code",
   "execution_count": 6,
   "metadata": {},
   "outputs": [],
   "source": [
    "# train rmse tensor(2.3312) std tensor(0.5462)\n",
    "# test rmse tensor(3.3370) std tensor(0.6041)\n",
    "# train tensor([2.5459, 1.9770, 2.1338, 3.6567, 1.9788, 2.5264, 2.1827, 1.9025, 2.6022,\n",
    "#         1.8058])\n",
    "# test tensor([3.7197, 2.8087, 2.9656, 4.6065, 2.9207, 3.3118, 3.1447, 3.0470, 4.0548,\n",
    "#         2.7906])"
   ]
  },
  {
   "cell_type": "code",
   "execution_count": 7,
   "metadata": {},
   "outputs": [
    {
     "name": "stdout",
     "output_type": "stream",
     "text": [
      "train rmse tensor(8.67100143432617187500) std tensor(1.08087289333343505859)\n",
      "test rmse tensor(9.87579059600830078125) std tensor(1.23907089233398437500)\n",
      "train tensor([ 9.00820636749267578125,  7.39738178253173828125,\n",
      "         8.20129013061523437500,  9.24033355712890625000,\n",
      "         8.00307273864746093750,  8.97256088256835937500,\n",
      "         8.89156150817871093750, 11.20808506011962890625,\n",
      "         7.85321378707885742188,  7.93431186676025390625])\n",
      "test tensor([10.33485794067382812500,  8.42857551574707031250,\n",
      "         9.14044666290283203125, 10.79509639739990234375,\n",
      "         8.88615894317626953125, 10.16255187988281250000,\n",
      "        10.21448993682861328125, 12.64363288879394531250,\n",
      "         9.00464057922363281250,  9.14745712280273437500])\n"
     ]
    }
   ],
   "source": [
    "from models.random_feature_representation_boosting import GreedyRFRBoostRegressor\n",
    "\n",
    "model = GreedyRFRBoostRegressor(\n",
    "        in_dim=D,\n",
    "        out_dim=d,\n",
    "        hidden_dim=128,\n",
    "        n_layers=5,\n",
    "        randfeat_xt_dim=128,\n",
    "        randfeat_x0_dim=128,\n",
    "        l2_reg=0.01,\n",
    "        l2_ghat=0.001,\n",
    "        boost_lr=1.0,\n",
    "        sandwich_solver=\"diag\",\n",
    "        feature_type=\"SWIM\",\n",
    "        upscale_type=\"iid\",\n",
    "    )        \n",
    "\n",
    "results = []\n",
    "for i in range(10):\n",
    "    model.fit(X, y)\n",
    "    out = model(X)\n",
    "    out_test = model(X_test)\n",
    "    rmse = torch.sqrt(nn.functional.mse_loss(out, y))\n",
    "    rmse_test = torch.sqrt(nn.functional.mse_loss(out_test, y_test))\n",
    "    results.append(torch.tensor([rmse, rmse_test]))\n",
    "results = torch.stack(results)\n",
    "print(\"train rmse\", results[:, 0].mean(), \"std\", results[:, 0].std())\n",
    "print(\"test rmse\", results[:, 1].mean(), \"std\", results[:, 1].std())\n",
    "print(\"train\", results[:, 0])\n",
    "print(\"test\", results[:, 1])"
   ]
  },
  {
   "cell_type": "code",
   "execution_count": 8,
   "metadata": {},
   "outputs": [
    {
     "name": "stdout",
     "output_type": "stream",
     "text": [
      "train rmse tensor(12.69861030578613281250) std tensor(0.00417760899290442467)\n",
      "test rmse tensor(15.31273937225341796875) std tensor(0.00493232859298586845)\n",
      "train tensor([12.69724369049072265625, 12.69814872741699218750,\n",
      "        12.69791984558105468750, 12.70291519165039062500,\n",
      "        12.69032859802246093750, 12.70163631439208984375,\n",
      "        12.70002079010009765625, 12.69331264495849609375,\n",
      "        12.70150566101074218750, 12.70306015014648437500])\n",
      "test tensor([15.30890178680419921875, 15.31397247314453125000,\n",
      "        15.31033992767333984375, 15.31766605377197265625,\n",
      "        15.30603408813476562500, 15.31798648834228515625,\n",
      "        15.31353759765625000000, 15.30506992340087890625,\n",
      "        15.31529808044433593750, 15.31858539581298828125])\n"
     ]
    }
   ],
   "source": [
    "from models.random_feature_representation_boosting import GreedyRFRBoostRegressor\n",
    "\n",
    "model = GreedyRFRBoostRegressor(\n",
    "        in_dim=D,\n",
    "        out_dim=d,\n",
    "        hidden_dim=128,\n",
    "        n_layers=5,\n",
    "        randfeat_xt_dim=128,\n",
    "        randfeat_x0_dim=128,\n",
    "        l2_reg=0.01,\n",
    "        l2_ghat=0.000001,\n",
    "        boost_lr=1.0,\n",
    "        sandwich_solver=\"scalar\",\n",
    "        feature_type=\"SWIM\",\n",
    "        upscale_type=\"iid\",\n",
    "    )        \n",
    "\n",
    "results = []\n",
    "for i in range(10):\n",
    "    model.fit(X, y)\n",
    "    out = model(X)\n",
    "    out_test = model(X_test)\n",
    "    rmse = torch.sqrt(nn.functional.mse_loss(out, y))\n",
    "    rmse_test = torch.sqrt(nn.functional.mse_loss(out_test, y_test))\n",
    "    results.append(torch.tensor([rmse, rmse_test]))\n",
    "results = torch.stack(results)\n",
    "print(\"train rmse\", results[:, 0].mean(), \"std\", results[:, 0].std())\n",
    "print(\"test rmse\", results[:, 1].mean(), \"std\", results[:, 1].std())\n",
    "print(\"train\", results[:, 0])\n",
    "print(\"test\", results[:, 1])"
   ]
  },
  {
   "cell_type": "code",
   "execution_count": 9,
   "metadata": {},
   "outputs": [
    {
     "name": "stdout",
     "output_type": "stream",
     "text": [
      "train rmse tensor(1.00112879276275634766) std tensor(0.04419291764497756958)\n",
      "test rmse tensor(2.71724319458007812500) std tensor(0.26086470484733581543)\n",
      "train tensor([1.02486670017242431641, 1.06815397739410400391, 0.97267210483551025391,\n",
      "        0.96833872795104980469, 0.97161233425140380859])\n",
      "test tensor([2.87840771675109863281, 3.08482718467712402344, 2.43233823776245117188,\n",
      "        2.58510398864746093750, 2.60553836822509765625])\n"
     ]
    }
   ],
   "source": [
    "from models.random_feature_representation_boosting import GradientRFRBoostRegressor\n",
    "\n",
    "model = GradientRFRBoostRegressor(\n",
    "        in_dim=D,\n",
    "        out_dim=d,\n",
    "        hidden_dim=128,\n",
    "        n_layers=5,\n",
    "        randfeat_xt_dim=128,\n",
    "        randfeat_x0_dim=128,\n",
    "        l2_reg=0.1,\n",
    "        l2_ghat=0.000001,\n",
    "        boost_lr=1.0,\n",
    "        feature_type=\"SWIM\",\n",
    "        upscale_type=\"iid\",\n",
    "    )\n",
    "\n",
    "results = []\n",
    "for i in range(5):\n",
    "    model.fit(X, y)\n",
    "    out = model(X)\n",
    "    out_test = model(X_test)\n",
    "    rmse = torch.sqrt(nn.functional.mse_loss(out, y))\n",
    "    rmse_test = torch.sqrt(nn.functional.mse_loss(out_test, y_test))\n",
    "    results.append(torch.tensor([rmse, rmse_test]))\n",
    "results = torch.stack(results)\n",
    "print(\"train rmse\", results[:, 0].mean(), \"std\", results[:, 0].std())\n",
    "print(\"test rmse\", results[:, 1].mean(), \"std\", results[:, 1].std())\n",
    "print(\"train\", results[:, 0])\n",
    "print(\"test\", results[:, 1])"
   ]
  },
  {
   "cell_type": "markdown",
   "metadata": {},
   "source": [
    "# End2End"
   ]
  },
  {
   "cell_type": "code",
   "execution_count": 10,
   "metadata": {},
   "outputs": [
    {
     "name": "stderr",
     "output_type": "stream",
     "text": [
      "100%|██████████| 30/30 [00:02<00:00, 11.75it/s]\n",
      "100%|██████████| 30/30 [00:02<00:00, 12.01it/s]\n",
      "100%|██████████| 30/30 [00:02<00:00, 11.04it/s]\n",
      "100%|██████████| 30/30 [00:02<00:00, 10.43it/s]\n",
      "100%|██████████| 30/30 [00:02<00:00, 11.01it/s]"
     ]
    },
    {
     "name": "stdout",
     "output_type": "stream",
     "text": [
      "train rmse tensor(2.86127591133117675781) std tensor(1.92053639888763427734)\n",
      "test rmse tensor(3.33172488212585449219) std tensor(1.81116974353790283203)\n",
      "train tensor([1.59191846847534179688, 4.87590885162353515625, 1.38130116462707519531,\n",
      "        5.04846191406250000000, 1.40878915786743164062])\n",
      "test tensor([2.17513227462768554688, 5.21700000762939453125, 1.73355352878570556641,\n",
      "        5.39392375946044921875, 2.13901424407958984375])\n"
     ]
    },
    {
     "name": "stderr",
     "output_type": "stream",
     "text": [
      "\n"
     ]
    }
   ],
   "source": [
    "from old.models import End2EndMLPResNet\n",
    "\n",
    "model = End2EndMLPResNet(\n",
    "        in_dim=D,\n",
    "        hidden_dim=128,\n",
    "        bottleneck_dim=32,\n",
    "        out_dim=d,\n",
    "        n_blocks=3,\n",
    "        loss = \"mse\",\n",
    "        lr = 0.1,\n",
    "        n_epochs = 30,\n",
    "        end_lr_factor= 0.1,\n",
    "        weight_decay = 0.001,\n",
    "        batch_size = 64,\n",
    "        )\n",
    "\n",
    "results = []\n",
    "for i in range(5):\n",
    "    model.fit(X, y)\n",
    "    out = model(X)\n",
    "    out_test = model(X_test)\n",
    "    rmse = torch.sqrt(nn.functional.mse_loss(out, y))\n",
    "    rmse_test = torch.sqrt(nn.functional.mse_loss(out_test, y_test))\n",
    "    results.append(torch.tensor([rmse, rmse_test]))\n",
    "results = torch.stack(results)\n",
    "print(\"train rmse\", results[:, 0].mean(), \"std\", results[:, 0].std())\n",
    "print(\"test rmse\", results[:, 1].mean(), \"std\", results[:, 1].std())\n",
    "print(\"train\", results[:, 0])\n",
    "print(\"test\", results[:, 1])"
   ]
  }
 ],
 "metadata": {
  "kernelspec": {
   "display_name": "Python 3",
   "language": "python",
   "name": "python3"
  },
  "language_info": {
   "codemirror_mode": {
    "name": "ipython",
    "version": 3
   },
   "file_extension": ".py",
   "mimetype": "text/x-python",
   "name": "python",
   "nbconvert_exporter": "python",
   "pygments_lexer": "ipython3",
   "version": "3.10.14"
  }
 },
 "nbformat": 4,
 "nbformat_minor": 2
}
