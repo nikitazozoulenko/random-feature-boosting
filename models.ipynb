{
 "cells": [
  {
   "cell_type": "code",
   "execution_count": 1,
   "metadata": {},
   "outputs": [],
   "source": [
    "from typing import Tuple, List, Union, Any, Optional, Dict, Literal, Callable, Type\n",
    "import abc\n",
    "\n",
    "from tqdm import tqdm\n",
    "import numpy as np\n",
    "import torch\n",
    "import torch.nn as nn\n",
    "import torch.optim\n",
    "import torch.utils.data\n",
    "from torch import Tensor\n",
    "\n",
    "\n",
    "from models.ridge_ALOOCV import fit_ridge_ALOOCV\n",
    "from models.sandwiched_least_squares import sandwiched_LS_dense, sandwiched_LS_diag, sandwiched_LS_scalar"
   ]
  },
  {
   "cell_type": "code",
   "execution_count": 2,
   "metadata": {},
   "outputs": [],
   "source": [
    "# Make regression data X, y\n",
    "N = 1000\n",
    "N_test = 1000\n",
    "D = 10\n",
    "d = 2\n",
    "X = torch.randn(N, D)\n",
    "X_test = torch.randn(N_test, D)\n",
    "w_true = torch.randn(D, d)\n",
    "y = (X @ w_true)**2 + torch.randn(N, d) * 0.1  # Adding some noise\n",
    "y_test = (X_test @ w_true)**2 + torch.randn(N_test, d) * 0.1  # Adding some noise"
   ]
  },
  {
   "cell_type": "code",
   "execution_count": 3,
   "metadata": {},
   "outputs": [
    {
     "name": "stdout",
     "output_type": "stream",
     "text": [
      "train rmse tensor(15.4181) std tensor(1.0053e-06)\n",
      "test rmse tensor(15.8648) std tensor(1.0053e-06)\n",
      "train tensor([15.4181, 15.4181, 15.4181, 15.4181, 15.4181, 15.4181, 15.4181, 15.4181,\n",
      "        15.4181, 15.4181])\n",
      "test tensor([15.8648, 15.8648, 15.8648, 15.8648, 15.8648, 15.8648, 15.8648, 15.8648,\n",
      "        15.8648, 15.8648])\n"
     ]
    }
   ],
   "source": [
    "from old.models import RidgeCVModule\n",
    "\n",
    "#dense      \n",
    "model = RidgeCVModule(\n",
    "        lower_alpha=1e-6,\n",
    "        upper_alpha=1e6,\n",
    "        n_alphas=10,\n",
    "     )\n",
    "\n",
    "results = []\n",
    "for i in range(10):\n",
    "    model.fit(X, y)\n",
    "    out = model(X)\n",
    "    out_test = model(X_test)\n",
    "    rmse = torch.sqrt(nn.functional.mse_loss(out, y))\n",
    "    rmse_test = torch.sqrt(nn.functional.mse_loss(out_test, y_test))\n",
    "    results.append(torch.tensor([rmse, rmse_test]))\n",
    "results = torch.stack(results)\n",
    "print(\"train rmse\", results[:, 0].mean(), \"std\", results[:, 0].std())\n",
    "print(\"test rmse\", results[:, 1].mean(), \"std\", results[:, 1].std())\n",
    "print(\"train\", results[:, 0])\n",
    "print(\"test\", results[:, 1])"
   ]
  },
  {
   "cell_type": "code",
   "execution_count": 54,
   "metadata": {},
   "outputs": [
    {
     "name": "stdout",
     "output_type": "stream",
     "text": [
      "train rmse tensor(0.5208) std tensor(0.0157)\n",
      "test rmse tensor(1.4119) std tensor(0.0530)\n",
      "train tensor([0.5097, 0.5011, 0.5402, 0.5228, 0.5302])\n",
      "test tensor([1.3475, 1.4079, 1.4519, 1.3759, 1.4765])\n"
     ]
    }
   ],
   "source": [
    "from models.random_feature_boosting import GreedyRFBoostRegressor\n",
    "\n",
    "model = GreedyRFBoostRegressor(\n",
    "        in_dim=D,\n",
    "        out_dim=d,\n",
    "        hidden_dim=128,\n",
    "        n_layers=5,\n",
    "        randfeat_xt_dim=512,\n",
    "        randfeat_x0_dim=512,\n",
    "        l2_reg=0.1,\n",
    "        l2_ghat=0.001,\n",
    "        boost_lr=1.0,\n",
    "        sandwich_solver=\"dense\",\n",
    "        feature_type=\"SWIM\",\n",
    "        upscale_type=\"iid\",\n",
    "    )        \n",
    "\n",
    "results = []\n",
    "for i in range(5):\n",
    "    model.fit(X, y)\n",
    "    out = model(X)\n",
    "    out_test = model(X_test)\n",
    "    rmse = torch.sqrt(nn.functional.mse_loss(out, y))\n",
    "    rmse_test = torch.sqrt(nn.functional.mse_loss(out_test, y_test))\n",
    "    results.append(torch.tensor([rmse, rmse_test]))\n",
    "results = torch.stack(results)\n",
    "print(\"train rmse\", results[:, 0].mean(), \"std\", results[:, 0].std())\n",
    "print(\"test rmse\", results[:, 1].mean(), \"std\", results[:, 1].std())\n",
    "print(\"train\", results[:, 0])\n",
    "print(\"test\", results[:, 1])"
   ]
  },
  {
   "cell_type": "code",
   "execution_count": 5,
   "metadata": {},
   "outputs": [],
   "source": [
    "# train rmse tensor(2.3312) std tensor(0.5462)\n",
    "# test rmse tensor(3.3370) std tensor(0.6041)\n",
    "# train tensor([2.5459, 1.9770, 2.1338, 3.6567, 1.9788, 2.5264, 2.1827, 1.9025, 2.6022,\n",
    "#         1.8058])\n",
    "# test tensor([3.7197, 2.8087, 2.9656, 4.6065, 2.9207, 3.3118, 3.1447, 3.0470, 4.0548,\n",
    "#         2.7906])"
   ]
  },
  {
   "cell_type": "code",
   "execution_count": 6,
   "metadata": {},
   "outputs": [
    {
     "name": "stdout",
     "output_type": "stream",
     "text": [
      "train rmse tensor(4.3488) std tensor(0.3546)\n",
      "test rmse tensor(5.7388) std tensor(0.5112)\n",
      "train tensor([4.4656, 3.9879, 4.2363, 4.4247, 4.4911, 3.5892, 4.3382, 4.4682, 4.5911,\n",
      "        4.8959])\n",
      "test tensor([5.6735, 5.3793, 5.4282, 5.7887, 6.1953, 4.6483, 5.7691, 6.1447, 5.8929,\n",
      "        6.4685])\n"
     ]
    }
   ],
   "source": [
    "from models.random_feature_boosting import GreedyRFBoostRegressor\n",
    "\n",
    "model = GreedyRFBoostRegressor(\n",
    "        in_dim=D,\n",
    "        out_dim=d,\n",
    "        hidden_dim=128,\n",
    "        n_layers=5,\n",
    "        randfeat_xt_dim=128,\n",
    "        randfeat_x0_dim=128,\n",
    "        l2_reg=0.01,\n",
    "        l2_ghat=0.0001,\n",
    "        boost_lr=1.0,\n",
    "        sandwich_solver=\"diag\",\n",
    "        feature_type=\"SWIM\",\n",
    "        upscale_type=\"iid\",\n",
    "    )        \n",
    "\n",
    "results = []\n",
    "for i in range(10):\n",
    "    model.fit(X, y)\n",
    "    out = model(X)\n",
    "    out_test = model(X_test)\n",
    "    rmse = torch.sqrt(nn.functional.mse_loss(out, y))\n",
    "    rmse_test = torch.sqrt(nn.functional.mse_loss(out_test, y_test))\n",
    "    results.append(torch.tensor([rmse, rmse_test]))\n",
    "results = torch.stack(results)\n",
    "print(\"train rmse\", results[:, 0].mean(), \"std\", results[:, 0].std())\n",
    "print(\"test rmse\", results[:, 1].mean(), \"std\", results[:, 1].std())\n",
    "print(\"train\", results[:, 0])\n",
    "print(\"test\", results[:, 1])"
   ]
  },
  {
   "cell_type": "code",
   "execution_count": 7,
   "metadata": {},
   "outputs": [
    {
     "name": "stdout",
     "output_type": "stream",
     "text": [
      "train rmse tensor(12.6554) std tensor(0.0016)\n",
      "test rmse tensor(13.8479) std tensor(0.0018)\n",
      "train tensor([12.6556, 12.6555, 12.6552, 12.6559, 12.6550, 12.6556, 12.6512, 12.6570,\n",
      "        12.6570, 12.6559])\n",
      "test tensor([13.8486, 13.8485, 13.8471, 13.8480, 13.8478, 13.8475, 13.8431, 13.8493,\n",
      "        13.8492, 13.8494])\n"
     ]
    }
   ],
   "source": [
    "from models.random_feature_boosting import GreedyRFBoostRegressor\n",
    "\n",
    "model = GreedyRFBoostRegressor(\n",
    "        in_dim=D,\n",
    "        out_dim=d,\n",
    "        hidden_dim=128,\n",
    "        n_layers=5,\n",
    "        randfeat_xt_dim=128,\n",
    "        randfeat_x0_dim=128,\n",
    "        l2_reg=0.01,\n",
    "        l2_ghat=0.0001,\n",
    "        boost_lr=1.0,\n",
    "        sandwich_solver=\"scalar\",\n",
    "        feature_type=\"SWIM\",\n",
    "        upscale_type=\"iid\",\n",
    "    )        \n",
    "\n",
    "results = []\n",
    "for i in range(10):\n",
    "    model.fit(X, y)\n",
    "    out = model(X)\n",
    "    out_test = model(X_test)\n",
    "    rmse = torch.sqrt(nn.functional.mse_loss(out, y))\n",
    "    rmse_test = torch.sqrt(nn.functional.mse_loss(out_test, y_test))\n",
    "    results.append(torch.tensor([rmse, rmse_test]))\n",
    "results = torch.stack(results)\n",
    "print(\"train rmse\", results[:, 0].mean(), \"std\", results[:, 0].std())\n",
    "print(\"test rmse\", results[:, 1].mean(), \"std\", results[:, 1].std())\n",
    "print(\"train\", results[:, 0])\n",
    "print(\"test\", results[:, 1])"
   ]
  },
  {
   "cell_type": "code",
   "execution_count": 50,
   "metadata": {},
   "outputs": [
    {
     "name": "stdout",
     "output_type": "stream",
     "text": [
      "train rmse tensor(0.5189) std tensor(0.0006)\n",
      "test rmse tensor(1.1643) std tensor(0.0758)\n",
      "train tensor([0.5185, 0.5196, 0.5183, 0.5187, 0.5193])\n",
      "test tensor([1.2378, 1.0961, 1.2547, 1.1072, 1.1256])\n"
     ]
    }
   ],
   "source": [
    "from models.random_feature_boosting import GradientRFBoostRegressor\n",
    "\n",
    "model = GradientRFBoostRegressor(\n",
    "        in_dim=D,\n",
    "        out_dim=d,\n",
    "        hidden_dim=128,\n",
    "        n_layers=5,\n",
    "        randfeat_xt_dim=512,\n",
    "        randfeat_x0_dim=512,\n",
    "        l2_reg=0.1,\n",
    "        l2_ghat=0.000001,\n",
    "        boost_lr=1.0,\n",
    "        feature_type=\"SWIM\",\n",
    "        upscale_type=\"iid\",\n",
    "    )\n",
    "\n",
    "results = []\n",
    "for i in range(5):\n",
    "    model.fit(X, y)\n",
    "    out = model(X)\n",
    "    out_test = model(X_test)\n",
    "    rmse = torch.sqrt(nn.functional.mse_loss(out, y))\n",
    "    rmse_test = torch.sqrt(nn.functional.mse_loss(out_test, y_test))\n",
    "    results.append(torch.tensor([rmse, rmse_test]))\n",
    "results = torch.stack(results)\n",
    "print(\"train rmse\", results[:, 0].mean(), \"std\", results[:, 0].std())\n",
    "print(\"test rmse\", results[:, 1].mean(), \"std\", results[:, 1].std())\n",
    "print(\"train\", results[:, 0])\n",
    "print(\"test\", results[:, 1])"
   ]
  },
  {
   "cell_type": "code",
   "execution_count": null,
   "metadata": {},
   "outputs": [
    {
     "name": "stdout",
     "output_type": "stream",
     "text": [
      "train rmse tensor(0.6617) std tensor(0.0463)\n",
      "test rmse tensor(1.5217) std tensor(0.0757)\n",
      "train tensor([0.7035, 0.5931, 0.7167, 0.6517, 0.6372, 0.7311, 0.6287, 0.6797, 0.6674,\n",
      "        0.6079])\n",
      "test tensor([1.5882, 1.4314, 1.6341, 1.5020, 1.4991, 1.6404, 1.4503, 1.4768, 1.5366,\n",
      "        1.4577])\n"
     ]
    }
   ],
   "source": [
    "# from old.models import GradientRFBoostRegressor\n",
    "\n",
    "# model = GradientRFBoostRegressor(\n",
    "#      hidden_dim=128, \n",
    "#      randfeat_xt_dim=512, \n",
    "#      randfeat_x0_dim=512,\n",
    "#      n_layers=5, \n",
    "#      feature_type=\"SWIM\", \n",
    "#      upscale=\"dense\", \n",
    "#      )\n",
    "\n",
    "# results = []\n",
    "# for i in range(10):\n",
    "#     model.fit(X, y)\n",
    "#     out = model(X)\n",
    "#     out_test = model(X_test)\n",
    "#     rmse = torch.sqrt(nn.functional.mse_loss(out, y))\n",
    "#     rmse_test = torch.sqrt(nn.functional.mse_loss(out_test, y_test))\n",
    "#     results.append(torch.tensor([rmse, rmse_test]))\n",
    "# results = torch.stack(results)\n",
    "# print(\"train rmse\", results[:, 0].mean(), \"std\", results[:, 0].std())\n",
    "# print(\"test rmse\", results[:, 1].mean(), \"std\", results[:, 1].std())\n",
    "# print(\"train\", results[:, 0])\n",
    "# print(\"test\", results[:, 1])"
   ]
  },
  {
   "cell_type": "markdown",
   "metadata": {},
   "source": [
    "# End2End"
   ]
  },
  {
   "cell_type": "code",
   "execution_count": 10,
   "metadata": {},
   "outputs": [
    {
     "name": "stderr",
     "output_type": "stream",
     "text": [
      "100%|██████████| 30/30 [00:02<00:00, 13.33it/s]\n",
      "100%|██████████| 30/30 [00:01<00:00, 15.25it/s]\n",
      "100%|██████████| 30/30 [00:02<00:00, 13.11it/s]\n",
      "100%|██████████| 30/30 [00:02<00:00, 12.58it/s]\n",
      "100%|██████████| 30/30 [00:02<00:00, 13.82it/s]"
     ]
    },
    {
     "name": "stdout",
     "output_type": "stream",
     "text": [
      "train rmse tensor(1.8853) std tensor(1.3225)\n",
      "test rmse tensor(2.6152) std tensor(0.9681)\n",
      "train tensor([1.0172, 3.1286, 0.8292, 3.5199, 0.9316])\n",
      "test tensor([2.0540, 3.1394, 2.0177, 4.0727, 1.7921])\n"
     ]
    },
    {
     "name": "stderr",
     "output_type": "stream",
     "text": [
      "\n"
     ]
    }
   ],
   "source": [
    "from old.models import End2EndMLPResNet\n",
    "\n",
    "model = End2EndMLPResNet(\n",
    "        in_dim=D,\n",
    "        hidden_dim=128,\n",
    "        bottleneck_dim=32,\n",
    "        out_dim=d,\n",
    "        n_blocks=3,\n",
    "        loss = \"mse\",\n",
    "        lr = 0.1,\n",
    "        n_epochs = 30,\n",
    "        end_lr_factor= 0.1,\n",
    "        weight_decay = 0.001,\n",
    "        batch_size = 64,\n",
    "        )\n",
    "\n",
    "results = []\n",
    "for i in range(5):\n",
    "    model.fit(X, y)\n",
    "    out = model(X)\n",
    "    out_test = model(X_test)\n",
    "    rmse = torch.sqrt(nn.functional.mse_loss(out, y))\n",
    "    rmse_test = torch.sqrt(nn.functional.mse_loss(out_test, y_test))\n",
    "    results.append(torch.tensor([rmse, rmse_test]))\n",
    "results = torch.stack(results)\n",
    "print(\"train rmse\", results[:, 0].mean(), \"std\", results[:, 0].std())\n",
    "print(\"test rmse\", results[:, 1].mean(), \"std\", results[:, 1].std())\n",
    "print(\"train\", results[:, 0])\n",
    "print(\"test\", results[:, 1])"
   ]
  }
 ],
 "metadata": {
  "kernelspec": {
   "display_name": "Python 3",
   "language": "python",
   "name": "python3"
  },
  "language_info": {
   "codemirror_mode": {
    "name": "ipython",
    "version": 3
   },
   "file_extension": ".py",
   "mimetype": "text/x-python",
   "name": "python",
   "nbconvert_exporter": "python",
   "pygments_lexer": "ipython3",
   "version": "3.10.14"
  }
 },
 "nbformat": 4,
 "nbformat_minor": 2
}
