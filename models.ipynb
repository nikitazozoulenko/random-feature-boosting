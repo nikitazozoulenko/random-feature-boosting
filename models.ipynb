{
 "cells": [
  {
   "cell_type": "code",
   "execution_count": 2,
   "metadata": {},
   "outputs": [],
   "source": [
    "from typing import Tuple, List, Union, Any, Optional, Dict, Literal, Callable, Type\n",
    "import abc\n",
    "\n",
    "from tqdm import tqdm\n",
    "import numpy as np\n",
    "import torch\n",
    "import torch.nn as nn\n",
    "import torch.nn.functional as F\n",
    "import torch.optim\n",
    "import torch.utils.data\n",
    "from torch import Tensor\n",
    "from sklearn.linear_model import RidgeClassifierCV\n",
    "import xgboost as xgb\n",
    "\n",
    "from models.ridge_ALOOCV import fit_ridge_ALOOCV\n",
    "from models.sandwiched_least_squares import sandwiched_LS_dense, sandwiched_LS_diag, sandwiched_LS_scalar"
   ]
  },
  {
   "cell_type": "code",
   "execution_count": 3,
   "metadata": {},
   "outputs": [],
   "source": [
    "# Make regression data X, y\n",
    "N = 1000\n",
    "N_test = 1000\n",
    "D = 10\n",
    "d = 3\n",
    "X = torch.randn(N, D)\n",
    "X_test = torch.randn(N_test, D)\n",
    "w_true = torch.randn(D, d)\n",
    "y = X @ w_true + torch.randn(N, d) * 0.1  # Adding some noise\n",
    "y_test = X_test @ w_true + torch.randn(N_test, d) * 0.1  # Adding some noise"
   ]
  },
  {
   "cell_type": "code",
   "execution_count": 4,
   "metadata": {},
   "outputs": [
    {
     "name": "stdout",
     "output_type": "stream",
     "text": [
      "out_test tensor([[ 1.3051,  0.1853,  6.4380],\n",
      "        [ 0.2428, -1.9974,  2.6660],\n",
      "        [ 2.6222,  0.5761,  1.3131],\n",
      "        ...,\n",
      "        [-2.0423,  6.3859,  1.9665],\n",
      "        [ 1.4709, -0.7372,  1.1072],\n",
      "        [-1.3249, -2.3761, -3.7148]])\n",
      "train rmse tensor(0.0936)\n",
      "test rmse tensor(0.1042)\n"
     ]
    }
   ],
   "source": [
    "from models.models import GreedyRandFeatBoostRegression\n",
    "\n",
    "#dense      \n",
    "model = GreedyRandFeatBoostRegression(\n",
    "     hidden_dim=128, \n",
    "     bottleneck_dim=128, \n",
    "     out_dim=d, \n",
    "     n_layers=5, \n",
    "     l2_reg=0.01, \n",
    "     feature_type=\"SWIM\", \n",
    "     upscale=\"dense\", \n",
    "     sandwich_solver=\"dense\"\n",
    "     )\n",
    "model.fit(X, y)\n",
    "out = model(X)\n",
    "out_test = model(X_test)\n",
    "print(\"out_test\", out_test)\n",
    "rmse = torch.sqrt(F.mse_loss(out, y))\n",
    "rmse_test = torch.sqrt(F.mse_loss(out_test, y_test))\n",
    "print(\"train rmse\", rmse)\n",
    "print(\"test rmse\", rmse_test)"
   ]
  },
  {
   "cell_type": "code",
   "execution_count": 5,
   "metadata": {},
   "outputs": [
    {
     "name": "stdout",
     "output_type": "stream",
     "text": [
      "out_test tensor([[ 1.2558,  0.1604,  6.3965],\n",
      "        [ 0.2072, -2.0072,  2.6722],\n",
      "        [ 2.6354,  0.5783,  1.2984],\n",
      "        ...,\n",
      "        [-2.0159,  6.3566,  1.9361],\n",
      "        [ 1.4744, -0.7536,  1.1107],\n",
      "        [-1.3342, -2.3875, -3.7189]])\n",
      "train rmse tensor(0.0987)\n",
      "test rmse tensor(0.1019)\n"
     ]
    }
   ],
   "source": [
    "#diag\n",
    "model = GreedyRandFeatBoostRegression(\n",
    "     hidden_dim=128, \n",
    "     bottleneck_dim=128, \n",
    "     out_dim=d, \n",
    "     n_layers=5, \n",
    "     l2_reg=0.01, \n",
    "     feature_type=\"SWIM\", \n",
    "     upscale=\"dense\", \n",
    "     sandwich_solver=\"diag\"\n",
    "     )\n",
    "model.fit(X, y)\n",
    "out = model(X)\n",
    "out_test = model(X_test)\n",
    "print(\"out_test\", out_test)\n",
    "rmse = torch.sqrt(F.mse_loss(out, y))\n",
    "rmse_test = torch.sqrt(F.mse_loss(out_test, y_test))\n",
    "print(\"train rmse\", rmse)\n",
    "print(\"test rmse\", rmse_test)"
   ]
  },
  {
   "cell_type": "code",
   "execution_count": 6,
   "metadata": {},
   "outputs": [
    {
     "name": "stdout",
     "output_type": "stream",
     "text": [
      "out_test tensor([[ 1.2725,  0.1859,  6.3949],\n",
      "        [ 0.2064, -2.0042,  2.6664],\n",
      "        [ 2.6210,  0.5817,  1.3088],\n",
      "        ...,\n",
      "        [-2.0131,  6.3515,  1.9350],\n",
      "        [ 1.4768, -0.7548,  1.1051],\n",
      "        [-1.3420, -2.3914, -3.7309]])\n",
      "train rmse tensor(0.0994)\n",
      "test rmse tensor(0.1017)\n"
     ]
    }
   ],
   "source": [
    "#scalar\n",
    "model = GreedyRandFeatBoostRegression(\n",
    "     hidden_dim=128, \n",
    "     bottleneck_dim=128, \n",
    "     out_dim=d, \n",
    "     n_layers=5, \n",
    "     l2_reg=0.01, \n",
    "     feature_type=\"SWIM\", \n",
    "     upscale=\"dense\", \n",
    "     sandwich_solver=\"scalar\"\n",
    "     )\n",
    "model.fit(X, y)\n",
    "out = model(X)\n",
    "out_test = model(X_test)\n",
    "print(\"out_test\", out_test)\n",
    "rmse = torch.sqrt(F.mse_loss(out, y))\n",
    "rmse_test = torch.sqrt(F.mse_loss(out_test, y_test))\n",
    "print(\"train rmse\", rmse)\n",
    "print(\"test rmse\", rmse_test)"
   ]
  },
  {
   "cell_type": "code",
   "execution_count": 7,
   "metadata": {},
   "outputs": [
    {
     "name": "stdout",
     "output_type": "stream",
     "text": [
      "out_test tensor([[ 1.2727,  0.1853,  6.3953],\n",
      "        [ 0.2064, -2.0044,  2.6665],\n",
      "        [ 2.6208,  0.5820,  1.3090],\n",
      "        ...,\n",
      "        [-2.0132,  6.3523,  1.9345],\n",
      "        [ 1.4770, -0.7545,  1.1053],\n",
      "        [-1.3421, -2.3920, -3.7299]])\n",
      "train rmse tensor(0.0994)\n",
      "test rmse tensor(0.1017)\n"
     ]
    }
   ],
   "source": [
    "from models.models import GradientRandFeatBoostRegression\n",
    "        \n",
    "model = GradientRandFeatBoostRegression(\n",
    "     hidden_dim=128, \n",
    "     bottleneck_dim=128, \n",
    "     out_dim=d, \n",
    "     n_layers=5, \n",
    "     feature_type=\"SWIM\", \n",
    "     upscale=\"dense\", \n",
    "     )\n",
    "model.fit(X, y)\n",
    "out = model(X)\n",
    "out_test = model(X_test)\n",
    "print(\"out_test\", out_test)\n",
    "rmse = torch.sqrt(F.mse_loss(out, y))\n",
    "rmse_test = torch.sqrt(F.mse_loss(out_test, y_test))\n",
    "print(\"train rmse\", rmse)\n",
    "print(\"test rmse\", rmse_test)"
   ]
  },
  {
   "cell_type": "markdown",
   "metadata": {},
   "source": [
    "# End2End"
   ]
  },
  {
   "cell_type": "code",
   "execution_count": 8,
   "metadata": {},
   "outputs": [
    {
     "name": "stderr",
     "output_type": "stream",
     "text": [
      "100%|██████████| 30/30 [00:02<00:00, 12.33it/s]"
     ]
    },
    {
     "name": "stdout",
     "output_type": "stream",
     "text": [
      "out_test tensor([[ 1.1037, -0.1023,  6.7920],\n",
      "        [ 0.1250, -2.1999,  2.8912],\n",
      "        [ 2.2738,  0.5330,  1.5370],\n",
      "        ...,\n",
      "        [-2.2105,  6.0674,  2.2782],\n",
      "        [ 1.2726, -0.9610,  1.3701],\n",
      "        [-1.2881, -2.2969, -3.9952]], grad_fn=<AddmmBackward0>)\n",
      "train rmse tensor(0.1462, grad_fn=<SqrtBackward0>)\n",
      "test rmse tensor(0.2552, grad_fn=<SqrtBackward0>)\n"
     ]
    },
    {
     "name": "stderr",
     "output_type": "stream",
     "text": [
      "\n"
     ]
    }
   ],
   "source": [
    "from models.models import End2EndMLPResNet\n",
    "\n",
    "model = End2EndMLPResNet(\n",
    "        in_dim=D,\n",
    "        hidden_dim=32,\n",
    "        bottleneck_dim=32,\n",
    "        out_dim=d,\n",
    "        n_blocks=3,\n",
    "        loss = \"mse\",\n",
    "        lr = 0.01,\n",
    "        n_epochs = 30,\n",
    "        end_lr_factor= 0.1,\n",
    "        weight_decay = 0.001,\n",
    "        batch_size = 64,\n",
    "        )\n",
    "model.fit(X, y)\n",
    "out = model(X)\n",
    "out_test = model(X_test)\n",
    "print(\"out_test\", out_test)\n",
    "rmse = torch.sqrt(F.mse_loss(out, y))\n",
    "rmse_test = torch.sqrt(F.mse_loss(out_test, y_test))\n",
    "print(\"train rmse\", rmse)\n",
    "print(\"test rmse\", rmse_test)"
   ]
  },
  {
   "cell_type": "markdown",
   "metadata": {},
   "source": [
    "# Next model"
   ]
  }
 ],
 "metadata": {
  "kernelspec": {
   "display_name": "Python 3",
   "language": "python",
   "name": "python3"
  },
  "language_info": {
   "codemirror_mode": {
    "name": "ipython",
    "version": 3
   },
   "file_extension": ".py",
   "mimetype": "text/x-python",
   "name": "python",
   "nbconvert_exporter": "python",
   "pygments_lexer": "ipython3",
   "version": "3.10.14"
  }
 },
 "nbformat": 4,
 "nbformat_minor": 2
}
