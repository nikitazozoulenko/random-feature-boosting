{
 "cells": [
  {
   "cell_type": "code",
   "execution_count": 1,
   "metadata": {},
   "outputs": [],
   "source": [
    "from typing import Tuple, List, Union, Any, Optional, Dict, Literal, Callable, Type\n",
    "import abc\n",
    "\n",
    "from tqdm import tqdm\n",
    "import numpy as np\n",
    "import torch\n",
    "import torch.nn as nn\n",
    "import torch.nn.functional as F\n",
    "import torch.optim\n",
    "import torch.utils.data\n",
    "from torch import Tensor\n",
    "from sklearn.linear_model import RidgeClassifierCV\n",
    "import xgboost as xgb\n",
    "\n",
    "from models.ridge_ALOOCV import fit_ridge_ALOOCV\n",
    "from models.sandwiched_least_squares import sandwiched_LS_dense, sandwiched_LS_diag, sandwiched_LS_scalar"
   ]
  },
  {
   "cell_type": "code",
   "execution_count": 2,
   "metadata": {},
   "outputs": [],
   "source": [
    "# Make regression data X, y\n",
    "N = 1000\n",
    "N_test = 1000\n",
    "D = 10\n",
    "d = 3\n",
    "X = torch.randn(N, D)\n",
    "X_test = torch.randn(N_test, D)\n",
    "w_true = torch.randn(D, d)\n",
    "y = (X @ w_true)**2 + torch.randn(N, d) * 0.1  # Adding some noise\n",
    "y_test = X_test @ w_true + torch.randn(N_test, d) * 0.1  # Adding some noise"
   ]
  },
  {
   "cell_type": "code",
   "execution_count": 3,
   "metadata": {},
   "outputs": [
    {
     "name": "stdout",
     "output_type": "stream",
     "text": [
      "out_test tensor([[14.1505,  4.9657,  2.2133],\n",
      "        [34.0824,  0.1670,  3.2919],\n",
      "        [ 1.2454, 16.6651,  0.1111],\n",
      "        ...,\n",
      "        [16.8812,  2.3296,  0.8744],\n",
      "        [31.5556, -0.3879,  1.0041],\n",
      "        [ 4.3109,  1.9008, 14.1609]])\n",
      "train rmse tensor(3.0064)\n",
      "test rmse tensor(13.0762)\n"
     ]
    }
   ],
   "source": [
    "from models.models import GreedyRandFeatBoostRegression\n",
    "\n",
    "#dense      \n",
    "model = GreedyRandFeatBoostRegression(\n",
    "     hidden_dim=128, \n",
    "     bottleneck_dim=128, \n",
    "     out_dim=d, \n",
    "     n_layers=5, \n",
    "     l2_reg=1, \n",
    "     feature_type=\"SWIM\", \n",
    "     upscale=\"dense\", \n",
    "     sandwich_solver=\"dense\"\n",
    "     )\n",
    "model.fit(X, y)\n",
    "out = model(X)\n",
    "out_test = model(X_test)\n",
    "print(\"out_test\", out_test)\n",
    "rmse = torch.sqrt(F.mse_loss(out, y))\n",
    "rmse_test = torch.sqrt(F.mse_loss(out_test, y_test))\n",
    "print(\"train rmse\", rmse)\n",
    "print(\"test rmse\", rmse_test)"
   ]
  },
  {
   "cell_type": "code",
   "execution_count": 13,
   "metadata": {},
   "outputs": [
    {
     "name": "stdout",
     "output_type": "stream",
     "text": [
      "out_test tensor([[ 8.0390,  2.8302,  3.4341],\n",
      "        [40.1104,  0.3094,  3.5824],\n",
      "        [ 1.4164, 22.1556,  2.5424],\n",
      "        ...,\n",
      "        [15.4025,  3.0093,  3.4398],\n",
      "        [23.7276, 12.1786, -0.3501],\n",
      "        [ 2.8341, -0.4218, 13.2662]])\n",
      "train rmse tensor(3.8690)\n",
      "test rmse tensor(12.6157)\n"
     ]
    }
   ],
   "source": [
    "#diag\n",
    "model = GreedyRandFeatBoostRegression(\n",
    "     hidden_dim=128, \n",
    "     bottleneck_dim=128, \n",
    "     out_dim=d, \n",
    "     n_layers=5, \n",
    "     l2_reg=1, \n",
    "     feature_type=\"dense\", \n",
    "     upscale=\"dense\", \n",
    "     sandwich_solver=\"diag\"\n",
    "     )\n",
    "model.fit(X, y)\n",
    "out = model(X)\n",
    "out_test = model(X_test)\n",
    "print(\"out_test\", out_test)\n",
    "rmse = torch.sqrt(F.mse_loss(out, y))\n",
    "rmse_test = torch.sqrt(F.mse_loss(out_test, y_test))\n",
    "print(\"train rmse\", rmse)\n",
    "print(\"test rmse\", rmse_test)"
   ]
  },
  {
   "cell_type": "code",
   "execution_count": 14,
   "metadata": {},
   "outputs": [
    {
     "name": "stdout",
     "output_type": "stream",
     "text": [
      "out_test tensor([[11.0543,  6.0320,  5.5818],\n",
      "        [ 9.3400,  5.8141,  3.9483],\n",
      "        [10.5396,  6.5556,  4.8600],\n",
      "        ...,\n",
      "        [10.7161,  5.9109,  4.6081],\n",
      "        [ 7.3195,  7.1261,  3.8941],\n",
      "        [ 9.6393,  6.2542,  6.0133]])\n",
      "train rmse tensor(10.1228)\n",
      "test rmse tensor(8.0810)\n"
     ]
    }
   ],
   "source": [
    "#scalar\n",
    "model = GreedyRandFeatBoostRegression(\n",
    "     hidden_dim=128, \n",
    "     bottleneck_dim=128, \n",
    "     out_dim=d, \n",
    "     n_layers=5, \n",
    "     l2_reg=100, \n",
    "     feature_type=\"dense\", \n",
    "     upscale=\"dense\", \n",
    "     sandwich_solver=\"scalar\"\n",
    "     )\n",
    "model.fit(X, y)\n",
    "out = model(X)\n",
    "out_test = model(X_test)\n",
    "print(\"out_test\", out_test)\n",
    "rmse = torch.sqrt(F.mse_loss(out, y))\n",
    "rmse_test = torch.sqrt(F.mse_loss(out_test, y_test))\n",
    "print(\"train rmse\", rmse)\n",
    "print(\"test rmse\", rmse_test)"
   ]
  },
  {
   "cell_type": "code",
   "execution_count": 11,
   "metadata": {},
   "outputs": [
    {
     "name": "stdout",
     "output_type": "stream",
     "text": [
      "out_test tensor([[20.0471, -0.6396,  4.5811],\n",
      "        [26.8040,  1.1201,  3.9404],\n",
      "        [10.2454, 11.4717, -0.0879],\n",
      "        ...,\n",
      "        [ 9.8228,  3.6318,  4.6900],\n",
      "        [30.8450,  7.5195,  2.5502],\n",
      "        [-2.1990,  2.3350, 13.0190]])\n",
      "train rmse tensor(5.9362)\n",
      "test rmse tensor(12.0385)\n"
     ]
    }
   ],
   "source": [
    "from models.models import GradientRandFeatBoostRegression\n",
    "        \n",
    "model = GradientRandFeatBoostRegression(\n",
    "     hidden_dim=128, \n",
    "     bottleneck_dim=128, \n",
    "     out_dim=d, \n",
    "     n_layers=5, \n",
    "     feature_type=\"dense\", \n",
    "     upscale=\"dense\", \n",
    "     )\n",
    "model.fit(X, y)\n",
    "out = model(X)\n",
    "out_test = model(X_test)\n",
    "print(\"out_test\", out_test)\n",
    "rmse = torch.sqrt(F.mse_loss(out, y))\n",
    "rmse_test = torch.sqrt(F.mse_loss(out_test, y_test))\n",
    "print(\"train rmse\", rmse)\n",
    "print(\"test rmse\", rmse_test)"
   ]
  },
  {
   "cell_type": "markdown",
   "metadata": {},
   "source": [
    "# End2End"
   ]
  },
  {
   "cell_type": "code",
   "execution_count": 16,
   "metadata": {},
   "outputs": [
    {
     "name": "stderr",
     "output_type": "stream",
     "text": [
      "100%|██████████| 30/30 [00:02<00:00, 14.41it/s]"
     ]
    },
    {
     "name": "stdout",
     "output_type": "stream",
     "text": [
      "out_test tensor([[ 3.9181,  1.1993, -0.2938],\n",
      "        [ 4.5210, -0.3196, -0.8746],\n",
      "        [-0.4343,  0.8500,  1.0927],\n",
      "        ...,\n",
      "        [ 2.3061, -0.7238, -0.9102],\n",
      "        [ 2.7411,  3.0595,  0.2622],\n",
      "        [-2.1720,  0.6815,  0.7976]], grad_fn=<AddmmBackward0>)\n",
      "train rmse tensor(11.6170, grad_fn=<SqrtBackward0>)\n",
      "test rmse tensor(3.5688, grad_fn=<SqrtBackward0>)\n"
     ]
    },
    {
     "name": "stderr",
     "output_type": "stream",
     "text": [
      "\n"
     ]
    }
   ],
   "source": [
    "from models.models import End2EndMLPResNet\n",
    "\n",
    "model = End2EndMLPResNet(\n",
    "        in_dim=D,\n",
    "        hidden_dim=32,\n",
    "        bottleneck_dim=32,\n",
    "        out_dim=d,\n",
    "        n_blocks=3,\n",
    "        loss = \"mse\",\n",
    "        lr = 0.0001,\n",
    "        n_epochs = 30,\n",
    "        end_lr_factor= 0.1,\n",
    "        weight_decay = 0.001,\n",
    "        batch_size = 64,\n",
    "        )\n",
    "model.fit(X, y)\n",
    "out = model(X)\n",
    "out_test = model(X_test)\n",
    "print(\"out_test\", out_test)\n",
    "rmse = torch.sqrt(F.mse_loss(out, y))\n",
    "rmse_test = torch.sqrt(F.mse_loss(out_test, y_test))\n",
    "print(\"train rmse\", rmse)\n",
    "print(\"test rmse\", rmse_test)"
   ]
  },
  {
   "cell_type": "markdown",
   "metadata": {},
   "source": [
    "# Next model f(x_t, x_0)"
   ]
  }
 ],
 "metadata": {
  "kernelspec": {
   "display_name": "Python 3",
   "language": "python",
   "name": "python3"
  },
  "language_info": {
   "codemirror_mode": {
    "name": "ipython",
    "version": 3
   },
   "file_extension": ".py",
   "mimetype": "text/x-python",
   "name": "python",
   "nbconvert_exporter": "python",
   "pygments_lexer": "ipython3",
   "version": "3.10.14"
  }
 },
 "nbformat": 4,
 "nbformat_minor": 2
}
